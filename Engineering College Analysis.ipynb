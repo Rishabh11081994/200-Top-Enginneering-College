{
 "cells": [
  {
   "cell_type": "markdown",
   "id": "aab73660",
   "metadata": {},
   "source": [
    "## Details of the data set is mentione below."
   ]
  },
  {
   "cell_type": "markdown",
   "id": "f1ccd5c5",
   "metadata": {},
   "source": [
    "India is 2nd world's largest population country and every year lacks student get their college degree from various institutes in India I scrap a website containing the top 200 colleges in India in 2022, a dataset containing a list of colleges from rank 1 to 200 and some other features,\n",
    "the feature is explained below:-\n",
    "1)rank:- 1-200 ranking of the college according to different parameters🔥🔥\n",
    "\n",
    "2)name:- the name of the respective college\n",
    "\n",
    "3)ownership:- which organization own the college there are two values either public or private\n",
    "\n",
    "4)grade:- the grade of college higher count of 'A' the good score will max(5)\n",
    "\n",
    "5)TLR(Teaching-learning resources)= define resources as materials used by a teacher to supplement classroom instruction or to stimulate the interest of learners in simple quality content delivered to students.\n",
    "\n",
    "6)RPC(Research and Professional Practice) developing knowledge and experience, which are standard within a field or profession, and involves information-gathering procedures that are a part of the typical relationship between practitioners\n",
    "\n",
    "7)GO(graduation Outcome)= to understand whether recent graduates are in employment, have continued with further study or are doing something else\n",
    "\n",
    "8)OI(outreach and inclusivity)=> it contains the following factors the number of students from another state or countries, per cent of women, facility for physically challenged student\n",
    "\n",
    "9)perc(peer perception):- college perception in the market, stakeholder, facility perception, student perception, perception of other universities for you.\n",
    "\n",
    "10)total:- overall percentage\n",
    "\n",
    "if you have any difficulty in any of the features please visit the link NIRF](https://www.nirfindia.org/parameter)"
   ]
  },
  {
   "cell_type": "markdown",
   "id": "36aceb89",
   "metadata": {},
   "source": [
    "The data set was taken from college where someone downloaded the data set from official website run by National institutional\n",
    "Ranking Framework. The data set contains top 200 engineering colleges of India\n",
    "and ranks based on the research, graduation outcome, outreach inclusivity,teaching resource\n",
    "material, perception of the peer group about colleges etc.\n",
    "\n",
    "We have taken an effort to visualise the data and completed the descriptive \n",
    "as well as inferential analysis using hypothesis testing. In the hypothesis testing\n",
    "annova, shapiro, kruskal etc tests were applied in the project and their results are \n",
    "stated.  The interest has been put to find how the ranking of private or public colleges vary\n",
    ". The steps were taken to categorise the college name into three category like IIT, NIT\n",
    "and others. Further the data was analysed based on this."
   ]
  },
  {
   "cell_type": "markdown",
   "id": "b7397481",
   "metadata": {},
   "source": [
    "### Importing relevant libraries"
   ]
  },
  {
   "cell_type": "code",
   "execution_count": 417,
   "id": "7c3f4d93",
   "metadata": {},
   "outputs": [],
   "source": [
    "import pandas as pd\n",
    "import numpy as np"
   ]
  },
  {
   "cell_type": "code",
   "execution_count": 418,
   "id": "f7b358cb",
   "metadata": {},
   "outputs": [],
   "source": [
    "import matplotlib.pyplot as plt\n",
    "import seaborn as sns\n",
    "import plotly.express as px"
   ]
  },
  {
   "cell_type": "code",
   "execution_count": 419,
   "id": "af024d57",
   "metadata": {},
   "outputs": [],
   "source": [
    "from plotly.subplots import make_subplots\n",
    "import plotly.graph_objects as go"
   ]
  },
  {
   "cell_type": "code",
   "execution_count": 437,
   "id": "071dc79d",
   "metadata": {},
   "outputs": [],
   "source": [
    "from scipy import stats\n",
    "\n",
    "import statsmodels.api as sm\n",
    "from statsmodels.formula.api import ols\n",
    "from statsmodels.stats.anova import anova_lm\n",
    "import scikit_posthocs"
   ]
  },
  {
   "cell_type": "markdown",
   "id": "af15c491",
   "metadata": {},
   "source": [
    "## Cleaning data "
   ]
  },
  {
   "cell_type": "code",
   "execution_count": 122,
   "id": "35d009f8",
   "metadata": {},
   "outputs": [
    {
     "data": {
      "text/html": [
       "<div>\n",
       "<style scoped>\n",
       "    .dataframe tbody tr th:only-of-type {\n",
       "        vertical-align: middle;\n",
       "    }\n",
       "\n",
       "    .dataframe tbody tr th {\n",
       "        vertical-align: top;\n",
       "    }\n",
       "\n",
       "    .dataframe thead th {\n",
       "        text-align: right;\n",
       "    }\n",
       "</style>\n",
       "<table border=\"1\" class=\"dataframe\">\n",
       "  <thead>\n",
       "    <tr style=\"text-align: right;\">\n",
       "      <th></th>\n",
       "      <th>rank</th>\n",
       "      <th>name</th>\n",
       "      <th>owner_ship</th>\n",
       "      <th>grade</th>\n",
       "      <th>TLR</th>\n",
       "      <th>RPC</th>\n",
       "      <th>go</th>\n",
       "      <th>oi</th>\n",
       "      <th>perc</th>\n",
       "      <th>total</th>\n",
       "    </tr>\n",
       "  </thead>\n",
       "  <tbody>\n",
       "    <tr>\n",
       "      <th>0</th>\n",
       "      <td>1</td>\n",
       "      <td>IIT Madras - Indian Institute of Technology</td>\n",
       "      <td>Public/Government</td>\n",
       "      <td>AAAAA</td>\n",
       "      <td>94.62</td>\n",
       "      <td>97.66</td>\n",
       "      <td>80.42</td>\n",
       "      <td>62.85</td>\n",
       "      <td>100.0</td>\n",
       "      <td>90.04</td>\n",
       "    </tr>\n",
       "    <tr>\n",
       "      <th>1</th>\n",
       "      <td>2</td>\n",
       "      <td>IIT Delhi - Indian Institute of Technology</td>\n",
       "      <td>Public/Government</td>\n",
       "      <td>AAAAA</td>\n",
       "      <td>86.95</td>\n",
       "      <td>96.00</td>\n",
       "      <td>83.43</td>\n",
       "      <td>68.56</td>\n",
       "      <td>96.92</td>\n",
       "      <td>88.12</td>\n",
       "    </tr>\n",
       "    <tr>\n",
       "      <th>2</th>\n",
       "      <td>3</td>\n",
       "      <td>IIT Bombay - Indian Institute of Technology</td>\n",
       "      <td>Public/Government</td>\n",
       "      <td>AAAAA</td>\n",
       "      <td>87.53</td>\n",
       "      <td>90.82</td>\n",
       "      <td>79.18</td>\n",
       "      <td>57.36</td>\n",
       "      <td>88.7</td>\n",
       "      <td>83.96</td>\n",
       "    </tr>\n",
       "    <tr>\n",
       "      <th>3</th>\n",
       "      <td>4</td>\n",
       "      <td>IIT Kanpur - Indian Institute of Technology</td>\n",
       "      <td>Public/Government</td>\n",
       "      <td>AAAAA</td>\n",
       "      <td>87.95</td>\n",
       "      <td>79.98</td>\n",
       "      <td>89.71</td>\n",
       "      <td>59.47</td>\n",
       "      <td>83.01</td>\n",
       "      <td>82.56</td>\n",
       "    </tr>\n",
       "    <tr>\n",
       "      <th>4</th>\n",
       "      <td>5</td>\n",
       "      <td>IIT Kharagpur - Indian Institute of Technology</td>\n",
       "      <td>Public/Government</td>\n",
       "      <td>AAAAA</td>\n",
       "      <td>79.21</td>\n",
       "      <td>84.61</td>\n",
       "      <td>80.91</td>\n",
       "      <td>53.09</td>\n",
       "      <td>82.63</td>\n",
       "      <td>78.89</td>\n",
       "    </tr>\n",
       "  </tbody>\n",
       "</table>\n",
       "</div>"
      ],
      "text/plain": [
       "   rank                                            name         owner_ship  \\\n",
       "0     1     IIT Madras - Indian Institute of Technology  Public/Government   \n",
       "1     2      IIT Delhi - Indian Institute of Technology  Public/Government   \n",
       "2     3     IIT Bombay - Indian Institute of Technology  Public/Government   \n",
       "3     4     IIT Kanpur - Indian Institute of Technology  Public/Government   \n",
       "4     5  IIT Kharagpur - Indian Institute of Technology  Public/Government   \n",
       "\n",
       "   grade    TLR    RPC     go     oi   perc  total  \n",
       "0  AAAAA  94.62  97.66  80.42  62.85  100.0  90.04  \n",
       "1  AAAAA  86.95  96.00  83.43  68.56  96.92  88.12  \n",
       "2  AAAAA  87.53  90.82  79.18  57.36   88.7  83.96  \n",
       "3  AAAAA  87.95  79.98  89.71  59.47  83.01  82.56  \n",
       "4  AAAAA  79.21  84.61  80.91  53.09  82.63  78.89  "
      ]
     },
     "execution_count": 122,
     "metadata": {},
     "output_type": "execute_result"
    }
   ],
   "source": [
    "data  = pd.read_csv('archive/200_top_Engineering_Colleges_india.csv') # reading the csv file\n",
    "data.drop(columns=['Unnamed: 0'],axis =1 ,inplace=True)\n",
    "data.head()"
   ]
  },
  {
   "cell_type": "code",
   "execution_count": 123,
   "id": "f43fdb3a",
   "metadata": {},
   "outputs": [
    {
     "data": {
      "text/plain": [
       "(200, 10)"
      ]
     },
     "execution_count": 123,
     "metadata": {},
     "output_type": "execute_result"
    }
   ],
   "source": [
    "data.shape"
   ]
  },
  {
   "cell_type": "code",
   "execution_count": 476,
   "id": "ab7202d9",
   "metadata": {},
   "outputs": [
    {
     "data": {
      "text/plain": [
       "rank            int64\n",
       "name           object\n",
       "owner_ship     object\n",
       "grade          object\n",
       "TLR           float64\n",
       "RPC           float64\n",
       "go            float64\n",
       "oi            float64\n",
       "perc          float64\n",
       "total         float64\n",
       "dtype: object"
      ]
     },
     "execution_count": 476,
     "metadata": {},
     "output_type": "execute_result"
    }
   ],
   "source": [
    "data.dtypes"
   ]
  },
  {
   "cell_type": "code",
   "execution_count": 477,
   "id": "ae6bdcc3",
   "metadata": {},
   "outputs": [],
   "source": [
    "for col in data.select_dtypes(include=object).columns: # removing trailing spaces from the data\n",
    "    data[col] = data[col].apply(lambda x: str.strip(x))"
   ]
  },
  {
   "cell_type": "code",
   "execution_count": 478,
   "id": "7a8bc128",
   "metadata": {},
   "outputs": [],
   "source": [
    "def cleanSpaceEmptyString(element): # function to replace empty string with null values so panda can recognize it\n",
    "        if element == '' or element==' ' or element=='none' :\n",
    "            return np.nan\n",
    "        else:\n",
    "            return element"
   ]
  },
  {
   "cell_type": "code",
   "execution_count": 479,
   "id": "5648fdb9",
   "metadata": {},
   "outputs": [],
   "source": [
    "data['perc']=data['perc'].apply(cleanSpaceEmptyString) # applying function to remove the empty string and replace with null values\n",
    "data['total']= data['total'].apply(cleanSpaceEmptyString)\n",
    "data['grade'] = data['grade'].apply(cleanSpaceEmptyString)\n",
    "data['perc']=data['perc'].astype('float') # change the data type from string to float\n",
    "data['total']= data['total'].astype(\"float\")\n"
   ]
  },
  {
   "cell_type": "code",
   "execution_count": 480,
   "id": "a94b8944",
   "metadata": {},
   "outputs": [],
   "source": [
    "data['perc']=data['perc'].fillna(method='ffill') # replacing null values with forward filling\n",
    "data['total']=data['total'].fillna(method='ffill')\n",
    "data['grade'] = data['grade'].fillna(method ='ffill')\n",
    "# here the data is in sorted order on the bases of ranking of college, so forward or backward value filling approach\n",
    "# is better to replace null values"
   ]
  },
  {
   "cell_type": "markdown",
   "id": "7fc5ac1f",
   "metadata": {},
   "source": [
    "## Descriptive Analysis and Visualization"
   ]
  },
  {
   "cell_type": "code",
   "execution_count": 481,
   "id": "a21410ff",
   "metadata": {},
   "outputs": [
    {
     "data": {
      "text/html": [
       "<div>\n",
       "<style scoped>\n",
       "    .dataframe tbody tr th:only-of-type {\n",
       "        vertical-align: middle;\n",
       "    }\n",
       "\n",
       "    .dataframe tbody tr th {\n",
       "        vertical-align: top;\n",
       "    }\n",
       "\n",
       "    .dataframe thead th {\n",
       "        text-align: right;\n",
       "    }\n",
       "</style>\n",
       "<table border=\"1\" class=\"dataframe\">\n",
       "  <thead>\n",
       "    <tr style=\"text-align: right;\">\n",
       "      <th></th>\n",
       "      <th>rank</th>\n",
       "      <th>TLR</th>\n",
       "      <th>RPC</th>\n",
       "      <th>go</th>\n",
       "      <th>oi</th>\n",
       "      <th>perc</th>\n",
       "      <th>total</th>\n",
       "    </tr>\n",
       "  </thead>\n",
       "  <tbody>\n",
       "    <tr>\n",
       "      <th>count</th>\n",
       "      <td>200.000000</td>\n",
       "      <td>200.000000</td>\n",
       "      <td>200.000000</td>\n",
       "      <td>200.000000</td>\n",
       "      <td>200.000000</td>\n",
       "      <td>200.000000</td>\n",
       "      <td>200.000000</td>\n",
       "    </tr>\n",
       "    <tr>\n",
       "      <th>mean</th>\n",
       "      <td>100.500000</td>\n",
       "      <td>58.842950</td>\n",
       "      <td>26.693600</td>\n",
       "      <td>58.411600</td>\n",
       "      <td>54.071450</td>\n",
       "      <td>16.124700</td>\n",
       "      <td>44.564200</td>\n",
       "    </tr>\n",
       "    <tr>\n",
       "      <th>std</th>\n",
       "      <td>57.879185</td>\n",
       "      <td>13.622641</td>\n",
       "      <td>20.207501</td>\n",
       "      <td>10.960065</td>\n",
       "      <td>7.797928</td>\n",
       "      <td>18.165438</td>\n",
       "      <td>11.271182</td>\n",
       "    </tr>\n",
       "    <tr>\n",
       "      <th>min</th>\n",
       "      <td>1.000000</td>\n",
       "      <td>1.470000</td>\n",
       "      <td>1.500000</td>\n",
       "      <td>30.120000</td>\n",
       "      <td>34.990000</td>\n",
       "      <td>0.540000</td>\n",
       "      <td>33.700000</td>\n",
       "    </tr>\n",
       "    <tr>\n",
       "      <th>25%</th>\n",
       "      <td>50.750000</td>\n",
       "      <td>53.415000</td>\n",
       "      <td>11.467500</td>\n",
       "      <td>50.820000</td>\n",
       "      <td>49.207500</td>\n",
       "      <td>4.140000</td>\n",
       "      <td>36.770000</td>\n",
       "    </tr>\n",
       "    <tr>\n",
       "      <th>50%</th>\n",
       "      <td>100.500000</td>\n",
       "      <td>58.990000</td>\n",
       "      <td>19.405000</td>\n",
       "      <td>57.645000</td>\n",
       "      <td>53.410000</td>\n",
       "      <td>10.320000</td>\n",
       "      <td>40.110000</td>\n",
       "    </tr>\n",
       "    <tr>\n",
       "      <th>75%</th>\n",
       "      <td>150.250000</td>\n",
       "      <td>65.527500</td>\n",
       "      <td>37.002500</td>\n",
       "      <td>64.887500</td>\n",
       "      <td>59.015000</td>\n",
       "      <td>22.010000</td>\n",
       "      <td>49.712500</td>\n",
       "    </tr>\n",
       "    <tr>\n",
       "      <th>max</th>\n",
       "      <td>200.000000</td>\n",
       "      <td>94.620000</td>\n",
       "      <td>97.660000</td>\n",
       "      <td>90.120000</td>\n",
       "      <td>79.480000</td>\n",
       "      <td>100.000000</td>\n",
       "      <td>90.040000</td>\n",
       "    </tr>\n",
       "  </tbody>\n",
       "</table>\n",
       "</div>"
      ],
      "text/plain": [
       "             rank         TLR         RPC          go          oi        perc  \\\n",
       "count  200.000000  200.000000  200.000000  200.000000  200.000000  200.000000   \n",
       "mean   100.500000   58.842950   26.693600   58.411600   54.071450   16.124700   \n",
       "std     57.879185   13.622641   20.207501   10.960065    7.797928   18.165438   \n",
       "min      1.000000    1.470000    1.500000   30.120000   34.990000    0.540000   \n",
       "25%     50.750000   53.415000   11.467500   50.820000   49.207500    4.140000   \n",
       "50%    100.500000   58.990000   19.405000   57.645000   53.410000   10.320000   \n",
       "75%    150.250000   65.527500   37.002500   64.887500   59.015000   22.010000   \n",
       "max    200.000000   94.620000   97.660000   90.120000   79.480000  100.000000   \n",
       "\n",
       "            total  \n",
       "count  200.000000  \n",
       "mean    44.564200  \n",
       "std     11.271182  \n",
       "min     33.700000  \n",
       "25%     36.770000  \n",
       "50%     40.110000  \n",
       "75%     49.712500  \n",
       "max     90.040000  "
      ]
     },
     "execution_count": 481,
     "metadata": {},
     "output_type": "execute_result"
    }
   ],
   "source": [
    "data.describe() # five point summary of numerical data"
   ]
  },
  {
   "cell_type": "markdown",
   "id": "e5fb6a03",
   "metadata": {},
   "source": [
    "From above the mean of go and oi are similar with median , which means the data might appear normally distributed\n",
    "for graduation outcome (go) and outreach and inclusivity (oi)\n",
    "\n",
    "Rest features have significant difference in mean and median, it means data might not be normally distributed for these\n",
    "feature"
   ]
  },
  {
   "cell_type": "code",
   "execution_count": 483,
   "id": "435f9d92",
   "metadata": {},
   "outputs": [
    {
     "data": {
      "text/html": [
       "<div>\n",
       "<style scoped>\n",
       "    .dataframe tbody tr th:only-of-type {\n",
       "        vertical-align: middle;\n",
       "    }\n",
       "\n",
       "    .dataframe tbody tr th {\n",
       "        vertical-align: top;\n",
       "    }\n",
       "\n",
       "    .dataframe thead th {\n",
       "        text-align: right;\n",
       "    }\n",
       "</style>\n",
       "<table border=\"1\" class=\"dataframe\">\n",
       "  <thead>\n",
       "    <tr style=\"text-align: right;\">\n",
       "      <th></th>\n",
       "      <th>name</th>\n",
       "      <th>owner_ship</th>\n",
       "      <th>grade</th>\n",
       "    </tr>\n",
       "  </thead>\n",
       "  <tbody>\n",
       "    <tr>\n",
       "      <th>count</th>\n",
       "      <td>200</td>\n",
       "      <td>200</td>\n",
       "      <td>200</td>\n",
       "    </tr>\n",
       "    <tr>\n",
       "      <th>unique</th>\n",
       "      <td>200</td>\n",
       "      <td>2</td>\n",
       "      <td>4</td>\n",
       "    </tr>\n",
       "    <tr>\n",
       "      <th>top</th>\n",
       "      <td>IIT Madras - Indian Institute of Technology</td>\n",
       "      <td>Private</td>\n",
       "      <td>AAAA</td>\n",
       "    </tr>\n",
       "    <tr>\n",
       "      <th>freq</th>\n",
       "      <td>1</td>\n",
       "      <td>110</td>\n",
       "      <td>135</td>\n",
       "    </tr>\n",
       "  </tbody>\n",
       "</table>\n",
       "</div>"
      ],
      "text/plain": [
       "                                               name owner_ship grade\n",
       "count                                           200        200   200\n",
       "unique                                          200          2     4\n",
       "top     IIT Madras - Indian Institute of Technology    Private  AAAA\n",
       "freq                                              1        110   135"
      ]
     },
     "execution_count": 483,
     "metadata": {},
     "output_type": "execute_result"
    }
   ],
   "source": [
    "data.select_dtypes(include='object').describe()"
   ]
  },
  {
   "cell_type": "markdown",
   "id": "af7365ed",
   "metadata": {},
   "source": [
    "It shows that college names are not repeating here in the data\n",
    "\n",
    "Most of the colleges are from private category\n",
    "\n",
    "Grade four timesA (AAAA) is the most frequet grade obtained by the colleges in NRIF ranking"
   ]
  },
  {
   "cell_type": "code",
   "execution_count": 148,
   "id": "1675be94",
   "metadata": {},
   "outputs": [
    {
     "data": {
      "text/plain": [
       "AAAA     135\n",
       "AAAAA     34\n",
       "AAA       30\n",
       "AA         1\n",
       "Name: grade, dtype: int64"
      ]
     },
     "execution_count": 148,
     "metadata": {},
     "output_type": "execute_result"
    }
   ],
   "source": [
    "data['grade'].value_counts() # from above it is clear that most of the college lies with AAAAA "
   ]
  },
  {
   "cell_type": "markdown",
   "id": "eb738964",
   "metadata": {},
   "source": [
    "There is only one college in the whole data with lowest grade AA"
   ]
  },
  {
   "cell_type": "code",
   "execution_count": 485,
   "id": "f5e2c99d",
   "metadata": {},
   "outputs": [
    {
     "data": {
      "text/html": [
       "<div>\n",
       "<style scoped>\n",
       "    .dataframe tbody tr th:only-of-type {\n",
       "        vertical-align: middle;\n",
       "    }\n",
       "\n",
       "    .dataframe tbody tr th {\n",
       "        vertical-align: top;\n",
       "    }\n",
       "\n",
       "    .dataframe thead th {\n",
       "        text-align: right;\n",
       "    }\n",
       "</style>\n",
       "<table border=\"1\" class=\"dataframe\">\n",
       "  <thead>\n",
       "    <tr style=\"text-align: right;\">\n",
       "      <th></th>\n",
       "      <th>rank</th>\n",
       "      <th>name</th>\n",
       "      <th>owner_ship</th>\n",
       "      <th>grade</th>\n",
       "      <th>TLR</th>\n",
       "      <th>RPC</th>\n",
       "      <th>go</th>\n",
       "      <th>oi</th>\n",
       "      <th>perc</th>\n",
       "      <th>total</th>\n",
       "    </tr>\n",
       "  </thead>\n",
       "  <tbody>\n",
       "    <tr>\n",
       "      <th>128</th>\n",
       "      <td>129</td>\n",
       "      <td>JNTUK Kakinada - Jawaharlal Nehru Technologica...</td>\n",
       "      <td>Public/Government</td>\n",
       "      <td>AA</td>\n",
       "      <td>57.01</td>\n",
       "      <td>19.32</td>\n",
       "      <td>47.56</td>\n",
       "      <td>50.19</td>\n",
       "      <td>3.65</td>\n",
       "      <td>37.79</td>\n",
       "    </tr>\n",
       "  </tbody>\n",
       "</table>\n",
       "</div>"
      ],
      "text/plain": [
       "     rank                                               name  \\\n",
       "128   129  JNTUK Kakinada - Jawaharlal Nehru Technologica...   \n",
       "\n",
       "            owner_ship grade    TLR    RPC     go     oi  perc  total  \n",
       "128  Public/Government    AA  57.01  19.32  47.56  50.19  3.65  37.79  "
      ]
     },
     "execution_count": 485,
     "metadata": {},
     "output_type": "execute_result"
    }
   ],
   "source": [
    "data[data['grade']=='AA'] # details of the college with lowest grade"
   ]
  },
  {
   "cell_type": "code",
   "execution_count": 486,
   "id": "e1551e98",
   "metadata": {},
   "outputs": [
    {
     "data": {
      "text/html": [
       "<div>\n",
       "<style scoped>\n",
       "    .dataframe tbody tr th:only-of-type {\n",
       "        vertical-align: middle;\n",
       "    }\n",
       "\n",
       "    .dataframe tbody tr th {\n",
       "        vertical-align: top;\n",
       "    }\n",
       "\n",
       "    .dataframe thead th {\n",
       "        text-align: right;\n",
       "    }\n",
       "</style>\n",
       "<table border=\"1\" class=\"dataframe\">\n",
       "  <thead>\n",
       "    <tr style=\"text-align: right;\">\n",
       "      <th></th>\n",
       "      <th>rank</th>\n",
       "      <th>name</th>\n",
       "      <th>owner_ship</th>\n",
       "      <th>grade</th>\n",
       "      <th>TLR</th>\n",
       "      <th>RPC</th>\n",
       "      <th>go</th>\n",
       "      <th>oi</th>\n",
       "      <th>perc</th>\n",
       "      <th>total</th>\n",
       "    </tr>\n",
       "  </thead>\n",
       "  <tbody>\n",
       "    <tr>\n",
       "      <th>0</th>\n",
       "      <td>1</td>\n",
       "      <td>IIT Madras - Indian Institute of Technology</td>\n",
       "      <td>Public/Government</td>\n",
       "      <td>AAAAA</td>\n",
       "      <td>94.62</td>\n",
       "      <td>97.66</td>\n",
       "      <td>80.42</td>\n",
       "      <td>62.85</td>\n",
       "      <td>100.00</td>\n",
       "      <td>90.04</td>\n",
       "    </tr>\n",
       "    <tr>\n",
       "      <th>1</th>\n",
       "      <td>2</td>\n",
       "      <td>IIT Delhi - Indian Institute of Technology</td>\n",
       "      <td>Public/Government</td>\n",
       "      <td>AAAAA</td>\n",
       "      <td>86.95</td>\n",
       "      <td>96.00</td>\n",
       "      <td>83.43</td>\n",
       "      <td>68.56</td>\n",
       "      <td>96.92</td>\n",
       "      <td>88.12</td>\n",
       "    </tr>\n",
       "    <tr>\n",
       "      <th>2</th>\n",
       "      <td>3</td>\n",
       "      <td>IIT Bombay - Indian Institute of Technology</td>\n",
       "      <td>Public/Government</td>\n",
       "      <td>AAAAA</td>\n",
       "      <td>87.53</td>\n",
       "      <td>90.82</td>\n",
       "      <td>79.18</td>\n",
       "      <td>57.36</td>\n",
       "      <td>88.70</td>\n",
       "      <td>83.96</td>\n",
       "    </tr>\n",
       "    <tr>\n",
       "      <th>3</th>\n",
       "      <td>4</td>\n",
       "      <td>IIT Kanpur - Indian Institute of Technology</td>\n",
       "      <td>Public/Government</td>\n",
       "      <td>AAAAA</td>\n",
       "      <td>87.95</td>\n",
       "      <td>79.98</td>\n",
       "      <td>89.71</td>\n",
       "      <td>59.47</td>\n",
       "      <td>83.01</td>\n",
       "      <td>82.56</td>\n",
       "    </tr>\n",
       "    <tr>\n",
       "      <th>4</th>\n",
       "      <td>5</td>\n",
       "      <td>IIT Kharagpur - Indian Institute of Technology</td>\n",
       "      <td>Public/Government</td>\n",
       "      <td>AAAAA</td>\n",
       "      <td>79.21</td>\n",
       "      <td>84.61</td>\n",
       "      <td>80.91</td>\n",
       "      <td>53.09</td>\n",
       "      <td>82.63</td>\n",
       "      <td>78.89</td>\n",
       "    </tr>\n",
       "    <tr>\n",
       "      <th>5</th>\n",
       "      <td>6</td>\n",
       "      <td>IIT Roorkee - Indian Institute of Technology</td>\n",
       "      <td>Public/Government</td>\n",
       "      <td>AAAAA</td>\n",
       "      <td>75.98</td>\n",
       "      <td>78.10</td>\n",
       "      <td>90.12</td>\n",
       "      <td>63.09</td>\n",
       "      <td>61.36</td>\n",
       "      <td>76.70</td>\n",
       "    </tr>\n",
       "    <tr>\n",
       "      <th>6</th>\n",
       "      <td>7</td>\n",
       "      <td>IIT Guwahati - Indian Institute of Technology</td>\n",
       "      <td>Public/Government</td>\n",
       "      <td>AAAAA</td>\n",
       "      <td>75.89</td>\n",
       "      <td>72.89</td>\n",
       "      <td>84.64</td>\n",
       "      <td>56.90</td>\n",
       "      <td>57.15</td>\n",
       "      <td>72.98</td>\n",
       "    </tr>\n",
       "    <tr>\n",
       "      <th>7</th>\n",
       "      <td>8</td>\n",
       "      <td>NIT Trichy - National Institute of Technology ...</td>\n",
       "      <td>Public/Government</td>\n",
       "      <td>AAAAA</td>\n",
       "      <td>76.39</td>\n",
       "      <td>58.43</td>\n",
       "      <td>79.16</td>\n",
       "      <td>64.49</td>\n",
       "      <td>64.38</td>\n",
       "      <td>69.17</td>\n",
       "    </tr>\n",
       "    <tr>\n",
       "      <th>8</th>\n",
       "      <td>9</td>\n",
       "      <td>IIT Hyderabad - Indian Institute of Technology</td>\n",
       "      <td>Public/Government</td>\n",
       "      <td>AAAAA</td>\n",
       "      <td>80.32</td>\n",
       "      <td>59.89</td>\n",
       "      <td>72.39</td>\n",
       "      <td>54.85</td>\n",
       "      <td>59.96</td>\n",
       "      <td>68.03</td>\n",
       "    </tr>\n",
       "    <tr>\n",
       "      <th>9</th>\n",
       "      <td>10</td>\n",
       "      <td>NIT Surathkal - National Institute of Technolo...</td>\n",
       "      <td>Public/Government</td>\n",
       "      <td>AAAAA</td>\n",
       "      <td>72.87</td>\n",
       "      <td>56.42</td>\n",
       "      <td>77.69</td>\n",
       "      <td>63.89</td>\n",
       "      <td>53.24</td>\n",
       "      <td>66.04</td>\n",
       "    </tr>\n",
       "  </tbody>\n",
       "</table>\n",
       "</div>"
      ],
      "text/plain": [
       "   rank                                               name         owner_ship  \\\n",
       "0     1        IIT Madras - Indian Institute of Technology  Public/Government   \n",
       "1     2         IIT Delhi - Indian Institute of Technology  Public/Government   \n",
       "2     3        IIT Bombay - Indian Institute of Technology  Public/Government   \n",
       "3     4        IIT Kanpur - Indian Institute of Technology  Public/Government   \n",
       "4     5     IIT Kharagpur - Indian Institute of Technology  Public/Government   \n",
       "5     6       IIT Roorkee - Indian Institute of Technology  Public/Government   \n",
       "6     7      IIT Guwahati - Indian Institute of Technology  Public/Government   \n",
       "7     8  NIT Trichy - National Institute of Technology ...  Public/Government   \n",
       "8     9     IIT Hyderabad - Indian Institute of Technology  Public/Government   \n",
       "9    10  NIT Surathkal - National Institute of Technolo...  Public/Government   \n",
       "\n",
       "   grade    TLR    RPC     go     oi    perc  total  \n",
       "0  AAAAA  94.62  97.66  80.42  62.85  100.00  90.04  \n",
       "1  AAAAA  86.95  96.00  83.43  68.56   96.92  88.12  \n",
       "2  AAAAA  87.53  90.82  79.18  57.36   88.70  83.96  \n",
       "3  AAAAA  87.95  79.98  89.71  59.47   83.01  82.56  \n",
       "4  AAAAA  79.21  84.61  80.91  53.09   82.63  78.89  \n",
       "5  AAAAA  75.98  78.10  90.12  63.09   61.36  76.70  \n",
       "6  AAAAA  75.89  72.89  84.64  56.90   57.15  72.98  \n",
       "7  AAAAA  76.39  58.43  79.16  64.49   64.38  69.17  \n",
       "8  AAAAA  80.32  59.89  72.39  54.85   59.96  68.03  \n",
       "9  AAAAA  72.87  56.42  77.69  63.89   53.24  66.04  "
      ]
     },
     "execution_count": 486,
     "metadata": {},
     "output_type": "execute_result"
    }
   ],
   "source": [
    "# details of top 10 colleges\n",
    "data.sort_values(by='rank').head(10)"
   ]
  },
  {
   "cell_type": "markdown",
   "id": "70dcf92f",
   "metadata": {},
   "source": [
    "Above table shows that top 10 colleges are either from IIT or from NIT , generally IIT are most in number\n",
    "\n",
    "IIT Madras is at the top and all top 10 colleges are obtaining the topmost grade (AAAAA)\n",
    "\n",
    "All top most colleges contain public or government type ownership, in other words no private college comes in the\n",
    "top 10 category of colleges in NIRF ranking"
   ]
  },
  {
   "cell_type": "code",
   "execution_count": 495,
   "id": "caafe936",
   "metadata": {},
   "outputs": [
    {
     "data": {
      "application/vnd.plotly.v1+json": {
       "config": {
        "plotlyServerURL": "https://plot.ly"
       },
       "data": [
        {
         "domain": {
          "x": [
           0,
           1
          ],
          "y": [
           0,
           1
          ]
         },
         "hole": 0.45,
         "hovertemplate": "index=%{label}<br>value=%{value}<extra></extra>",
         "labels": [
          "other",
          "IIT",
          "NIT"
         ],
         "legendgroup": "",
         "name": "",
         "showlegend": true,
         "type": "pie",
         "values": [
          71,
          15,
          14.000000000000002
         ]
        }
       ],
       "layout": {
        "legend": {
         "tracegroupgap": 0
        },
        "piecolorway": [
         "#32a852",
         "#3261a8",
         "#a83259"
        ],
        "template": {
         "data": {
          "bar": [
           {
            "error_x": {
             "color": "#2a3f5f"
            },
            "error_y": {
             "color": "#2a3f5f"
            },
            "marker": {
             "line": {
              "color": "#E5ECF6",
              "width": 0.5
             },
             "pattern": {
              "fillmode": "overlay",
              "size": 10,
              "solidity": 0.2
             }
            },
            "type": "bar"
           }
          ],
          "barpolar": [
           {
            "marker": {
             "line": {
              "color": "#E5ECF6",
              "width": 0.5
             },
             "pattern": {
              "fillmode": "overlay",
              "size": 10,
              "solidity": 0.2
             }
            },
            "type": "barpolar"
           }
          ],
          "carpet": [
           {
            "aaxis": {
             "endlinecolor": "#2a3f5f",
             "gridcolor": "white",
             "linecolor": "white",
             "minorgridcolor": "white",
             "startlinecolor": "#2a3f5f"
            },
            "baxis": {
             "endlinecolor": "#2a3f5f",
             "gridcolor": "white",
             "linecolor": "white",
             "minorgridcolor": "white",
             "startlinecolor": "#2a3f5f"
            },
            "type": "carpet"
           }
          ],
          "choropleth": [
           {
            "colorbar": {
             "outlinewidth": 0,
             "ticks": ""
            },
            "type": "choropleth"
           }
          ],
          "contour": [
           {
            "colorbar": {
             "outlinewidth": 0,
             "ticks": ""
            },
            "colorscale": [
             [
              0,
              "#0d0887"
             ],
             [
              0.1111111111111111,
              "#46039f"
             ],
             [
              0.2222222222222222,
              "#7201a8"
             ],
             [
              0.3333333333333333,
              "#9c179e"
             ],
             [
              0.4444444444444444,
              "#bd3786"
             ],
             [
              0.5555555555555556,
              "#d8576b"
             ],
             [
              0.6666666666666666,
              "#ed7953"
             ],
             [
              0.7777777777777778,
              "#fb9f3a"
             ],
             [
              0.8888888888888888,
              "#fdca26"
             ],
             [
              1,
              "#f0f921"
             ]
            ],
            "type": "contour"
           }
          ],
          "contourcarpet": [
           {
            "colorbar": {
             "outlinewidth": 0,
             "ticks": ""
            },
            "type": "contourcarpet"
           }
          ],
          "heatmap": [
           {
            "colorbar": {
             "outlinewidth": 0,
             "ticks": ""
            },
            "colorscale": [
             [
              0,
              "#0d0887"
             ],
             [
              0.1111111111111111,
              "#46039f"
             ],
             [
              0.2222222222222222,
              "#7201a8"
             ],
             [
              0.3333333333333333,
              "#9c179e"
             ],
             [
              0.4444444444444444,
              "#bd3786"
             ],
             [
              0.5555555555555556,
              "#d8576b"
             ],
             [
              0.6666666666666666,
              "#ed7953"
             ],
             [
              0.7777777777777778,
              "#fb9f3a"
             ],
             [
              0.8888888888888888,
              "#fdca26"
             ],
             [
              1,
              "#f0f921"
             ]
            ],
            "type": "heatmap"
           }
          ],
          "heatmapgl": [
           {
            "colorbar": {
             "outlinewidth": 0,
             "ticks": ""
            },
            "colorscale": [
             [
              0,
              "#0d0887"
             ],
             [
              0.1111111111111111,
              "#46039f"
             ],
             [
              0.2222222222222222,
              "#7201a8"
             ],
             [
              0.3333333333333333,
              "#9c179e"
             ],
             [
              0.4444444444444444,
              "#bd3786"
             ],
             [
              0.5555555555555556,
              "#d8576b"
             ],
             [
              0.6666666666666666,
              "#ed7953"
             ],
             [
              0.7777777777777778,
              "#fb9f3a"
             ],
             [
              0.8888888888888888,
              "#fdca26"
             ],
             [
              1,
              "#f0f921"
             ]
            ],
            "type": "heatmapgl"
           }
          ],
          "histogram": [
           {
            "marker": {
             "pattern": {
              "fillmode": "overlay",
              "size": 10,
              "solidity": 0.2
             }
            },
            "type": "histogram"
           }
          ],
          "histogram2d": [
           {
            "colorbar": {
             "outlinewidth": 0,
             "ticks": ""
            },
            "colorscale": [
             [
              0,
              "#0d0887"
             ],
             [
              0.1111111111111111,
              "#46039f"
             ],
             [
              0.2222222222222222,
              "#7201a8"
             ],
             [
              0.3333333333333333,
              "#9c179e"
             ],
             [
              0.4444444444444444,
              "#bd3786"
             ],
             [
              0.5555555555555556,
              "#d8576b"
             ],
             [
              0.6666666666666666,
              "#ed7953"
             ],
             [
              0.7777777777777778,
              "#fb9f3a"
             ],
             [
              0.8888888888888888,
              "#fdca26"
             ],
             [
              1,
              "#f0f921"
             ]
            ],
            "type": "histogram2d"
           }
          ],
          "histogram2dcontour": [
           {
            "colorbar": {
             "outlinewidth": 0,
             "ticks": ""
            },
            "colorscale": [
             [
              0,
              "#0d0887"
             ],
             [
              0.1111111111111111,
              "#46039f"
             ],
             [
              0.2222222222222222,
              "#7201a8"
             ],
             [
              0.3333333333333333,
              "#9c179e"
             ],
             [
              0.4444444444444444,
              "#bd3786"
             ],
             [
              0.5555555555555556,
              "#d8576b"
             ],
             [
              0.6666666666666666,
              "#ed7953"
             ],
             [
              0.7777777777777778,
              "#fb9f3a"
             ],
             [
              0.8888888888888888,
              "#fdca26"
             ],
             [
              1,
              "#f0f921"
             ]
            ],
            "type": "histogram2dcontour"
           }
          ],
          "mesh3d": [
           {
            "colorbar": {
             "outlinewidth": 0,
             "ticks": ""
            },
            "type": "mesh3d"
           }
          ],
          "parcoords": [
           {
            "line": {
             "colorbar": {
              "outlinewidth": 0,
              "ticks": ""
             }
            },
            "type": "parcoords"
           }
          ],
          "pie": [
           {
            "automargin": true,
            "type": "pie"
           }
          ],
          "scatter": [
           {
            "marker": {
             "colorbar": {
              "outlinewidth": 0,
              "ticks": ""
             }
            },
            "type": "scatter"
           }
          ],
          "scatter3d": [
           {
            "line": {
             "colorbar": {
              "outlinewidth": 0,
              "ticks": ""
             }
            },
            "marker": {
             "colorbar": {
              "outlinewidth": 0,
              "ticks": ""
             }
            },
            "type": "scatter3d"
           }
          ],
          "scattercarpet": [
           {
            "marker": {
             "colorbar": {
              "outlinewidth": 0,
              "ticks": ""
             }
            },
            "type": "scattercarpet"
           }
          ],
          "scattergeo": [
           {
            "marker": {
             "colorbar": {
              "outlinewidth": 0,
              "ticks": ""
             }
            },
            "type": "scattergeo"
           }
          ],
          "scattergl": [
           {
            "marker": {
             "colorbar": {
              "outlinewidth": 0,
              "ticks": ""
             }
            },
            "type": "scattergl"
           }
          ],
          "scattermapbox": [
           {
            "marker": {
             "colorbar": {
              "outlinewidth": 0,
              "ticks": ""
             }
            },
            "type": "scattermapbox"
           }
          ],
          "scatterpolar": [
           {
            "marker": {
             "colorbar": {
              "outlinewidth": 0,
              "ticks": ""
             }
            },
            "type": "scatterpolar"
           }
          ],
          "scatterpolargl": [
           {
            "marker": {
             "colorbar": {
              "outlinewidth": 0,
              "ticks": ""
             }
            },
            "type": "scatterpolargl"
           }
          ],
          "scatterternary": [
           {
            "marker": {
             "colorbar": {
              "outlinewidth": 0,
              "ticks": ""
             }
            },
            "type": "scatterternary"
           }
          ],
          "surface": [
           {
            "colorbar": {
             "outlinewidth": 0,
             "ticks": ""
            },
            "colorscale": [
             [
              0,
              "#0d0887"
             ],
             [
              0.1111111111111111,
              "#46039f"
             ],
             [
              0.2222222222222222,
              "#7201a8"
             ],
             [
              0.3333333333333333,
              "#9c179e"
             ],
             [
              0.4444444444444444,
              "#bd3786"
             ],
             [
              0.5555555555555556,
              "#d8576b"
             ],
             [
              0.6666666666666666,
              "#ed7953"
             ],
             [
              0.7777777777777778,
              "#fb9f3a"
             ],
             [
              0.8888888888888888,
              "#fdca26"
             ],
             [
              1,
              "#f0f921"
             ]
            ],
            "type": "surface"
           }
          ],
          "table": [
           {
            "cells": {
             "fill": {
              "color": "#EBF0F8"
             },
             "line": {
              "color": "white"
             }
            },
            "header": {
             "fill": {
              "color": "#C8D4E3"
             },
             "line": {
              "color": "white"
             }
            },
            "type": "table"
           }
          ]
         },
         "layout": {
          "annotationdefaults": {
           "arrowcolor": "#2a3f5f",
           "arrowhead": 0,
           "arrowwidth": 1
          },
          "autotypenumbers": "strict",
          "coloraxis": {
           "colorbar": {
            "outlinewidth": 0,
            "ticks": ""
           }
          },
          "colorscale": {
           "diverging": [
            [
             0,
             "#8e0152"
            ],
            [
             0.1,
             "#c51b7d"
            ],
            [
             0.2,
             "#de77ae"
            ],
            [
             0.3,
             "#f1b6da"
            ],
            [
             0.4,
             "#fde0ef"
            ],
            [
             0.5,
             "#f7f7f7"
            ],
            [
             0.6,
             "#e6f5d0"
            ],
            [
             0.7,
             "#b8e186"
            ],
            [
             0.8,
             "#7fbc41"
            ],
            [
             0.9,
             "#4d9221"
            ],
            [
             1,
             "#276419"
            ]
           ],
           "sequential": [
            [
             0,
             "#0d0887"
            ],
            [
             0.1111111111111111,
             "#46039f"
            ],
            [
             0.2222222222222222,
             "#7201a8"
            ],
            [
             0.3333333333333333,
             "#9c179e"
            ],
            [
             0.4444444444444444,
             "#bd3786"
            ],
            [
             0.5555555555555556,
             "#d8576b"
            ],
            [
             0.6666666666666666,
             "#ed7953"
            ],
            [
             0.7777777777777778,
             "#fb9f3a"
            ],
            [
             0.8888888888888888,
             "#fdca26"
            ],
            [
             1,
             "#f0f921"
            ]
           ],
           "sequentialminus": [
            [
             0,
             "#0d0887"
            ],
            [
             0.1111111111111111,
             "#46039f"
            ],
            [
             0.2222222222222222,
             "#7201a8"
            ],
            [
             0.3333333333333333,
             "#9c179e"
            ],
            [
             0.4444444444444444,
             "#bd3786"
            ],
            [
             0.5555555555555556,
             "#d8576b"
            ],
            [
             0.6666666666666666,
             "#ed7953"
            ],
            [
             0.7777777777777778,
             "#fb9f3a"
            ],
            [
             0.8888888888888888,
             "#fdca26"
            ],
            [
             1,
             "#f0f921"
            ]
           ]
          },
          "colorway": [
           "#636efa",
           "#EF553B",
           "#00cc96",
           "#ab63fa",
           "#FFA15A",
           "#19d3f3",
           "#FF6692",
           "#B6E880",
           "#FF97FF",
           "#FECB52"
          ],
          "font": {
           "color": "#2a3f5f"
          },
          "geo": {
           "bgcolor": "white",
           "lakecolor": "white",
           "landcolor": "#E5ECF6",
           "showlakes": true,
           "showland": true,
           "subunitcolor": "white"
          },
          "hoverlabel": {
           "align": "left"
          },
          "hovermode": "closest",
          "mapbox": {
           "style": "light"
          },
          "paper_bgcolor": "white",
          "plot_bgcolor": "#E5ECF6",
          "polar": {
           "angularaxis": {
            "gridcolor": "white",
            "linecolor": "white",
            "ticks": ""
           },
           "bgcolor": "#E5ECF6",
           "radialaxis": {
            "gridcolor": "white",
            "linecolor": "white",
            "ticks": ""
           }
          },
          "scene": {
           "xaxis": {
            "backgroundcolor": "#E5ECF6",
            "gridcolor": "white",
            "gridwidth": 2,
            "linecolor": "white",
            "showbackground": true,
            "ticks": "",
            "zerolinecolor": "white"
           },
           "yaxis": {
            "backgroundcolor": "#E5ECF6",
            "gridcolor": "white",
            "gridwidth": 2,
            "linecolor": "white",
            "showbackground": true,
            "ticks": "",
            "zerolinecolor": "white"
           },
           "zaxis": {
            "backgroundcolor": "#E5ECF6",
            "gridcolor": "white",
            "gridwidth": 2,
            "linecolor": "white",
            "showbackground": true,
            "ticks": "",
            "zerolinecolor": "white"
           }
          },
          "shapedefaults": {
           "line": {
            "color": "#2a3f5f"
           }
          },
          "ternary": {
           "aaxis": {
            "gridcolor": "white",
            "linecolor": "white",
            "ticks": ""
           },
           "baxis": {
            "gridcolor": "white",
            "linecolor": "white",
            "ticks": ""
           },
           "bgcolor": "#E5ECF6",
           "caxis": {
            "gridcolor": "white",
            "linecolor": "white",
            "ticks": ""
           }
          },
          "title": {
           "x": 0.05
          },
          "xaxis": {
           "automargin": true,
           "gridcolor": "white",
           "linecolor": "white",
           "ticks": "",
           "title": {
            "standoff": 15
           },
           "zerolinecolor": "white",
           "zerolinewidth": 2
          },
          "yaxis": {
           "automargin": true,
           "gridcolor": "white",
           "linecolor": "white",
           "ticks": "",
           "title": {
            "standoff": 15
           },
           "zerolinecolor": "white",
           "zerolinewidth": 2
          }
         }
        },
        "title": {
         "text": "College Category"
        }
       }
      },
      "text/html": [
       "<div>                            <div id=\"677d4e05-e388-4420-8ebd-fa08e9881947\" class=\"plotly-graph-div\" style=\"height:525px; width:100%;\"></div>            <script type=\"text/javascript\">                require([\"plotly\"], function(Plotly) {                    window.PLOTLYENV=window.PLOTLYENV || {};                                    if (document.getElementById(\"677d4e05-e388-4420-8ebd-fa08e9881947\")) {                    Plotly.newPlot(                        \"677d4e05-e388-4420-8ebd-fa08e9881947\",                        [{\"domain\":{\"x\":[0.0,1.0],\"y\":[0.0,1.0]},\"hole\":0.45,\"hovertemplate\":\"index=%{label}<br>value=%{value}<extra></extra>\",\"labels\":[\"other\",\"IIT\",\"NIT\"],\"legendgroup\":\"\",\"name\":\"\",\"showlegend\":true,\"values\":[71.0,15.0,14.000000000000002],\"type\":\"pie\"}],                        {\"template\":{\"data\":{\"bar\":[{\"error_x\":{\"color\":\"#2a3f5f\"},\"error_y\":{\"color\":\"#2a3f5f\"},\"marker\":{\"line\":{\"color\":\"#E5ECF6\",\"width\":0.5},\"pattern\":{\"fillmode\":\"overlay\",\"size\":10,\"solidity\":0.2}},\"type\":\"bar\"}],\"barpolar\":[{\"marker\":{\"line\":{\"color\":\"#E5ECF6\",\"width\":0.5},\"pattern\":{\"fillmode\":\"overlay\",\"size\":10,\"solidity\":0.2}},\"type\":\"barpolar\"}],\"carpet\":[{\"aaxis\":{\"endlinecolor\":\"#2a3f5f\",\"gridcolor\":\"white\",\"linecolor\":\"white\",\"minorgridcolor\":\"white\",\"startlinecolor\":\"#2a3f5f\"},\"baxis\":{\"endlinecolor\":\"#2a3f5f\",\"gridcolor\":\"white\",\"linecolor\":\"white\",\"minorgridcolor\":\"white\",\"startlinecolor\":\"#2a3f5f\"},\"type\":\"carpet\"}],\"choropleth\":[{\"colorbar\":{\"outlinewidth\":0,\"ticks\":\"\"},\"type\":\"choropleth\"}],\"contour\":[{\"colorbar\":{\"outlinewidth\":0,\"ticks\":\"\"},\"colorscale\":[[0.0,\"#0d0887\"],[0.1111111111111111,\"#46039f\"],[0.2222222222222222,\"#7201a8\"],[0.3333333333333333,\"#9c179e\"],[0.4444444444444444,\"#bd3786\"],[0.5555555555555556,\"#d8576b\"],[0.6666666666666666,\"#ed7953\"],[0.7777777777777778,\"#fb9f3a\"],[0.8888888888888888,\"#fdca26\"],[1.0,\"#f0f921\"]],\"type\":\"contour\"}],\"contourcarpet\":[{\"colorbar\":{\"outlinewidth\":0,\"ticks\":\"\"},\"type\":\"contourcarpet\"}],\"heatmap\":[{\"colorbar\":{\"outlinewidth\":0,\"ticks\":\"\"},\"colorscale\":[[0.0,\"#0d0887\"],[0.1111111111111111,\"#46039f\"],[0.2222222222222222,\"#7201a8\"],[0.3333333333333333,\"#9c179e\"],[0.4444444444444444,\"#bd3786\"],[0.5555555555555556,\"#d8576b\"],[0.6666666666666666,\"#ed7953\"],[0.7777777777777778,\"#fb9f3a\"],[0.8888888888888888,\"#fdca26\"],[1.0,\"#f0f921\"]],\"type\":\"heatmap\"}],\"heatmapgl\":[{\"colorbar\":{\"outlinewidth\":0,\"ticks\":\"\"},\"colorscale\":[[0.0,\"#0d0887\"],[0.1111111111111111,\"#46039f\"],[0.2222222222222222,\"#7201a8\"],[0.3333333333333333,\"#9c179e\"],[0.4444444444444444,\"#bd3786\"],[0.5555555555555556,\"#d8576b\"],[0.6666666666666666,\"#ed7953\"],[0.7777777777777778,\"#fb9f3a\"],[0.8888888888888888,\"#fdca26\"],[1.0,\"#f0f921\"]],\"type\":\"heatmapgl\"}],\"histogram\":[{\"marker\":{\"pattern\":{\"fillmode\":\"overlay\",\"size\":10,\"solidity\":0.2}},\"type\":\"histogram\"}],\"histogram2d\":[{\"colorbar\":{\"outlinewidth\":0,\"ticks\":\"\"},\"colorscale\":[[0.0,\"#0d0887\"],[0.1111111111111111,\"#46039f\"],[0.2222222222222222,\"#7201a8\"],[0.3333333333333333,\"#9c179e\"],[0.4444444444444444,\"#bd3786\"],[0.5555555555555556,\"#d8576b\"],[0.6666666666666666,\"#ed7953\"],[0.7777777777777778,\"#fb9f3a\"],[0.8888888888888888,\"#fdca26\"],[1.0,\"#f0f921\"]],\"type\":\"histogram2d\"}],\"histogram2dcontour\":[{\"colorbar\":{\"outlinewidth\":0,\"ticks\":\"\"},\"colorscale\":[[0.0,\"#0d0887\"],[0.1111111111111111,\"#46039f\"],[0.2222222222222222,\"#7201a8\"],[0.3333333333333333,\"#9c179e\"],[0.4444444444444444,\"#bd3786\"],[0.5555555555555556,\"#d8576b\"],[0.6666666666666666,\"#ed7953\"],[0.7777777777777778,\"#fb9f3a\"],[0.8888888888888888,\"#fdca26\"],[1.0,\"#f0f921\"]],\"type\":\"histogram2dcontour\"}],\"mesh3d\":[{\"colorbar\":{\"outlinewidth\":0,\"ticks\":\"\"},\"type\":\"mesh3d\"}],\"parcoords\":[{\"line\":{\"colorbar\":{\"outlinewidth\":0,\"ticks\":\"\"}},\"type\":\"parcoords\"}],\"pie\":[{\"automargin\":true,\"type\":\"pie\"}],\"scatter\":[{\"marker\":{\"colorbar\":{\"outlinewidth\":0,\"ticks\":\"\"}},\"type\":\"scatter\"}],\"scatter3d\":[{\"line\":{\"colorbar\":{\"outlinewidth\":0,\"ticks\":\"\"}},\"marker\":{\"colorbar\":{\"outlinewidth\":0,\"ticks\":\"\"}},\"type\":\"scatter3d\"}],\"scattercarpet\":[{\"marker\":{\"colorbar\":{\"outlinewidth\":0,\"ticks\":\"\"}},\"type\":\"scattercarpet\"}],\"scattergeo\":[{\"marker\":{\"colorbar\":{\"outlinewidth\":0,\"ticks\":\"\"}},\"type\":\"scattergeo\"}],\"scattergl\":[{\"marker\":{\"colorbar\":{\"outlinewidth\":0,\"ticks\":\"\"}},\"type\":\"scattergl\"}],\"scattermapbox\":[{\"marker\":{\"colorbar\":{\"outlinewidth\":0,\"ticks\":\"\"}},\"type\":\"scattermapbox\"}],\"scatterpolar\":[{\"marker\":{\"colorbar\":{\"outlinewidth\":0,\"ticks\":\"\"}},\"type\":\"scatterpolar\"}],\"scatterpolargl\":[{\"marker\":{\"colorbar\":{\"outlinewidth\":0,\"ticks\":\"\"}},\"type\":\"scatterpolargl\"}],\"scatterternary\":[{\"marker\":{\"colorbar\":{\"outlinewidth\":0,\"ticks\":\"\"}},\"type\":\"scatterternary\"}],\"surface\":[{\"colorbar\":{\"outlinewidth\":0,\"ticks\":\"\"},\"colorscale\":[[0.0,\"#0d0887\"],[0.1111111111111111,\"#46039f\"],[0.2222222222222222,\"#7201a8\"],[0.3333333333333333,\"#9c179e\"],[0.4444444444444444,\"#bd3786\"],[0.5555555555555556,\"#d8576b\"],[0.6666666666666666,\"#ed7953\"],[0.7777777777777778,\"#fb9f3a\"],[0.8888888888888888,\"#fdca26\"],[1.0,\"#f0f921\"]],\"type\":\"surface\"}],\"table\":[{\"cells\":{\"fill\":{\"color\":\"#EBF0F8\"},\"line\":{\"color\":\"white\"}},\"header\":{\"fill\":{\"color\":\"#C8D4E3\"},\"line\":{\"color\":\"white\"}},\"type\":\"table\"}]},\"layout\":{\"annotationdefaults\":{\"arrowcolor\":\"#2a3f5f\",\"arrowhead\":0,\"arrowwidth\":1},\"autotypenumbers\":\"strict\",\"coloraxis\":{\"colorbar\":{\"outlinewidth\":0,\"ticks\":\"\"}},\"colorscale\":{\"diverging\":[[0,\"#8e0152\"],[0.1,\"#c51b7d\"],[0.2,\"#de77ae\"],[0.3,\"#f1b6da\"],[0.4,\"#fde0ef\"],[0.5,\"#f7f7f7\"],[0.6,\"#e6f5d0\"],[0.7,\"#b8e186\"],[0.8,\"#7fbc41\"],[0.9,\"#4d9221\"],[1,\"#276419\"]],\"sequential\":[[0.0,\"#0d0887\"],[0.1111111111111111,\"#46039f\"],[0.2222222222222222,\"#7201a8\"],[0.3333333333333333,\"#9c179e\"],[0.4444444444444444,\"#bd3786\"],[0.5555555555555556,\"#d8576b\"],[0.6666666666666666,\"#ed7953\"],[0.7777777777777778,\"#fb9f3a\"],[0.8888888888888888,\"#fdca26\"],[1.0,\"#f0f921\"]],\"sequentialminus\":[[0.0,\"#0d0887\"],[0.1111111111111111,\"#46039f\"],[0.2222222222222222,\"#7201a8\"],[0.3333333333333333,\"#9c179e\"],[0.4444444444444444,\"#bd3786\"],[0.5555555555555556,\"#d8576b\"],[0.6666666666666666,\"#ed7953\"],[0.7777777777777778,\"#fb9f3a\"],[0.8888888888888888,\"#fdca26\"],[1.0,\"#f0f921\"]]},\"colorway\":[\"#636efa\",\"#EF553B\",\"#00cc96\",\"#ab63fa\",\"#FFA15A\",\"#19d3f3\",\"#FF6692\",\"#B6E880\",\"#FF97FF\",\"#FECB52\"],\"font\":{\"color\":\"#2a3f5f\"},\"geo\":{\"bgcolor\":\"white\",\"lakecolor\":\"white\",\"landcolor\":\"#E5ECF6\",\"showlakes\":true,\"showland\":true,\"subunitcolor\":\"white\"},\"hoverlabel\":{\"align\":\"left\"},\"hovermode\":\"closest\",\"mapbox\":{\"style\":\"light\"},\"paper_bgcolor\":\"white\",\"plot_bgcolor\":\"#E5ECF6\",\"polar\":{\"angularaxis\":{\"gridcolor\":\"white\",\"linecolor\":\"white\",\"ticks\":\"\"},\"bgcolor\":\"#E5ECF6\",\"radialaxis\":{\"gridcolor\":\"white\",\"linecolor\":\"white\",\"ticks\":\"\"}},\"scene\":{\"xaxis\":{\"backgroundcolor\":\"#E5ECF6\",\"gridcolor\":\"white\",\"gridwidth\":2,\"linecolor\":\"white\",\"showbackground\":true,\"ticks\":\"\",\"zerolinecolor\":\"white\"},\"yaxis\":{\"backgroundcolor\":\"#E5ECF6\",\"gridcolor\":\"white\",\"gridwidth\":2,\"linecolor\":\"white\",\"showbackground\":true,\"ticks\":\"\",\"zerolinecolor\":\"white\"},\"zaxis\":{\"backgroundcolor\":\"#E5ECF6\",\"gridcolor\":\"white\",\"gridwidth\":2,\"linecolor\":\"white\",\"showbackground\":true,\"ticks\":\"\",\"zerolinecolor\":\"white\"}},\"shapedefaults\":{\"line\":{\"color\":\"#2a3f5f\"}},\"ternary\":{\"aaxis\":{\"gridcolor\":\"white\",\"linecolor\":\"white\",\"ticks\":\"\"},\"baxis\":{\"gridcolor\":\"white\",\"linecolor\":\"white\",\"ticks\":\"\"},\"bgcolor\":\"#E5ECF6\",\"caxis\":{\"gridcolor\":\"white\",\"linecolor\":\"white\",\"ticks\":\"\"}},\"title\":{\"x\":0.05},\"xaxis\":{\"automargin\":true,\"gridcolor\":\"white\",\"linecolor\":\"white\",\"ticks\":\"\",\"title\":{\"standoff\":15},\"zerolinecolor\":\"white\",\"zerolinewidth\":2},\"yaxis\":{\"automargin\":true,\"gridcolor\":\"white\",\"linecolor\":\"white\",\"ticks\":\"\",\"title\":{\"standoff\":15},\"zerolinecolor\":\"white\",\"zerolinewidth\":2}}},\"legend\":{\"tracegroupgap\":0},\"title\":{\"text\":\"College Category\"},\"piecolorway\":[\"#32a852\",\"#3261a8\",\"#a83259\"]},                        {\"responsive\": true}                    ).then(function(){\n",
       "                            \n",
       "var gd = document.getElementById('677d4e05-e388-4420-8ebd-fa08e9881947');\n",
       "var x = new MutationObserver(function (mutations, observer) {{\n",
       "        var display = window.getComputedStyle(gd).display;\n",
       "        if (!display || display === 'none') {{\n",
       "            console.log([gd, 'removed!']);\n",
       "            Plotly.purge(gd);\n",
       "            observer.disconnect();\n",
       "        }}\n",
       "}});\n",
       "\n",
       "// Listen for the removal of the full notebook cells\n",
       "var notebookContainer = gd.closest('#notebook-container');\n",
       "if (notebookContainer) {{\n",
       "    x.observe(notebookContainer, {childList: true});\n",
       "}}\n",
       "\n",
       "// Listen for the clearing of the current output cell\n",
       "var outputEl = gd.closest('.output');\n",
       "if (outputEl) {{\n",
       "    x.observe(outputEl, {childList: true});\n",
       "}}\n",
       "\n",
       "                        })                };                });            </script>        </div>"
      ]
     },
     "metadata": {},
     "output_type": "display_data"
    }
   ],
   "source": [
    "# finding how many IIT and NIT and other colleges come in top 100 category\n",
    "def Categorization(series): # function to make three category of columns that is ITT, NIT and other\n",
    "    if 'IIT' in series or 'indian institute of technology' in str.lower(series):\n",
    "        return 'IIT'\n",
    "    elif 'NIT' in series or 'national institute of technology' in str.lower(series):\n",
    "        return 'NIT'\n",
    "    else:\n",
    "        return 'other'\n",
    "    \n",
    "nameCategory = data['name'].apply(Categorization).value_counts()/len(data)*100\n",
    "\n",
    "fig = px.pie(nameCategory, values=nameCategory.values, names=nameCategory.index, title='College Category',\n",
    "            color_discrete_sequence=['#32a852', '#3261a8', '#a83259'], hole=0.45)\n",
    "fig.show()\n"
   ]
  },
  {
   "cell_type": "markdown",
   "id": "04f3c8bc",
   "metadata": {},
   "source": [
    "IIT and NIT are contributing only 29% of data which contains 200 colleges but mostly top rankings are hold by these \n",
    "colleges"
   ]
  },
  {
   "cell_type": "code",
   "execution_count": 498,
   "id": "c526ec95",
   "metadata": {},
   "outputs": [
    {
     "data": {
      "application/vnd.plotly.v1+json": {
       "config": {
        "plotlyServerURL": "https://plot.ly"
       },
       "data": [
        {
         "domain": {
          "x": [
           0,
           1
          ],
          "y": [
           0,
           1
          ]
         },
         "hole": 0.4,
         "hovertemplate": "index=%{label}<br>value=%{value}<extra></extra>",
         "labels": [
          "Private",
          "Public/Government"
         ],
         "legendgroup": "",
         "name": "",
         "showlegend": true,
         "type": "pie",
         "values": [
          110,
          90
         ]
        }
       ],
       "layout": {
        "legend": {
         "tracegroupgap": 0
        },
        "piecolorway": [
         "#32a852",
         "#3261a8",
         "#a83259"
        ],
        "template": {
         "data": {
          "bar": [
           {
            "error_x": {
             "color": "#2a3f5f"
            },
            "error_y": {
             "color": "#2a3f5f"
            },
            "marker": {
             "line": {
              "color": "#E5ECF6",
              "width": 0.5
             },
             "pattern": {
              "fillmode": "overlay",
              "size": 10,
              "solidity": 0.2
             }
            },
            "type": "bar"
           }
          ],
          "barpolar": [
           {
            "marker": {
             "line": {
              "color": "#E5ECF6",
              "width": 0.5
             },
             "pattern": {
              "fillmode": "overlay",
              "size": 10,
              "solidity": 0.2
             }
            },
            "type": "barpolar"
           }
          ],
          "carpet": [
           {
            "aaxis": {
             "endlinecolor": "#2a3f5f",
             "gridcolor": "white",
             "linecolor": "white",
             "minorgridcolor": "white",
             "startlinecolor": "#2a3f5f"
            },
            "baxis": {
             "endlinecolor": "#2a3f5f",
             "gridcolor": "white",
             "linecolor": "white",
             "minorgridcolor": "white",
             "startlinecolor": "#2a3f5f"
            },
            "type": "carpet"
           }
          ],
          "choropleth": [
           {
            "colorbar": {
             "outlinewidth": 0,
             "ticks": ""
            },
            "type": "choropleth"
           }
          ],
          "contour": [
           {
            "colorbar": {
             "outlinewidth": 0,
             "ticks": ""
            },
            "colorscale": [
             [
              0,
              "#0d0887"
             ],
             [
              0.1111111111111111,
              "#46039f"
             ],
             [
              0.2222222222222222,
              "#7201a8"
             ],
             [
              0.3333333333333333,
              "#9c179e"
             ],
             [
              0.4444444444444444,
              "#bd3786"
             ],
             [
              0.5555555555555556,
              "#d8576b"
             ],
             [
              0.6666666666666666,
              "#ed7953"
             ],
             [
              0.7777777777777778,
              "#fb9f3a"
             ],
             [
              0.8888888888888888,
              "#fdca26"
             ],
             [
              1,
              "#f0f921"
             ]
            ],
            "type": "contour"
           }
          ],
          "contourcarpet": [
           {
            "colorbar": {
             "outlinewidth": 0,
             "ticks": ""
            },
            "type": "contourcarpet"
           }
          ],
          "heatmap": [
           {
            "colorbar": {
             "outlinewidth": 0,
             "ticks": ""
            },
            "colorscale": [
             [
              0,
              "#0d0887"
             ],
             [
              0.1111111111111111,
              "#46039f"
             ],
             [
              0.2222222222222222,
              "#7201a8"
             ],
             [
              0.3333333333333333,
              "#9c179e"
             ],
             [
              0.4444444444444444,
              "#bd3786"
             ],
             [
              0.5555555555555556,
              "#d8576b"
             ],
             [
              0.6666666666666666,
              "#ed7953"
             ],
             [
              0.7777777777777778,
              "#fb9f3a"
             ],
             [
              0.8888888888888888,
              "#fdca26"
             ],
             [
              1,
              "#f0f921"
             ]
            ],
            "type": "heatmap"
           }
          ],
          "heatmapgl": [
           {
            "colorbar": {
             "outlinewidth": 0,
             "ticks": ""
            },
            "colorscale": [
             [
              0,
              "#0d0887"
             ],
             [
              0.1111111111111111,
              "#46039f"
             ],
             [
              0.2222222222222222,
              "#7201a8"
             ],
             [
              0.3333333333333333,
              "#9c179e"
             ],
             [
              0.4444444444444444,
              "#bd3786"
             ],
             [
              0.5555555555555556,
              "#d8576b"
             ],
             [
              0.6666666666666666,
              "#ed7953"
             ],
             [
              0.7777777777777778,
              "#fb9f3a"
             ],
             [
              0.8888888888888888,
              "#fdca26"
             ],
             [
              1,
              "#f0f921"
             ]
            ],
            "type": "heatmapgl"
           }
          ],
          "histogram": [
           {
            "marker": {
             "pattern": {
              "fillmode": "overlay",
              "size": 10,
              "solidity": 0.2
             }
            },
            "type": "histogram"
           }
          ],
          "histogram2d": [
           {
            "colorbar": {
             "outlinewidth": 0,
             "ticks": ""
            },
            "colorscale": [
             [
              0,
              "#0d0887"
             ],
             [
              0.1111111111111111,
              "#46039f"
             ],
             [
              0.2222222222222222,
              "#7201a8"
             ],
             [
              0.3333333333333333,
              "#9c179e"
             ],
             [
              0.4444444444444444,
              "#bd3786"
             ],
             [
              0.5555555555555556,
              "#d8576b"
             ],
             [
              0.6666666666666666,
              "#ed7953"
             ],
             [
              0.7777777777777778,
              "#fb9f3a"
             ],
             [
              0.8888888888888888,
              "#fdca26"
             ],
             [
              1,
              "#f0f921"
             ]
            ],
            "type": "histogram2d"
           }
          ],
          "histogram2dcontour": [
           {
            "colorbar": {
             "outlinewidth": 0,
             "ticks": ""
            },
            "colorscale": [
             [
              0,
              "#0d0887"
             ],
             [
              0.1111111111111111,
              "#46039f"
             ],
             [
              0.2222222222222222,
              "#7201a8"
             ],
             [
              0.3333333333333333,
              "#9c179e"
             ],
             [
              0.4444444444444444,
              "#bd3786"
             ],
             [
              0.5555555555555556,
              "#d8576b"
             ],
             [
              0.6666666666666666,
              "#ed7953"
             ],
             [
              0.7777777777777778,
              "#fb9f3a"
             ],
             [
              0.8888888888888888,
              "#fdca26"
             ],
             [
              1,
              "#f0f921"
             ]
            ],
            "type": "histogram2dcontour"
           }
          ],
          "mesh3d": [
           {
            "colorbar": {
             "outlinewidth": 0,
             "ticks": ""
            },
            "type": "mesh3d"
           }
          ],
          "parcoords": [
           {
            "line": {
             "colorbar": {
              "outlinewidth": 0,
              "ticks": ""
             }
            },
            "type": "parcoords"
           }
          ],
          "pie": [
           {
            "automargin": true,
            "type": "pie"
           }
          ],
          "scatter": [
           {
            "marker": {
             "colorbar": {
              "outlinewidth": 0,
              "ticks": ""
             }
            },
            "type": "scatter"
           }
          ],
          "scatter3d": [
           {
            "line": {
             "colorbar": {
              "outlinewidth": 0,
              "ticks": ""
             }
            },
            "marker": {
             "colorbar": {
              "outlinewidth": 0,
              "ticks": ""
             }
            },
            "type": "scatter3d"
           }
          ],
          "scattercarpet": [
           {
            "marker": {
             "colorbar": {
              "outlinewidth": 0,
              "ticks": ""
             }
            },
            "type": "scattercarpet"
           }
          ],
          "scattergeo": [
           {
            "marker": {
             "colorbar": {
              "outlinewidth": 0,
              "ticks": ""
             }
            },
            "type": "scattergeo"
           }
          ],
          "scattergl": [
           {
            "marker": {
             "colorbar": {
              "outlinewidth": 0,
              "ticks": ""
             }
            },
            "type": "scattergl"
           }
          ],
          "scattermapbox": [
           {
            "marker": {
             "colorbar": {
              "outlinewidth": 0,
              "ticks": ""
             }
            },
            "type": "scattermapbox"
           }
          ],
          "scatterpolar": [
           {
            "marker": {
             "colorbar": {
              "outlinewidth": 0,
              "ticks": ""
             }
            },
            "type": "scatterpolar"
           }
          ],
          "scatterpolargl": [
           {
            "marker": {
             "colorbar": {
              "outlinewidth": 0,
              "ticks": ""
             }
            },
            "type": "scatterpolargl"
           }
          ],
          "scatterternary": [
           {
            "marker": {
             "colorbar": {
              "outlinewidth": 0,
              "ticks": ""
             }
            },
            "type": "scatterternary"
           }
          ],
          "surface": [
           {
            "colorbar": {
             "outlinewidth": 0,
             "ticks": ""
            },
            "colorscale": [
             [
              0,
              "#0d0887"
             ],
             [
              0.1111111111111111,
              "#46039f"
             ],
             [
              0.2222222222222222,
              "#7201a8"
             ],
             [
              0.3333333333333333,
              "#9c179e"
             ],
             [
              0.4444444444444444,
              "#bd3786"
             ],
             [
              0.5555555555555556,
              "#d8576b"
             ],
             [
              0.6666666666666666,
              "#ed7953"
             ],
             [
              0.7777777777777778,
              "#fb9f3a"
             ],
             [
              0.8888888888888888,
              "#fdca26"
             ],
             [
              1,
              "#f0f921"
             ]
            ],
            "type": "surface"
           }
          ],
          "table": [
           {
            "cells": {
             "fill": {
              "color": "#EBF0F8"
             },
             "line": {
              "color": "white"
             }
            },
            "header": {
             "fill": {
              "color": "#C8D4E3"
             },
             "line": {
              "color": "white"
             }
            },
            "type": "table"
           }
          ]
         },
         "layout": {
          "annotationdefaults": {
           "arrowcolor": "#2a3f5f",
           "arrowhead": 0,
           "arrowwidth": 1
          },
          "autotypenumbers": "strict",
          "coloraxis": {
           "colorbar": {
            "outlinewidth": 0,
            "ticks": ""
           }
          },
          "colorscale": {
           "diverging": [
            [
             0,
             "#8e0152"
            ],
            [
             0.1,
             "#c51b7d"
            ],
            [
             0.2,
             "#de77ae"
            ],
            [
             0.3,
             "#f1b6da"
            ],
            [
             0.4,
             "#fde0ef"
            ],
            [
             0.5,
             "#f7f7f7"
            ],
            [
             0.6,
             "#e6f5d0"
            ],
            [
             0.7,
             "#b8e186"
            ],
            [
             0.8,
             "#7fbc41"
            ],
            [
             0.9,
             "#4d9221"
            ],
            [
             1,
             "#276419"
            ]
           ],
           "sequential": [
            [
             0,
             "#0d0887"
            ],
            [
             0.1111111111111111,
             "#46039f"
            ],
            [
             0.2222222222222222,
             "#7201a8"
            ],
            [
             0.3333333333333333,
             "#9c179e"
            ],
            [
             0.4444444444444444,
             "#bd3786"
            ],
            [
             0.5555555555555556,
             "#d8576b"
            ],
            [
             0.6666666666666666,
             "#ed7953"
            ],
            [
             0.7777777777777778,
             "#fb9f3a"
            ],
            [
             0.8888888888888888,
             "#fdca26"
            ],
            [
             1,
             "#f0f921"
            ]
           ],
           "sequentialminus": [
            [
             0,
             "#0d0887"
            ],
            [
             0.1111111111111111,
             "#46039f"
            ],
            [
             0.2222222222222222,
             "#7201a8"
            ],
            [
             0.3333333333333333,
             "#9c179e"
            ],
            [
             0.4444444444444444,
             "#bd3786"
            ],
            [
             0.5555555555555556,
             "#d8576b"
            ],
            [
             0.6666666666666666,
             "#ed7953"
            ],
            [
             0.7777777777777778,
             "#fb9f3a"
            ],
            [
             0.8888888888888888,
             "#fdca26"
            ],
            [
             1,
             "#f0f921"
            ]
           ]
          },
          "colorway": [
           "#636efa",
           "#EF553B",
           "#00cc96",
           "#ab63fa",
           "#FFA15A",
           "#19d3f3",
           "#FF6692",
           "#B6E880",
           "#FF97FF",
           "#FECB52"
          ],
          "font": {
           "color": "#2a3f5f"
          },
          "geo": {
           "bgcolor": "white",
           "lakecolor": "white",
           "landcolor": "#E5ECF6",
           "showlakes": true,
           "showland": true,
           "subunitcolor": "white"
          },
          "hoverlabel": {
           "align": "left"
          },
          "hovermode": "closest",
          "mapbox": {
           "style": "light"
          },
          "paper_bgcolor": "white",
          "plot_bgcolor": "#E5ECF6",
          "polar": {
           "angularaxis": {
            "gridcolor": "white",
            "linecolor": "white",
            "ticks": ""
           },
           "bgcolor": "#E5ECF6",
           "radialaxis": {
            "gridcolor": "white",
            "linecolor": "white",
            "ticks": ""
           }
          },
          "scene": {
           "xaxis": {
            "backgroundcolor": "#E5ECF6",
            "gridcolor": "white",
            "gridwidth": 2,
            "linecolor": "white",
            "showbackground": true,
            "ticks": "",
            "zerolinecolor": "white"
           },
           "yaxis": {
            "backgroundcolor": "#E5ECF6",
            "gridcolor": "white",
            "gridwidth": 2,
            "linecolor": "white",
            "showbackground": true,
            "ticks": "",
            "zerolinecolor": "white"
           },
           "zaxis": {
            "backgroundcolor": "#E5ECF6",
            "gridcolor": "white",
            "gridwidth": 2,
            "linecolor": "white",
            "showbackground": true,
            "ticks": "",
            "zerolinecolor": "white"
           }
          },
          "shapedefaults": {
           "line": {
            "color": "#2a3f5f"
           }
          },
          "ternary": {
           "aaxis": {
            "gridcolor": "white",
            "linecolor": "white",
            "ticks": ""
           },
           "baxis": {
            "gridcolor": "white",
            "linecolor": "white",
            "ticks": ""
           },
           "bgcolor": "#E5ECF6",
           "caxis": {
            "gridcolor": "white",
            "linecolor": "white",
            "ticks": ""
           }
          },
          "title": {
           "x": 0.05
          },
          "xaxis": {
           "automargin": true,
           "gridcolor": "white",
           "linecolor": "white",
           "ticks": "",
           "title": {
            "standoff": 15
           },
           "zerolinecolor": "white",
           "zerolinewidth": 2
          },
          "yaxis": {
           "automargin": true,
           "gridcolor": "white",
           "linecolor": "white",
           "ticks": "",
           "title": {
            "standoff": 15
           },
           "zerolinecolor": "white",
           "zerolinewidth": 2
          }
         }
        },
        "title": {
         "text": "Ownership Type"
        }
       }
      },
      "text/html": [
       "<div>                            <div id=\"b9795f8a-418f-4528-b5fb-0df0c47f441a\" class=\"plotly-graph-div\" style=\"height:525px; width:100%;\"></div>            <script type=\"text/javascript\">                require([\"plotly\"], function(Plotly) {                    window.PLOTLYENV=window.PLOTLYENV || {};                                    if (document.getElementById(\"b9795f8a-418f-4528-b5fb-0df0c47f441a\")) {                    Plotly.newPlot(                        \"b9795f8a-418f-4528-b5fb-0df0c47f441a\",                        [{\"domain\":{\"x\":[0.0,1.0],\"y\":[0.0,1.0]},\"hole\":0.4,\"hovertemplate\":\"index=%{label}<br>value=%{value}<extra></extra>\",\"labels\":[\"Private\",\"Public/Government\"],\"legendgroup\":\"\",\"name\":\"\",\"showlegend\":true,\"values\":[110,90],\"type\":\"pie\"}],                        {\"template\":{\"data\":{\"bar\":[{\"error_x\":{\"color\":\"#2a3f5f\"},\"error_y\":{\"color\":\"#2a3f5f\"},\"marker\":{\"line\":{\"color\":\"#E5ECF6\",\"width\":0.5},\"pattern\":{\"fillmode\":\"overlay\",\"size\":10,\"solidity\":0.2}},\"type\":\"bar\"}],\"barpolar\":[{\"marker\":{\"line\":{\"color\":\"#E5ECF6\",\"width\":0.5},\"pattern\":{\"fillmode\":\"overlay\",\"size\":10,\"solidity\":0.2}},\"type\":\"barpolar\"}],\"carpet\":[{\"aaxis\":{\"endlinecolor\":\"#2a3f5f\",\"gridcolor\":\"white\",\"linecolor\":\"white\",\"minorgridcolor\":\"white\",\"startlinecolor\":\"#2a3f5f\"},\"baxis\":{\"endlinecolor\":\"#2a3f5f\",\"gridcolor\":\"white\",\"linecolor\":\"white\",\"minorgridcolor\":\"white\",\"startlinecolor\":\"#2a3f5f\"},\"type\":\"carpet\"}],\"choropleth\":[{\"colorbar\":{\"outlinewidth\":0,\"ticks\":\"\"},\"type\":\"choropleth\"}],\"contour\":[{\"colorbar\":{\"outlinewidth\":0,\"ticks\":\"\"},\"colorscale\":[[0.0,\"#0d0887\"],[0.1111111111111111,\"#46039f\"],[0.2222222222222222,\"#7201a8\"],[0.3333333333333333,\"#9c179e\"],[0.4444444444444444,\"#bd3786\"],[0.5555555555555556,\"#d8576b\"],[0.6666666666666666,\"#ed7953\"],[0.7777777777777778,\"#fb9f3a\"],[0.8888888888888888,\"#fdca26\"],[1.0,\"#f0f921\"]],\"type\":\"contour\"}],\"contourcarpet\":[{\"colorbar\":{\"outlinewidth\":0,\"ticks\":\"\"},\"type\":\"contourcarpet\"}],\"heatmap\":[{\"colorbar\":{\"outlinewidth\":0,\"ticks\":\"\"},\"colorscale\":[[0.0,\"#0d0887\"],[0.1111111111111111,\"#46039f\"],[0.2222222222222222,\"#7201a8\"],[0.3333333333333333,\"#9c179e\"],[0.4444444444444444,\"#bd3786\"],[0.5555555555555556,\"#d8576b\"],[0.6666666666666666,\"#ed7953\"],[0.7777777777777778,\"#fb9f3a\"],[0.8888888888888888,\"#fdca26\"],[1.0,\"#f0f921\"]],\"type\":\"heatmap\"}],\"heatmapgl\":[{\"colorbar\":{\"outlinewidth\":0,\"ticks\":\"\"},\"colorscale\":[[0.0,\"#0d0887\"],[0.1111111111111111,\"#46039f\"],[0.2222222222222222,\"#7201a8\"],[0.3333333333333333,\"#9c179e\"],[0.4444444444444444,\"#bd3786\"],[0.5555555555555556,\"#d8576b\"],[0.6666666666666666,\"#ed7953\"],[0.7777777777777778,\"#fb9f3a\"],[0.8888888888888888,\"#fdca26\"],[1.0,\"#f0f921\"]],\"type\":\"heatmapgl\"}],\"histogram\":[{\"marker\":{\"pattern\":{\"fillmode\":\"overlay\",\"size\":10,\"solidity\":0.2}},\"type\":\"histogram\"}],\"histogram2d\":[{\"colorbar\":{\"outlinewidth\":0,\"ticks\":\"\"},\"colorscale\":[[0.0,\"#0d0887\"],[0.1111111111111111,\"#46039f\"],[0.2222222222222222,\"#7201a8\"],[0.3333333333333333,\"#9c179e\"],[0.4444444444444444,\"#bd3786\"],[0.5555555555555556,\"#d8576b\"],[0.6666666666666666,\"#ed7953\"],[0.7777777777777778,\"#fb9f3a\"],[0.8888888888888888,\"#fdca26\"],[1.0,\"#f0f921\"]],\"type\":\"histogram2d\"}],\"histogram2dcontour\":[{\"colorbar\":{\"outlinewidth\":0,\"ticks\":\"\"},\"colorscale\":[[0.0,\"#0d0887\"],[0.1111111111111111,\"#46039f\"],[0.2222222222222222,\"#7201a8\"],[0.3333333333333333,\"#9c179e\"],[0.4444444444444444,\"#bd3786\"],[0.5555555555555556,\"#d8576b\"],[0.6666666666666666,\"#ed7953\"],[0.7777777777777778,\"#fb9f3a\"],[0.8888888888888888,\"#fdca26\"],[1.0,\"#f0f921\"]],\"type\":\"histogram2dcontour\"}],\"mesh3d\":[{\"colorbar\":{\"outlinewidth\":0,\"ticks\":\"\"},\"type\":\"mesh3d\"}],\"parcoords\":[{\"line\":{\"colorbar\":{\"outlinewidth\":0,\"ticks\":\"\"}},\"type\":\"parcoords\"}],\"pie\":[{\"automargin\":true,\"type\":\"pie\"}],\"scatter\":[{\"marker\":{\"colorbar\":{\"outlinewidth\":0,\"ticks\":\"\"}},\"type\":\"scatter\"}],\"scatter3d\":[{\"line\":{\"colorbar\":{\"outlinewidth\":0,\"ticks\":\"\"}},\"marker\":{\"colorbar\":{\"outlinewidth\":0,\"ticks\":\"\"}},\"type\":\"scatter3d\"}],\"scattercarpet\":[{\"marker\":{\"colorbar\":{\"outlinewidth\":0,\"ticks\":\"\"}},\"type\":\"scattercarpet\"}],\"scattergeo\":[{\"marker\":{\"colorbar\":{\"outlinewidth\":0,\"ticks\":\"\"}},\"type\":\"scattergeo\"}],\"scattergl\":[{\"marker\":{\"colorbar\":{\"outlinewidth\":0,\"ticks\":\"\"}},\"type\":\"scattergl\"}],\"scattermapbox\":[{\"marker\":{\"colorbar\":{\"outlinewidth\":0,\"ticks\":\"\"}},\"type\":\"scattermapbox\"}],\"scatterpolar\":[{\"marker\":{\"colorbar\":{\"outlinewidth\":0,\"ticks\":\"\"}},\"type\":\"scatterpolar\"}],\"scatterpolargl\":[{\"marker\":{\"colorbar\":{\"outlinewidth\":0,\"ticks\":\"\"}},\"type\":\"scatterpolargl\"}],\"scatterternary\":[{\"marker\":{\"colorbar\":{\"outlinewidth\":0,\"ticks\":\"\"}},\"type\":\"scatterternary\"}],\"surface\":[{\"colorbar\":{\"outlinewidth\":0,\"ticks\":\"\"},\"colorscale\":[[0.0,\"#0d0887\"],[0.1111111111111111,\"#46039f\"],[0.2222222222222222,\"#7201a8\"],[0.3333333333333333,\"#9c179e\"],[0.4444444444444444,\"#bd3786\"],[0.5555555555555556,\"#d8576b\"],[0.6666666666666666,\"#ed7953\"],[0.7777777777777778,\"#fb9f3a\"],[0.8888888888888888,\"#fdca26\"],[1.0,\"#f0f921\"]],\"type\":\"surface\"}],\"table\":[{\"cells\":{\"fill\":{\"color\":\"#EBF0F8\"},\"line\":{\"color\":\"white\"}},\"header\":{\"fill\":{\"color\":\"#C8D4E3\"},\"line\":{\"color\":\"white\"}},\"type\":\"table\"}]},\"layout\":{\"annotationdefaults\":{\"arrowcolor\":\"#2a3f5f\",\"arrowhead\":0,\"arrowwidth\":1},\"autotypenumbers\":\"strict\",\"coloraxis\":{\"colorbar\":{\"outlinewidth\":0,\"ticks\":\"\"}},\"colorscale\":{\"diverging\":[[0,\"#8e0152\"],[0.1,\"#c51b7d\"],[0.2,\"#de77ae\"],[0.3,\"#f1b6da\"],[0.4,\"#fde0ef\"],[0.5,\"#f7f7f7\"],[0.6,\"#e6f5d0\"],[0.7,\"#b8e186\"],[0.8,\"#7fbc41\"],[0.9,\"#4d9221\"],[1,\"#276419\"]],\"sequential\":[[0.0,\"#0d0887\"],[0.1111111111111111,\"#46039f\"],[0.2222222222222222,\"#7201a8\"],[0.3333333333333333,\"#9c179e\"],[0.4444444444444444,\"#bd3786\"],[0.5555555555555556,\"#d8576b\"],[0.6666666666666666,\"#ed7953\"],[0.7777777777777778,\"#fb9f3a\"],[0.8888888888888888,\"#fdca26\"],[1.0,\"#f0f921\"]],\"sequentialminus\":[[0.0,\"#0d0887\"],[0.1111111111111111,\"#46039f\"],[0.2222222222222222,\"#7201a8\"],[0.3333333333333333,\"#9c179e\"],[0.4444444444444444,\"#bd3786\"],[0.5555555555555556,\"#d8576b\"],[0.6666666666666666,\"#ed7953\"],[0.7777777777777778,\"#fb9f3a\"],[0.8888888888888888,\"#fdca26\"],[1.0,\"#f0f921\"]]},\"colorway\":[\"#636efa\",\"#EF553B\",\"#00cc96\",\"#ab63fa\",\"#FFA15A\",\"#19d3f3\",\"#FF6692\",\"#B6E880\",\"#FF97FF\",\"#FECB52\"],\"font\":{\"color\":\"#2a3f5f\"},\"geo\":{\"bgcolor\":\"white\",\"lakecolor\":\"white\",\"landcolor\":\"#E5ECF6\",\"showlakes\":true,\"showland\":true,\"subunitcolor\":\"white\"},\"hoverlabel\":{\"align\":\"left\"},\"hovermode\":\"closest\",\"mapbox\":{\"style\":\"light\"},\"paper_bgcolor\":\"white\",\"plot_bgcolor\":\"#E5ECF6\",\"polar\":{\"angularaxis\":{\"gridcolor\":\"white\",\"linecolor\":\"white\",\"ticks\":\"\"},\"bgcolor\":\"#E5ECF6\",\"radialaxis\":{\"gridcolor\":\"white\",\"linecolor\":\"white\",\"ticks\":\"\"}},\"scene\":{\"xaxis\":{\"backgroundcolor\":\"#E5ECF6\",\"gridcolor\":\"white\",\"gridwidth\":2,\"linecolor\":\"white\",\"showbackground\":true,\"ticks\":\"\",\"zerolinecolor\":\"white\"},\"yaxis\":{\"backgroundcolor\":\"#E5ECF6\",\"gridcolor\":\"white\",\"gridwidth\":2,\"linecolor\":\"white\",\"showbackground\":true,\"ticks\":\"\",\"zerolinecolor\":\"white\"},\"zaxis\":{\"backgroundcolor\":\"#E5ECF6\",\"gridcolor\":\"white\",\"gridwidth\":2,\"linecolor\":\"white\",\"showbackground\":true,\"ticks\":\"\",\"zerolinecolor\":\"white\"}},\"shapedefaults\":{\"line\":{\"color\":\"#2a3f5f\"}},\"ternary\":{\"aaxis\":{\"gridcolor\":\"white\",\"linecolor\":\"white\",\"ticks\":\"\"},\"baxis\":{\"gridcolor\":\"white\",\"linecolor\":\"white\",\"ticks\":\"\"},\"bgcolor\":\"#E5ECF6\",\"caxis\":{\"gridcolor\":\"white\",\"linecolor\":\"white\",\"ticks\":\"\"}},\"title\":{\"x\":0.05},\"xaxis\":{\"automargin\":true,\"gridcolor\":\"white\",\"linecolor\":\"white\",\"ticks\":\"\",\"title\":{\"standoff\":15},\"zerolinecolor\":\"white\",\"zerolinewidth\":2},\"yaxis\":{\"automargin\":true,\"gridcolor\":\"white\",\"linecolor\":\"white\",\"ticks\":\"\",\"title\":{\"standoff\":15},\"zerolinecolor\":\"white\",\"zerolinewidth\":2}}},\"legend\":{\"tracegroupgap\":0},\"title\":{\"text\":\"Ownership Type\"},\"piecolorway\":[\"#32a852\",\"#3261a8\",\"#a83259\"]},                        {\"responsive\": true}                    ).then(function(){\n",
       "                            \n",
       "var gd = document.getElementById('b9795f8a-418f-4528-b5fb-0df0c47f441a');\n",
       "var x = new MutationObserver(function (mutations, observer) {{\n",
       "        var display = window.getComputedStyle(gd).display;\n",
       "        if (!display || display === 'none') {{\n",
       "            console.log([gd, 'removed!']);\n",
       "            Plotly.purge(gd);\n",
       "            observer.disconnect();\n",
       "        }}\n",
       "}});\n",
       "\n",
       "// Listen for the removal of the full notebook cells\n",
       "var notebookContainer = gd.closest('#notebook-container');\n",
       "if (notebookContainer) {{\n",
       "    x.observe(notebookContainer, {childList: true});\n",
       "}}\n",
       "\n",
       "// Listen for the clearing of the current output cell\n",
       "var outputEl = gd.closest('.output');\n",
       "if (outputEl) {{\n",
       "    x.observe(outputEl, {childList: true});\n",
       "}}\n",
       "\n",
       "                        })                };                });            </script>        </div>"
      ]
     },
     "metadata": {},
     "output_type": "display_data"
    }
   ],
   "source": [
    "ownershipPie = data['owner_ship'].value_counts()\n",
    "\n",
    "fig = px.pie(ownershipPie, values=ownershipPie.values, names=ownershipPie.index, title='Ownership Type',\n",
    "            color_discrete_sequence=['#32a852', '#3261a8', '#a83259'], hole=0.4)\n",
    "fig.show()"
   ]
  },
  {
   "cell_type": "markdown",
   "id": "ccc24777",
   "metadata": {},
   "source": [
    "Above donut chart shows that in top 200 colleges of india major contribution is shared by the public or government's colleges"
   ]
  },
  {
   "cell_type": "code",
   "execution_count": 500,
   "id": "23101568",
   "metadata": {},
   "outputs": [
    {
     "data": {
      "application/vnd.plotly.v1+json": {
       "config": {
        "plotlyServerURL": "https://plot.ly"
       },
       "data": [
        {
         "alignmentgroup": "True",
         "hovertemplate": "grade=%{x}<br>gradeCount=%{y}<extra></extra>",
         "legendgroup": "",
         "marker": {
          "color": "#32a852",
          "pattern": {
           "shape": ""
          }
         },
         "name": "",
         "offsetgroup": "",
         "orientation": "v",
         "showlegend": false,
         "textposition": "auto",
         "type": "bar",
         "x": [
          "AAAA",
          "AAAAA",
          "AAA",
          "AA"
         ],
         "xaxis": "x",
         "y": [
          135,
          34,
          30,
          1
         ],
         "yaxis": "y"
        }
       ],
       "layout": {
        "barmode": "relative",
        "legend": {
         "tracegroupgap": 0
        },
        "template": {
         "data": {
          "bar": [
           {
            "error_x": {
             "color": "#2a3f5f"
            },
            "error_y": {
             "color": "#2a3f5f"
            },
            "marker": {
             "line": {
              "color": "#E5ECF6",
              "width": 0.5
             },
             "pattern": {
              "fillmode": "overlay",
              "size": 10,
              "solidity": 0.2
             }
            },
            "type": "bar"
           }
          ],
          "barpolar": [
           {
            "marker": {
             "line": {
              "color": "#E5ECF6",
              "width": 0.5
             },
             "pattern": {
              "fillmode": "overlay",
              "size": 10,
              "solidity": 0.2
             }
            },
            "type": "barpolar"
           }
          ],
          "carpet": [
           {
            "aaxis": {
             "endlinecolor": "#2a3f5f",
             "gridcolor": "white",
             "linecolor": "white",
             "minorgridcolor": "white",
             "startlinecolor": "#2a3f5f"
            },
            "baxis": {
             "endlinecolor": "#2a3f5f",
             "gridcolor": "white",
             "linecolor": "white",
             "minorgridcolor": "white",
             "startlinecolor": "#2a3f5f"
            },
            "type": "carpet"
           }
          ],
          "choropleth": [
           {
            "colorbar": {
             "outlinewidth": 0,
             "ticks": ""
            },
            "type": "choropleth"
           }
          ],
          "contour": [
           {
            "colorbar": {
             "outlinewidth": 0,
             "ticks": ""
            },
            "colorscale": [
             [
              0,
              "#0d0887"
             ],
             [
              0.1111111111111111,
              "#46039f"
             ],
             [
              0.2222222222222222,
              "#7201a8"
             ],
             [
              0.3333333333333333,
              "#9c179e"
             ],
             [
              0.4444444444444444,
              "#bd3786"
             ],
             [
              0.5555555555555556,
              "#d8576b"
             ],
             [
              0.6666666666666666,
              "#ed7953"
             ],
             [
              0.7777777777777778,
              "#fb9f3a"
             ],
             [
              0.8888888888888888,
              "#fdca26"
             ],
             [
              1,
              "#f0f921"
             ]
            ],
            "type": "contour"
           }
          ],
          "contourcarpet": [
           {
            "colorbar": {
             "outlinewidth": 0,
             "ticks": ""
            },
            "type": "contourcarpet"
           }
          ],
          "heatmap": [
           {
            "colorbar": {
             "outlinewidth": 0,
             "ticks": ""
            },
            "colorscale": [
             [
              0,
              "#0d0887"
             ],
             [
              0.1111111111111111,
              "#46039f"
             ],
             [
              0.2222222222222222,
              "#7201a8"
             ],
             [
              0.3333333333333333,
              "#9c179e"
             ],
             [
              0.4444444444444444,
              "#bd3786"
             ],
             [
              0.5555555555555556,
              "#d8576b"
             ],
             [
              0.6666666666666666,
              "#ed7953"
             ],
             [
              0.7777777777777778,
              "#fb9f3a"
             ],
             [
              0.8888888888888888,
              "#fdca26"
             ],
             [
              1,
              "#f0f921"
             ]
            ],
            "type": "heatmap"
           }
          ],
          "heatmapgl": [
           {
            "colorbar": {
             "outlinewidth": 0,
             "ticks": ""
            },
            "colorscale": [
             [
              0,
              "#0d0887"
             ],
             [
              0.1111111111111111,
              "#46039f"
             ],
             [
              0.2222222222222222,
              "#7201a8"
             ],
             [
              0.3333333333333333,
              "#9c179e"
             ],
             [
              0.4444444444444444,
              "#bd3786"
             ],
             [
              0.5555555555555556,
              "#d8576b"
             ],
             [
              0.6666666666666666,
              "#ed7953"
             ],
             [
              0.7777777777777778,
              "#fb9f3a"
             ],
             [
              0.8888888888888888,
              "#fdca26"
             ],
             [
              1,
              "#f0f921"
             ]
            ],
            "type": "heatmapgl"
           }
          ],
          "histogram": [
           {
            "marker": {
             "pattern": {
              "fillmode": "overlay",
              "size": 10,
              "solidity": 0.2
             }
            },
            "type": "histogram"
           }
          ],
          "histogram2d": [
           {
            "colorbar": {
             "outlinewidth": 0,
             "ticks": ""
            },
            "colorscale": [
             [
              0,
              "#0d0887"
             ],
             [
              0.1111111111111111,
              "#46039f"
             ],
             [
              0.2222222222222222,
              "#7201a8"
             ],
             [
              0.3333333333333333,
              "#9c179e"
             ],
             [
              0.4444444444444444,
              "#bd3786"
             ],
             [
              0.5555555555555556,
              "#d8576b"
             ],
             [
              0.6666666666666666,
              "#ed7953"
             ],
             [
              0.7777777777777778,
              "#fb9f3a"
             ],
             [
              0.8888888888888888,
              "#fdca26"
             ],
             [
              1,
              "#f0f921"
             ]
            ],
            "type": "histogram2d"
           }
          ],
          "histogram2dcontour": [
           {
            "colorbar": {
             "outlinewidth": 0,
             "ticks": ""
            },
            "colorscale": [
             [
              0,
              "#0d0887"
             ],
             [
              0.1111111111111111,
              "#46039f"
             ],
             [
              0.2222222222222222,
              "#7201a8"
             ],
             [
              0.3333333333333333,
              "#9c179e"
             ],
             [
              0.4444444444444444,
              "#bd3786"
             ],
             [
              0.5555555555555556,
              "#d8576b"
             ],
             [
              0.6666666666666666,
              "#ed7953"
             ],
             [
              0.7777777777777778,
              "#fb9f3a"
             ],
             [
              0.8888888888888888,
              "#fdca26"
             ],
             [
              1,
              "#f0f921"
             ]
            ],
            "type": "histogram2dcontour"
           }
          ],
          "mesh3d": [
           {
            "colorbar": {
             "outlinewidth": 0,
             "ticks": ""
            },
            "type": "mesh3d"
           }
          ],
          "parcoords": [
           {
            "line": {
             "colorbar": {
              "outlinewidth": 0,
              "ticks": ""
             }
            },
            "type": "parcoords"
           }
          ],
          "pie": [
           {
            "automargin": true,
            "type": "pie"
           }
          ],
          "scatter": [
           {
            "marker": {
             "colorbar": {
              "outlinewidth": 0,
              "ticks": ""
             }
            },
            "type": "scatter"
           }
          ],
          "scatter3d": [
           {
            "line": {
             "colorbar": {
              "outlinewidth": 0,
              "ticks": ""
             }
            },
            "marker": {
             "colorbar": {
              "outlinewidth": 0,
              "ticks": ""
             }
            },
            "type": "scatter3d"
           }
          ],
          "scattercarpet": [
           {
            "marker": {
             "colorbar": {
              "outlinewidth": 0,
              "ticks": ""
             }
            },
            "type": "scattercarpet"
           }
          ],
          "scattergeo": [
           {
            "marker": {
             "colorbar": {
              "outlinewidth": 0,
              "ticks": ""
             }
            },
            "type": "scattergeo"
           }
          ],
          "scattergl": [
           {
            "marker": {
             "colorbar": {
              "outlinewidth": 0,
              "ticks": ""
             }
            },
            "type": "scattergl"
           }
          ],
          "scattermapbox": [
           {
            "marker": {
             "colorbar": {
              "outlinewidth": 0,
              "ticks": ""
             }
            },
            "type": "scattermapbox"
           }
          ],
          "scatterpolar": [
           {
            "marker": {
             "colorbar": {
              "outlinewidth": 0,
              "ticks": ""
             }
            },
            "type": "scatterpolar"
           }
          ],
          "scatterpolargl": [
           {
            "marker": {
             "colorbar": {
              "outlinewidth": 0,
              "ticks": ""
             }
            },
            "type": "scatterpolargl"
           }
          ],
          "scatterternary": [
           {
            "marker": {
             "colorbar": {
              "outlinewidth": 0,
              "ticks": ""
             }
            },
            "type": "scatterternary"
           }
          ],
          "surface": [
           {
            "colorbar": {
             "outlinewidth": 0,
             "ticks": ""
            },
            "colorscale": [
             [
              0,
              "#0d0887"
             ],
             [
              0.1111111111111111,
              "#46039f"
             ],
             [
              0.2222222222222222,
              "#7201a8"
             ],
             [
              0.3333333333333333,
              "#9c179e"
             ],
             [
              0.4444444444444444,
              "#bd3786"
             ],
             [
              0.5555555555555556,
              "#d8576b"
             ],
             [
              0.6666666666666666,
              "#ed7953"
             ],
             [
              0.7777777777777778,
              "#fb9f3a"
             ],
             [
              0.8888888888888888,
              "#fdca26"
             ],
             [
              1,
              "#f0f921"
             ]
            ],
            "type": "surface"
           }
          ],
          "table": [
           {
            "cells": {
             "fill": {
              "color": "#EBF0F8"
             },
             "line": {
              "color": "white"
             }
            },
            "header": {
             "fill": {
              "color": "#C8D4E3"
             },
             "line": {
              "color": "white"
             }
            },
            "type": "table"
           }
          ]
         },
         "layout": {
          "annotationdefaults": {
           "arrowcolor": "#2a3f5f",
           "arrowhead": 0,
           "arrowwidth": 1
          },
          "autotypenumbers": "strict",
          "coloraxis": {
           "colorbar": {
            "outlinewidth": 0,
            "ticks": ""
           }
          },
          "colorscale": {
           "diverging": [
            [
             0,
             "#8e0152"
            ],
            [
             0.1,
             "#c51b7d"
            ],
            [
             0.2,
             "#de77ae"
            ],
            [
             0.3,
             "#f1b6da"
            ],
            [
             0.4,
             "#fde0ef"
            ],
            [
             0.5,
             "#f7f7f7"
            ],
            [
             0.6,
             "#e6f5d0"
            ],
            [
             0.7,
             "#b8e186"
            ],
            [
             0.8,
             "#7fbc41"
            ],
            [
             0.9,
             "#4d9221"
            ],
            [
             1,
             "#276419"
            ]
           ],
           "sequential": [
            [
             0,
             "#0d0887"
            ],
            [
             0.1111111111111111,
             "#46039f"
            ],
            [
             0.2222222222222222,
             "#7201a8"
            ],
            [
             0.3333333333333333,
             "#9c179e"
            ],
            [
             0.4444444444444444,
             "#bd3786"
            ],
            [
             0.5555555555555556,
             "#d8576b"
            ],
            [
             0.6666666666666666,
             "#ed7953"
            ],
            [
             0.7777777777777778,
             "#fb9f3a"
            ],
            [
             0.8888888888888888,
             "#fdca26"
            ],
            [
             1,
             "#f0f921"
            ]
           ],
           "sequentialminus": [
            [
             0,
             "#0d0887"
            ],
            [
             0.1111111111111111,
             "#46039f"
            ],
            [
             0.2222222222222222,
             "#7201a8"
            ],
            [
             0.3333333333333333,
             "#9c179e"
            ],
            [
             0.4444444444444444,
             "#bd3786"
            ],
            [
             0.5555555555555556,
             "#d8576b"
            ],
            [
             0.6666666666666666,
             "#ed7953"
            ],
            [
             0.7777777777777778,
             "#fb9f3a"
            ],
            [
             0.8888888888888888,
             "#fdca26"
            ],
            [
             1,
             "#f0f921"
            ]
           ]
          },
          "colorway": [
           "#636efa",
           "#EF553B",
           "#00cc96",
           "#ab63fa",
           "#FFA15A",
           "#19d3f3",
           "#FF6692",
           "#B6E880",
           "#FF97FF",
           "#FECB52"
          ],
          "font": {
           "color": "#2a3f5f"
          },
          "geo": {
           "bgcolor": "white",
           "lakecolor": "white",
           "landcolor": "#E5ECF6",
           "showlakes": true,
           "showland": true,
           "subunitcolor": "white"
          },
          "hoverlabel": {
           "align": "left"
          },
          "hovermode": "closest",
          "mapbox": {
           "style": "light"
          },
          "paper_bgcolor": "white",
          "plot_bgcolor": "#E5ECF6",
          "polar": {
           "angularaxis": {
            "gridcolor": "white",
            "linecolor": "white",
            "ticks": ""
           },
           "bgcolor": "#E5ECF6",
           "radialaxis": {
            "gridcolor": "white",
            "linecolor": "white",
            "ticks": ""
           }
          },
          "scene": {
           "xaxis": {
            "backgroundcolor": "#E5ECF6",
            "gridcolor": "white",
            "gridwidth": 2,
            "linecolor": "white",
            "showbackground": true,
            "ticks": "",
            "zerolinecolor": "white"
           },
           "yaxis": {
            "backgroundcolor": "#E5ECF6",
            "gridcolor": "white",
            "gridwidth": 2,
            "linecolor": "white",
            "showbackground": true,
            "ticks": "",
            "zerolinecolor": "white"
           },
           "zaxis": {
            "backgroundcolor": "#E5ECF6",
            "gridcolor": "white",
            "gridwidth": 2,
            "linecolor": "white",
            "showbackground": true,
            "ticks": "",
            "zerolinecolor": "white"
           }
          },
          "shapedefaults": {
           "line": {
            "color": "#2a3f5f"
           }
          },
          "ternary": {
           "aaxis": {
            "gridcolor": "white",
            "linecolor": "white",
            "ticks": ""
           },
           "baxis": {
            "gridcolor": "white",
            "linecolor": "white",
            "ticks": ""
           },
           "bgcolor": "#E5ECF6",
           "caxis": {
            "gridcolor": "white",
            "linecolor": "white",
            "ticks": ""
           }
          },
          "title": {
           "x": 0.05
          },
          "xaxis": {
           "automargin": true,
           "gridcolor": "white",
           "linecolor": "white",
           "ticks": "",
           "title": {
            "standoff": 15
           },
           "zerolinecolor": "white",
           "zerolinewidth": 2
          },
          "yaxis": {
           "automargin": true,
           "gridcolor": "white",
           "linecolor": "white",
           "ticks": "",
           "title": {
            "standoff": 15
           },
           "zerolinecolor": "white",
           "zerolinewidth": 2
          }
         }
        },
        "title": {
         "text": "Grades Count"
        },
        "xaxis": {
         "anchor": "y",
         "domain": [
          0,
          1
         ],
         "title": {
          "text": "grade"
         }
        },
        "yaxis": {
         "anchor": "x",
         "domain": [
          0,
          1
         ],
         "title": {
          "text": "gradeCount"
         }
        }
       }
      },
      "text/html": [
       "<div>                            <div id=\"cd57b16d-bd88-41c4-a9ca-1a6cab34e2f1\" class=\"plotly-graph-div\" style=\"height:525px; width:100%;\"></div>            <script type=\"text/javascript\">                require([\"plotly\"], function(Plotly) {                    window.PLOTLYENV=window.PLOTLYENV || {};                                    if (document.getElementById(\"cd57b16d-bd88-41c4-a9ca-1a6cab34e2f1\")) {                    Plotly.newPlot(                        \"cd57b16d-bd88-41c4-a9ca-1a6cab34e2f1\",                        [{\"alignmentgroup\":\"True\",\"hovertemplate\":\"grade=%{x}<br>gradeCount=%{y}<extra></extra>\",\"legendgroup\":\"\",\"marker\":{\"color\":\"#32a852\",\"pattern\":{\"shape\":\"\"}},\"name\":\"\",\"offsetgroup\":\"\",\"orientation\":\"v\",\"showlegend\":false,\"textposition\":\"auto\",\"x\":[\"AAAA\",\"AAAAA\",\"AAA\",\"AA\"],\"xaxis\":\"x\",\"y\":[135,34,30,1],\"yaxis\":\"y\",\"type\":\"bar\"}],                        {\"template\":{\"data\":{\"bar\":[{\"error_x\":{\"color\":\"#2a3f5f\"},\"error_y\":{\"color\":\"#2a3f5f\"},\"marker\":{\"line\":{\"color\":\"#E5ECF6\",\"width\":0.5},\"pattern\":{\"fillmode\":\"overlay\",\"size\":10,\"solidity\":0.2}},\"type\":\"bar\"}],\"barpolar\":[{\"marker\":{\"line\":{\"color\":\"#E5ECF6\",\"width\":0.5},\"pattern\":{\"fillmode\":\"overlay\",\"size\":10,\"solidity\":0.2}},\"type\":\"barpolar\"}],\"carpet\":[{\"aaxis\":{\"endlinecolor\":\"#2a3f5f\",\"gridcolor\":\"white\",\"linecolor\":\"white\",\"minorgridcolor\":\"white\",\"startlinecolor\":\"#2a3f5f\"},\"baxis\":{\"endlinecolor\":\"#2a3f5f\",\"gridcolor\":\"white\",\"linecolor\":\"white\",\"minorgridcolor\":\"white\",\"startlinecolor\":\"#2a3f5f\"},\"type\":\"carpet\"}],\"choropleth\":[{\"colorbar\":{\"outlinewidth\":0,\"ticks\":\"\"},\"type\":\"choropleth\"}],\"contour\":[{\"colorbar\":{\"outlinewidth\":0,\"ticks\":\"\"},\"colorscale\":[[0.0,\"#0d0887\"],[0.1111111111111111,\"#46039f\"],[0.2222222222222222,\"#7201a8\"],[0.3333333333333333,\"#9c179e\"],[0.4444444444444444,\"#bd3786\"],[0.5555555555555556,\"#d8576b\"],[0.6666666666666666,\"#ed7953\"],[0.7777777777777778,\"#fb9f3a\"],[0.8888888888888888,\"#fdca26\"],[1.0,\"#f0f921\"]],\"type\":\"contour\"}],\"contourcarpet\":[{\"colorbar\":{\"outlinewidth\":0,\"ticks\":\"\"},\"type\":\"contourcarpet\"}],\"heatmap\":[{\"colorbar\":{\"outlinewidth\":0,\"ticks\":\"\"},\"colorscale\":[[0.0,\"#0d0887\"],[0.1111111111111111,\"#46039f\"],[0.2222222222222222,\"#7201a8\"],[0.3333333333333333,\"#9c179e\"],[0.4444444444444444,\"#bd3786\"],[0.5555555555555556,\"#d8576b\"],[0.6666666666666666,\"#ed7953\"],[0.7777777777777778,\"#fb9f3a\"],[0.8888888888888888,\"#fdca26\"],[1.0,\"#f0f921\"]],\"type\":\"heatmap\"}],\"heatmapgl\":[{\"colorbar\":{\"outlinewidth\":0,\"ticks\":\"\"},\"colorscale\":[[0.0,\"#0d0887\"],[0.1111111111111111,\"#46039f\"],[0.2222222222222222,\"#7201a8\"],[0.3333333333333333,\"#9c179e\"],[0.4444444444444444,\"#bd3786\"],[0.5555555555555556,\"#d8576b\"],[0.6666666666666666,\"#ed7953\"],[0.7777777777777778,\"#fb9f3a\"],[0.8888888888888888,\"#fdca26\"],[1.0,\"#f0f921\"]],\"type\":\"heatmapgl\"}],\"histogram\":[{\"marker\":{\"pattern\":{\"fillmode\":\"overlay\",\"size\":10,\"solidity\":0.2}},\"type\":\"histogram\"}],\"histogram2d\":[{\"colorbar\":{\"outlinewidth\":0,\"ticks\":\"\"},\"colorscale\":[[0.0,\"#0d0887\"],[0.1111111111111111,\"#46039f\"],[0.2222222222222222,\"#7201a8\"],[0.3333333333333333,\"#9c179e\"],[0.4444444444444444,\"#bd3786\"],[0.5555555555555556,\"#d8576b\"],[0.6666666666666666,\"#ed7953\"],[0.7777777777777778,\"#fb9f3a\"],[0.8888888888888888,\"#fdca26\"],[1.0,\"#f0f921\"]],\"type\":\"histogram2d\"}],\"histogram2dcontour\":[{\"colorbar\":{\"outlinewidth\":0,\"ticks\":\"\"},\"colorscale\":[[0.0,\"#0d0887\"],[0.1111111111111111,\"#46039f\"],[0.2222222222222222,\"#7201a8\"],[0.3333333333333333,\"#9c179e\"],[0.4444444444444444,\"#bd3786\"],[0.5555555555555556,\"#d8576b\"],[0.6666666666666666,\"#ed7953\"],[0.7777777777777778,\"#fb9f3a\"],[0.8888888888888888,\"#fdca26\"],[1.0,\"#f0f921\"]],\"type\":\"histogram2dcontour\"}],\"mesh3d\":[{\"colorbar\":{\"outlinewidth\":0,\"ticks\":\"\"},\"type\":\"mesh3d\"}],\"parcoords\":[{\"line\":{\"colorbar\":{\"outlinewidth\":0,\"ticks\":\"\"}},\"type\":\"parcoords\"}],\"pie\":[{\"automargin\":true,\"type\":\"pie\"}],\"scatter\":[{\"marker\":{\"colorbar\":{\"outlinewidth\":0,\"ticks\":\"\"}},\"type\":\"scatter\"}],\"scatter3d\":[{\"line\":{\"colorbar\":{\"outlinewidth\":0,\"ticks\":\"\"}},\"marker\":{\"colorbar\":{\"outlinewidth\":0,\"ticks\":\"\"}},\"type\":\"scatter3d\"}],\"scattercarpet\":[{\"marker\":{\"colorbar\":{\"outlinewidth\":0,\"ticks\":\"\"}},\"type\":\"scattercarpet\"}],\"scattergeo\":[{\"marker\":{\"colorbar\":{\"outlinewidth\":0,\"ticks\":\"\"}},\"type\":\"scattergeo\"}],\"scattergl\":[{\"marker\":{\"colorbar\":{\"outlinewidth\":0,\"ticks\":\"\"}},\"type\":\"scattergl\"}],\"scattermapbox\":[{\"marker\":{\"colorbar\":{\"outlinewidth\":0,\"ticks\":\"\"}},\"type\":\"scattermapbox\"}],\"scatterpolar\":[{\"marker\":{\"colorbar\":{\"outlinewidth\":0,\"ticks\":\"\"}},\"type\":\"scatterpolar\"}],\"scatterpolargl\":[{\"marker\":{\"colorbar\":{\"outlinewidth\":0,\"ticks\":\"\"}},\"type\":\"scatterpolargl\"}],\"scatterternary\":[{\"marker\":{\"colorbar\":{\"outlinewidth\":0,\"ticks\":\"\"}},\"type\":\"scatterternary\"}],\"surface\":[{\"colorbar\":{\"outlinewidth\":0,\"ticks\":\"\"},\"colorscale\":[[0.0,\"#0d0887\"],[0.1111111111111111,\"#46039f\"],[0.2222222222222222,\"#7201a8\"],[0.3333333333333333,\"#9c179e\"],[0.4444444444444444,\"#bd3786\"],[0.5555555555555556,\"#d8576b\"],[0.6666666666666666,\"#ed7953\"],[0.7777777777777778,\"#fb9f3a\"],[0.8888888888888888,\"#fdca26\"],[1.0,\"#f0f921\"]],\"type\":\"surface\"}],\"table\":[{\"cells\":{\"fill\":{\"color\":\"#EBF0F8\"},\"line\":{\"color\":\"white\"}},\"header\":{\"fill\":{\"color\":\"#C8D4E3\"},\"line\":{\"color\":\"white\"}},\"type\":\"table\"}]},\"layout\":{\"annotationdefaults\":{\"arrowcolor\":\"#2a3f5f\",\"arrowhead\":0,\"arrowwidth\":1},\"autotypenumbers\":\"strict\",\"coloraxis\":{\"colorbar\":{\"outlinewidth\":0,\"ticks\":\"\"}},\"colorscale\":{\"diverging\":[[0,\"#8e0152\"],[0.1,\"#c51b7d\"],[0.2,\"#de77ae\"],[0.3,\"#f1b6da\"],[0.4,\"#fde0ef\"],[0.5,\"#f7f7f7\"],[0.6,\"#e6f5d0\"],[0.7,\"#b8e186\"],[0.8,\"#7fbc41\"],[0.9,\"#4d9221\"],[1,\"#276419\"]],\"sequential\":[[0.0,\"#0d0887\"],[0.1111111111111111,\"#46039f\"],[0.2222222222222222,\"#7201a8\"],[0.3333333333333333,\"#9c179e\"],[0.4444444444444444,\"#bd3786\"],[0.5555555555555556,\"#d8576b\"],[0.6666666666666666,\"#ed7953\"],[0.7777777777777778,\"#fb9f3a\"],[0.8888888888888888,\"#fdca26\"],[1.0,\"#f0f921\"]],\"sequentialminus\":[[0.0,\"#0d0887\"],[0.1111111111111111,\"#46039f\"],[0.2222222222222222,\"#7201a8\"],[0.3333333333333333,\"#9c179e\"],[0.4444444444444444,\"#bd3786\"],[0.5555555555555556,\"#d8576b\"],[0.6666666666666666,\"#ed7953\"],[0.7777777777777778,\"#fb9f3a\"],[0.8888888888888888,\"#fdca26\"],[1.0,\"#f0f921\"]]},\"colorway\":[\"#636efa\",\"#EF553B\",\"#00cc96\",\"#ab63fa\",\"#FFA15A\",\"#19d3f3\",\"#FF6692\",\"#B6E880\",\"#FF97FF\",\"#FECB52\"],\"font\":{\"color\":\"#2a3f5f\"},\"geo\":{\"bgcolor\":\"white\",\"lakecolor\":\"white\",\"landcolor\":\"#E5ECF6\",\"showlakes\":true,\"showland\":true,\"subunitcolor\":\"white\"},\"hoverlabel\":{\"align\":\"left\"},\"hovermode\":\"closest\",\"mapbox\":{\"style\":\"light\"},\"paper_bgcolor\":\"white\",\"plot_bgcolor\":\"#E5ECF6\",\"polar\":{\"angularaxis\":{\"gridcolor\":\"white\",\"linecolor\":\"white\",\"ticks\":\"\"},\"bgcolor\":\"#E5ECF6\",\"radialaxis\":{\"gridcolor\":\"white\",\"linecolor\":\"white\",\"ticks\":\"\"}},\"scene\":{\"xaxis\":{\"backgroundcolor\":\"#E5ECF6\",\"gridcolor\":\"white\",\"gridwidth\":2,\"linecolor\":\"white\",\"showbackground\":true,\"ticks\":\"\",\"zerolinecolor\":\"white\"},\"yaxis\":{\"backgroundcolor\":\"#E5ECF6\",\"gridcolor\":\"white\",\"gridwidth\":2,\"linecolor\":\"white\",\"showbackground\":true,\"ticks\":\"\",\"zerolinecolor\":\"white\"},\"zaxis\":{\"backgroundcolor\":\"#E5ECF6\",\"gridcolor\":\"white\",\"gridwidth\":2,\"linecolor\":\"white\",\"showbackground\":true,\"ticks\":\"\",\"zerolinecolor\":\"white\"}},\"shapedefaults\":{\"line\":{\"color\":\"#2a3f5f\"}},\"ternary\":{\"aaxis\":{\"gridcolor\":\"white\",\"linecolor\":\"white\",\"ticks\":\"\"},\"baxis\":{\"gridcolor\":\"white\",\"linecolor\":\"white\",\"ticks\":\"\"},\"bgcolor\":\"#E5ECF6\",\"caxis\":{\"gridcolor\":\"white\",\"linecolor\":\"white\",\"ticks\":\"\"}},\"title\":{\"x\":0.05},\"xaxis\":{\"automargin\":true,\"gridcolor\":\"white\",\"linecolor\":\"white\",\"ticks\":\"\",\"title\":{\"standoff\":15},\"zerolinecolor\":\"white\",\"zerolinewidth\":2},\"yaxis\":{\"automargin\":true,\"gridcolor\":\"white\",\"linecolor\":\"white\",\"ticks\":\"\",\"title\":{\"standoff\":15},\"zerolinecolor\":\"white\",\"zerolinewidth\":2}}},\"xaxis\":{\"anchor\":\"y\",\"domain\":[0.0,1.0],\"title\":{\"text\":\"grade\"}},\"yaxis\":{\"anchor\":\"x\",\"domain\":[0.0,1.0],\"title\":{\"text\":\"gradeCount\"}},\"legend\":{\"tracegroupgap\":0},\"title\":{\"text\":\"Grades Count\"},\"barmode\":\"relative\"},                        {\"responsive\": true}                    ).then(function(){\n",
       "                            \n",
       "var gd = document.getElementById('cd57b16d-bd88-41c4-a9ca-1a6cab34e2f1');\n",
       "var x = new MutationObserver(function (mutations, observer) {{\n",
       "        var display = window.getComputedStyle(gd).display;\n",
       "        if (!display || display === 'none') {{\n",
       "            console.log([gd, 'removed!']);\n",
       "            Plotly.purge(gd);\n",
       "            observer.disconnect();\n",
       "        }}\n",
       "}});\n",
       "\n",
       "// Listen for the removal of the full notebook cells\n",
       "var notebookContainer = gd.closest('#notebook-container');\n",
       "if (notebookContainer) {{\n",
       "    x.observe(notebookContainer, {childList: true});\n",
       "}}\n",
       "\n",
       "// Listen for the clearing of the current output cell\n",
       "var outputEl = gd.closest('.output');\n",
       "if (outputEl) {{\n",
       "    x.observe(outputEl, {childList: true});\n",
       "}}\n",
       "\n",
       "                        })                };                });            </script>        </div>"
      ]
     },
     "metadata": {},
     "output_type": "display_data"
    }
   ],
   "source": [
    "barGrade =data['grade'].value_counts()\n",
    "dictionary = {'grade':barGrade.index, 'gradeCount':barGrade.values}\n",
    "barGrade = pd.DataFrame(dictionary)\n",
    "\n",
    "fig = px.bar(barGrade, x='grade', y='gradeCount', \n",
    "             color_discrete_sequence=['#32a852', '#3261a8', '#a83259','#D0D57C'],\n",
    "            title='Grades Count')\n",
    "fig.show()"
   ]
  },
  {
   "cell_type": "markdown",
   "id": "9cd8ba17",
   "metadata": {},
   "source": [
    "Above bar-chart shows that grade AAAA is obtained by the most of the colleges while only 1 college is there with grade AA\n",
    "\n",
    "There is no colleges that lies in top 200 colleges containing grade A"
   ]
  },
  {
   "cell_type": "code",
   "execution_count": 505,
   "id": "2a17294d",
   "metadata": {},
   "outputs": [
    {
     "data": {
      "image/png": "[encoded data removed]",
      "text/plain": [
       "<Figure size 720x576 with 2 Axes>"
      ]
     },
     "metadata": {
      "needs_background": "light"
     },
     "output_type": "display_data"
    }
   ],
   "source": [
    "plt.figure(figsize =(10,8))\n",
    "plt.title('Heat Map', fontdict={'size':15,'color':'green'})\n",
    "sns.heatmap(data.iloc[:, 4:].corr(),annot=True, cmap='coolwarm')\n",
    "plt.show()"
   ]
  },
  {
   "cell_type": "raw",
   "id": "af9f54b6",
   "metadata": {},
   "source": [
    "From heat map it is clear that total is highly related to all numerical variable as total ratings depends on the factor like perc(peer's perception) ,oi (outreach inclusivity), go (graduation outcome), RPC(Research Practices) etc\n",
    "\n",
    "Here it can be seen that teaching learning resource and research practices are weekly correlated"
   ]
  },
  {
   "cell_type": "code",
   "execution_count": 515,
   "id": "09d34b42",
   "metadata": {},
   "outputs": [
    {
     "name": "stdout",
     "output_type": "stream",
     "text": [
      "Pair Plot\n"
     ]
    },
    {
     "data": {
      "text/plain": [
       "<function matplotlib.pyplot.show(close=None, block=None)>"
      ]
     },
     "execution_count": 515,
     "metadata": {},
     "output_type": "execute_result"
    },
    {
     "data": {
      "text/plain": [
       "<Figure size 864x576 with 0 Axes>"
      ]
     },
     "metadata": {},
     "output_type": "display_data"
    },
    {
     "data": {
      "image/png": "[encoded data removed]",
      "text/plain": [
       "<Figure size 1080x1080 with 42 Axes>"
      ]
     },
     "metadata": {
      "needs_background": "light"
     },
     "output_type": "display_data"
    }
   ],
   "source": [
    "print(\"Pair Plot\")\n",
    "plt.figure(figsize =(12,8))\n",
    "sns.pairplot(data.iloc[:, 4:])\n",
    "plt.show"
   ]
  },
  {
   "cell_type": "code",
   "execution_count": 517,
   "id": "19745227",
   "metadata": {},
   "outputs": [
    {
     "data": {
      "application/vnd.plotly.v1+json": {
       "config": {
        "plotlyServerURL": "https://plot.ly"
       },
       "data": [
        {
         "customdata": [
          [
           "IIT Madras - Indian Institute of Technology"
          ],
          [
           "IIT Delhi - Indian Institute of Technology"
          ],
          [
           "IIT Bombay - Indian Institute of Technology"
          ],
          [
           "IIT Kanpur - Indian Institute of Technology"
          ],
          [
           "IIT Kharagpur - Indian Institute of Technology"
          ],
          [
           "IIT Roorkee - Indian Institute of Technology"
          ],
          [
           "IIT Guwahati - Indian Institute of Technology"
          ],
          [
           "NIT Trichy - National Institute of Technology Tiruchirappalli"
          ],
          [
           "IIT Hyderabad - Indian Institute of Technology"
          ],
          [
           "NIT Surathkal - National Institute of Technology Karnataka"
          ],
          [
           "Jadavpur University, Kolkata"
          ],
          [
           "IIT BHU - Indian Institute of Technology Banaras Hindu University"
          ],
          [
           "IIT Dhanbad - Indian Institute of Technology Indian School of Mines"
          ],
          [
           "NIT Rourkela - National Institute of Technology"
          ],
          [
           "IIT Indore - Indian Institute of Technology"
          ],
          [
           "Anna University, Chennai"
          ],
          [
           "ICT Mumbai - Institute of Chemical Technology"
          ],
          [
           "IIT Mandi - Indian Institute of Technology"
          ],
          [
           "NIT Warangal - National Institute of Technology"
          ],
          [
           "IIT Ropar - Indian Institute of Technology"
          ],
          [
           "IIT Gandhinagar - Indian Institute of Technology"
          ],
          [
           "JMI New Delhi - Jamia Millia Islamia"
          ],
          [
           "IIT Jodhpur - Indian Institute of Technology"
          ],
          [
           "NIT Calicut - National Institute of Technology"
          ],
          [
           "VNIT Nagpur - Visvesvaraya National Institute of Technology"
          ],
          [
           "IIT Patna - Indian Institute of Technology"
          ],
          [
           "NIT Durgapur - National Institute of Technology"
          ],
          [
           "DTU Delhi - Delhi Technological University"
          ],
          [
           "IIT Bhubaneswar - Indian Institute of Technology"
          ],
          [
           "AMU Aligarh - Aligarh Muslim University"
          ],
          [
           "NIT Silchar - National Institute of Technology"
          ],
          [
           "IIEST Shibpur - Indian Institute of Engineering Science and Technology"
          ],
          [
           "IIST Thiruvananthapuram - Indian Institute of Space Science and Technology"
          ],
          [
           "MNIT Jaipur - Malaviya National Institute of Technology"
          ],
          [
           "MNNIT Allahabad - Motilal Nehru National Institute of Technology Allahabad Prayagraj"
          ],
          [
           "Visvesvaraya Technological University, Belagavi"
          ],
          [
           "NIT Kurukshetra - National Institute of Technology"
          ],
          [
           "NIT Jalandhar - Dr B R Ambedkar National Institute of Technology"
          ],
          [
           "IIT Tirupati - Indian Institute of Technology"
          ],
          [
           "SVNIT Surat - Sardar Vallabhbhai National Institute of Technology"
          ],
          [
           "NIT Meghalaya - National Institute of Technology"
          ],
          [
           "NIT Patna - National Institute of Technology"
          ],
          [
           "NIT Raipur - National Institute of Technology"
          ],
          [
           "NIT Srinagar - National Institute of Technology"
          ],
          [
           "IIT Palakkad - Indian Institute of Technology"
          ],
          [
           "IIIT Delhi - Indraprastha Institute of Information Technology"
          ],
          [
           "MANIT Bhopal - Maulana Azad National Institute of Technology"
          ],
          [
           "DIAT Pune - Defence Institute of Advanced Technology"
          ],
          [
           "COEP Pune - College of Engineering"
          ],
          [
           "GGSIPU Delhi - Guru Gobind Singh Indraprastha University"
          ],
          [
           "JNTUH University - Jawaharlal Nehru Technological University"
          ],
          [
           "Andhra University College of Engineering, Visakhapatnam"
          ],
          [
           "IIITM Gwalior - Atal Bihari Vajpayee Indian Institute of Information Technology and Management"
          ],
          [
           "NSUT Delhi - Netaji Subhas University of Technology"
          ],
          [
           "NIT Agartala - National Institute of Technology"
          ],
          [
           "IIIT Bangalore - International Institute of Information Technology"
          ],
          [
           "IIITDM Jabalpur - PDPM Indian Institute of Information Technology Design and Manufacturing"
          ],
          [
           "National Institute of Food Technology, Entrepreneurship and Management, Thanjavur"
          ],
          [
           "PEC Chandigarh - Punjab Engineering College"
          ],
          [
           "NIT Goa - National Institute of Technology"
          ],
          [
           "NIT Jamshedpur - National Institute of Technology"
          ],
          [
           "Panjab University, Chandigarh"
          ],
          [
           "IIIT Allahabad - Indian Institute of Information Technology"
          ],
          [
           "SMVDU Katra - Shri Mata Vaishno Devi University"
          ],
          [
           "CIT Coimbatore - Coimbatore Institute of Technology"
          ],
          [
           "NIT Manipur - National Institute of Technology"
          ],
          [
           "College of Engineering, Trivandrum"
          ],
          [
           "VSSUT Sambalpur - Veer Surendra Sai University of Technology"
          ],
          [
           "University College of Engineering, Osmania University, Hyderabad"
          ],
          [
           "VJTI Mumbai - Veermata Jijabai Technological Institute"
          ],
          [
           "DEI Agra - Dayalbagh Educational Institute"
          ],
          [
           "Tezpur University, Tezpur"
          ],
          [
           "NIFTEM Sonepat - National Institute of Food Technology Entrepreneurship and Management"
          ],
          [
           "NIT Hamirpur - National Institute of Technology"
          ],
          [
           "JNTUK Kakinada - Jawaharlal Nehru Technological University"
          ],
          [
           "NIT Uttarakhand - National Institute of Technology"
          ],
          [
           "NIT Puducherry - National Institute of Technology Puducherry Karaikal"
          ],
          [
           "YMCA Faridabad - JC Bose University of Science and Technology, YMCA"
          ],
          [
           "MSU Baroda - Maharaja Sayajirao University of Baroda"
          ],
          [
           "NIFFT Ranchi - National Institute of Advanced Manufacturing Technology"
          ],
          [
           "PEC Puducherry - Puducherry Technological University"
          ],
          [
           "GCT Coimbatore - Government College of Technology"
          ],
          [
           "NIT Arunachal Pradesh - National Institute of Technology"
          ],
          [
           "NIT Sikkim - National Institute of Technology"
          ],
          [
           "IGDTUW Delhi - Indira Gandhi Delhi Technical University for Women"
          ],
          [
           "SLIET Longowal - Sant Longowal Institute of Engineering and Technology"
          ],
          [
           "RGIPT Amethi - Rajiv Gandhi Institute of Petroleum Technology"
          ],
          [
           "IIITDM Kancheepuram - Indian Institute of Information Technology Design and Manufacturing"
          ],
          [
           "IITRAM Ahmedabad - Institute of Infrastructure Technology Research and Management"
          ],
          [
           "NIT Delhi - National Institute of Technology"
          ]
         ],
         "hovertemplate": "owner_ship=Public/Government<br>total=%{x}<br>RPC=%{y}<br>name=%{customdata[0]}<extra></extra>",
         "legendgroup": "Public/Government",
         "marker": {
          "color": "#636efa",
          "symbol": "circle"
         },
         "mode": "markers",
         "name": "Public/Government",
         "orientation": "v",
         "showlegend": true,
         "type": "scatter",
         "x": [
          90.04,
          88.12,
          83.96,
          82.56,
          78.89,
          76.7,
          72.98,
          69.17,
          68.03,
          66.04,
          65.68,
          63.51,
          63.5,
          62.36,
          61.68,
          61.41,
          61.4,
          60.43,
          60,
          59.16,
          58.27,
          57.51,
          56.7,
          56.66,
          56.62,
          56.19,
          55.76,
          55.65,
          55.11,
          54.7,
          54.63,
          54.57,
          52.37,
          51.69,
          51.17,
          50.2,
          50.11,
          49.45,
          48.16,
          47.61,
          46.67,
          46.24,
          45.71,
          45.52,
          44.92,
          44.79,
          44.63,
          44.62,
          44.38,
          44.02,
          42.77,
          42.76,
          42.56,
          42.14,
          41.92,
          41.91,
          41.79,
          41.06,
          41.05,
          40.78,
          40.71,
          40.58,
          40.53,
          40.08,
          39.83,
          39.32,
          39.24,
          39.14,
          38.49,
          38.29,
          38.26,
          38.12,
          37.96,
          37.91,
          37.79,
          37.75,
          37.49,
          37.27,
          36.78,
          36.77,
          36.77,
          36.22,
          35.49,
          35.33,
          35.23,
          35.2,
          35.07,
          34.93,
          34.41,
          33.96
         ],
         "xaxis": "x",
         "y": [
          97.66,
          96,
          90.82,
          79.98,
          84.61,
          78.1,
          72.89,
          58.43,
          59.89,
          56.42,
          64.41,
          57.25,
          65.38,
          59.44,
          56.75,
          64.59,
          56.99,
          44.05,
          45.7,
          38.78,
          39.08,
          57.45,
          34.92,
          36.3,
          48.85,
          47.78,
          43.31,
          34.76,
          36.9,
          53.82,
          48,
          48.02,
          25.35,
          46.35,
          37.99,
          40.88,
          43.66,
          31.7,
          14.94,
          38.64,
          27.9,
          32.77,
          34.76,
          19.8,
          12.11,
          34.83,
          30.47,
          36.01,
          17.1,
          33.02,
          27.4,
          11.74,
          20.54,
          19.49,
          25.45,
          16.15,
          28.74,
          14.18,
          17.94,
          22.51,
          19.09,
          45.4,
          18.48,
          24.29,
          11.43,
          16.86,
          12.79,
          27.21,
          9.48,
          13.68,
          9.86,
          30.7,
          8.73,
          23.84,
          19.32,
          18.92,
          10.61,
          10.44,
          14.21,
          4.93,
          15.51,
          10.04,
          15.27,
          10.26,
          11.03,
          18.52,
          54.21,
          13.15,
          20.07,
          22.6
         ],
         "yaxis": "y"
        },
        {
         "customdata": [
          [
           "VIT Vellore - Vellore Institute of Technology"
          ],
          [
           "Amrita Vishwa Vidyapeetham, Coimbatore"
          ],
          [
           "SRM University Chennai - SRM Institute of Science and Technology"
          ],
          [
           "Amity University, Noida"
          ],
          [
           "Siksha 'O' Anusandhan, Bhubaneswar"
          ],
          [
           "Thapar University - Thapar Institute of Engineering and Technology"
          ],
          [
           "BITS Pilani - Birla Institute of Technology and Science"
          ],
          [
           "Kalasalingam Academy of Research and Education, Virudhunagar"
          ],
          [
           "SASTRA University Thanjavur - Shanmugha Arts Science Technology Research and Academy"
          ],
          [
           "KIIT University - Kalinga Institute of Industrial Technology"
          ],
          [
           "KL University Guntur - Koneru Lakshmaiah Education Foundation"
          ],
          [
           "Chandigarh University, Chandigarh"
          ],
          [
           "SSN College of Engineering - Sri Sivasubramaniya Nadar College of Engineering"
          ],
          [
           "LPU Jalandhar - Lovely Professional University"
          ],
          [
           "Birla Institute of Technology, Mesra (BIT Mesra) - Birla Institute of Technology"
          ],
          [
           "Sathyabama University - Sathyabama Institute of Science and Technology"
          ],
          [
           "MIT Manipal - Manipal Institute of Technology"
          ],
          [
           "PSG Tech Coimbatore - PSG College of Technology"
          ],
          [
           "Banasthali Vidyapith, Banasthali"
          ],
          [
           "UPES Dehradun - University of Petroleum and Energy Studies"
          ],
          [
           "IIIT Hyderabad - International Institute of Information Technology"
          ],
          [
           "Graphic Era University, Dehradun"
          ],
          [
           "MSRIT Bangalore - Ramaiah Institute of Technology"
          ],
          [
           "SKCET Coimbatore - Sri Krishna College of Engineering and Technology"
          ],
          [
           "Manipal University, Jaipur"
          ],
          [
           "BMSCE Bangalore - BMS College of Engineering"
          ],
          [
           "Vel Tech Chennai - Vel Tech Rangarajan Dr Sagunthala R and D Institute of Science and Technology"
          ],
          [
           "TCE Madurai - Thiagarajar College of Engineering"
          ],
          [
           "RVCE Bangalore - RV College of Engineering"
          ],
          [
           "SR University, Warangal"
          ],
          [
           "JIIT Noida - Jaypee Institute of Information Technology"
          ],
          [
           "Rajalakshmi Engineering College, Chennai"
          ],
          [
           "The NorthCap University, Gurgaon"
          ],
          [
           "SIT Tumkur - Siddaganga Institute of Technology"
          ],
          [
           "CV Raman Global University, Bhubaneswar"
          ],
          [
           "Vignan's Foundation for Science Technology and Research, Guntur"
          ],
          [
           "PES University, Bangalore"
          ],
          [
           "BSAU Chennai - BS Abdur Rahman Crescent Institute of Science and Technology"
          ],
          [
           "GITAM Bhubaneswar - Gandhi Institute of Technology and Management"
          ],
          [
           "MRIIRS Faridabad - Manav Rachna International Institute of Research and Studies"
          ],
          [
           "Pandit Deendayal Energy University, Gandhinagar"
          ],
          [
           "Karunya University - Karunya Institute of Technology and Sciences"
          ],
          [
           "Kumaraguru College of Technology, Coimbatore"
          ],
          [
           "IIIT Guwahati - Indian Institute of Information Technology"
          ],
          [
           "VNR VJIET Hyderabad - VNR Vignana Jyothi Institute of Engineering and Technology"
          ],
          [
           "Amity University Gurgaon - Amity University"
          ],
          [
           "Jain University, Bangalore"
          ],
          [
           "MIT-WPU Pune - Dr Vishwanath Karad MIT World Peace University"
          ],
          [
           "KEC Erode - Kongu Engineering College"
          ],
          [
           "NHCE Bangalore - New Horizon College of Engineering"
          ],
          [
           "Sri Krishna College of Technology, Coimbatore"
          ],
          [
           "PSGITECH Coimbatore - PSG Institute of Technology and Applied Research"
          ],
          [
           "Nirma University, Ahmedabad"
          ],
          [
           "Shoolini University Solan - Shoolini University of Biotechnology and Management Sciences"
          ],
          [
           "Mepco Schlenk Engineering College, Sivakasi"
          ],
          [
           "BVUCOE Pune - Bharati Vidyapeeth Deemed University College of Engineering"
          ],
          [
           "Amity University, Jaipur"
          ],
          [
           "DAIICT Gandhinagar - Dhirubhai Ambani Institute of Information and Communication Technology"
          ],
          [
           "NMIMS Mumbai - Narsee Monjee Institute of Management Studies"
          ],
          [
           "PESCE Mandya - PES College of Engineering"
          ],
          [
           "JUIT Solan - Jaypee University of Information Technology"
          ],
          [
           "CEC Landran - Chandigarh Engineering College, Landran Campus"
          ],
          [
           "Anurag University, Hyderabad"
          ],
          [
           "VRSEC Vijayawada - Velagapudi Ramakrishna Siddhartha Engineering College"
          ],
          [
           "VIT Pune - Vishwakarma Institute of Technology"
          ],
          [
           "Chitkara University Chandigarh - Chitkara University"
          ],
          [
           "NIET Greater Noida - Noida Institute of Engineering and Technology"
          ],
          [
           "RCOEM Nagpur - Shri Ramdeobaba College of Engineering and Management"
          ],
          [
           "Galgotias University, Greater Noida"
          ],
          [
           "GRIET Hyderabad - Gokaraju Rangaraju Institute of Engineering and Technology"
          ],
          [
           "HITS Chennai - Hindustan Institute of Technology and Science"
          ],
          [
           "Amity University, Gwalior"
          ],
          [
           "Mahindra University, Hyderabad"
          ],
          [
           "RMK Engineering College, Thiruvallur"
          ],
          [
           "SIMATS Chennai - Saveetha Institute of Medical and Technical Sciences"
          ],
          [
           "Sri Sai Ram Engineering College, Chennai"
          ],
          [
           "JSS Science and Technology University, Mysuru"
          ],
          [
           "Vels University Chennai - Vel's Institute of Science Technology and Advanced Studies"
          ],
          [
           "Silicon Institute of Technology, Bhubaneswar"
          ],
          [
           "Vardhaman College of Engineering, Hyderabad"
          ],
          [
           "GHRCE Nagpur - GH Raisoni College of Engineering"
          ],
          [
           "Sharda University, Greater Noida"
          ],
          [
           "Sree Vidyanikethan Engineering College, Tirupati (SVEC Tirupati) - School of Engineering and Technology, Mohan Babu University"
          ],
          [
           "CBIT Hyderabad - Chaitanya Bharathi Institute of Technology"
          ],
          [
           "Rabindranath Tagore University, Raisen"
          ],
          [
           "SPIT Mumbai - Sardar Patel Institute of Technology"
          ],
          [
           "NEC Kovilpatti - National Engineering College"
          ],
          [
           "CVR College of Engineering, Hyderabad"
          ],
          [
           "AIT Pune - Army Institute of Technology"
          ],
          [
           "Sona College of Technology, Salem"
          ],
          [
           "CIT Chennai - Chennai Institute of Technology"
          ],
          [
           "NMAM Institute of Technology, Karkala Taluk"
          ],
          [
           "DIT University, Dehradun"
          ],
          [
           "CMRIT Bangalore - CMR Institute of Technology"
          ],
          [
           "Easwari Engineering College, Chennai"
          ],
          [
           "NMIT Bangalore - Nitte Meenakshi Institute of Technology"
          ],
          [
           "YCCE Nagpur - Yeshwantrao Chavan College of Engineering"
          ],
          [
           "GLA University, Mathura"
          ],
          [
           "KIET Group of Institutions, Ghaziabad (KIET Ghaziabad) - KIET Group of Institutions"
          ],
          [
           "GMRIT Rajam - GMR Institute of Technology"
          ],
          [
           "Christ University, Bangalore"
          ],
          [
           "MMU Ambala - Maharishi Markandeshwar University"
          ],
          [
           "GCET Greater Noida - Galgotias College of Engineering and Technology"
          ],
          [
           "DYPIET Pimpri - Dr DY Patil Institute of Technology"
          ],
          [
           "GL Bajaj Institute of Technology and Management, Greater Noida"
          ],
          [
           "KLE Technological University, Hubballi"
          ],
          [
           "DJSCE Mumbai - Dwarkadas J Sanghvi College of Engineering"
          ],
          [
           "SVCET Chittoor - Sri Venkateswara College of Engineering and Technology"
          ],
          [
           "BMSIT Bangalore - BMS Institute of Technology and Management"
          ],
          [
           "VJIT Hyderabad - Vidya Jyothi Institute of Technology"
          ]
         ],
         "hovertemplate": "owner_ship=Private<br>total=%{x}<br>RPC=%{y}<br>name=%{customdata[0]}<extra></extra>",
         "legendgroup": "Private",
         "marker": {
          "color": "#EF553B",
          "symbol": "circle"
         },
         "mode": "markers",
         "name": "Private",
         "orientation": "v",
         "showlegend": true,
         "type": "scatter",
         "x": [
          65.53,
          60.92,
          58.02,
          57.73,
          57.48,
          57.18,
          56.9,
          54.62,
          53.36,
          53.06,
          51.93,
          51.73,
          50.5,
          49.58,
          49.33,
          48.56,
          48.33,
          47.68,
          47,
          46.43,
          46.41,
          45.87,
          45.17,
          44.16,
          43.83,
          41.71,
          41.35,
          41.1,
          40.73,
          40.69,
          40.5,
          40.47,
          40.33,
          40.24,
          40.19,
          40.16,
          40.14,
          39.92,
          39.92,
          39.66,
          39.64,
          39.43,
          39.32,
          39.09,
          39.04,
          38.87,
          38.55,
          38.51,
          38.31,
          38.18,
          38.14,
          38.04,
          38.01,
          38.01,
          37.79,
          37.75,
          37.65,
          37.64,
          37.58,
          37.49,
          37.39,
          37.37,
          37.33,
          37.3,
          37.28,
          37.24,
          37.2,
          37.02,
          36.89,
          36.79,
          36.71,
          36.49,
          36.49,
          36.46,
          36.44,
          36.41,
          36.36,
          36.35,
          36.19,
          36.15,
          36.12,
          36.1,
          36.08,
          35.84,
          35.84,
          35.62,
          35.58,
          35.51,
          35.38,
          35.29,
          35.27,
          35.27,
          35.14,
          35.11,
          35.07,
          34.97,
          34.88,
          34.74,
          34.73,
          34.71,
          34.64,
          34.37,
          34.29,
          34.1,
          33.95,
          33.9,
          33.88,
          33.77,
          33.76,
          33.7
         ],
         "xaxis": "x",
         "y": [
          73.3,
          58.64,
          59.2,
          62.18,
          40.02,
          56.97,
          46.29,
          32.26,
          40.17,
          35.74,
          44.8,
          24.84,
          37.31,
          36.85,
          34.54,
          37.36,
          33.36,
          24.91,
          18.25,
          27.84,
          38.57,
          18.2,
          19.82,
          17.13,
          24.44,
          15.53,
          31.13,
          19.32,
          16.36,
          13.28,
          25.12,
          9.2,
          14.58,
          14.04,
          5.33,
          21.12,
          14.94,
          21.2,
          21.08,
          9.37,
          26.12,
          30.7,
          15.32,
          11.48,
          14.47,
          15.6,
          22.75,
          9.67,
          14.45,
          6.53,
          12.92,
          6.18,
          18.6,
          27.77,
          18.85,
          3.15,
          16.15,
          10.64,
          12.46,
          65.45,
          25.87,
          6.87,
          4.04,
          14.83,
          7.27,
          16.2,
          3.19,
          9.32,
          16.04,
          12.6,
          26.27,
          6.8,
          63.89,
          7.99,
          30.02,
          13.81,
          6.55,
          23.56,
          3.51,
          9.32,
          10.43,
          17.36,
          9.36,
          3.07,
          51.24,
          13.1,
          12.09,
          4.72,
          2.36,
          8,
          9.2,
          11.41,
          9.6,
          8.29,
          7.21,
          7.7,
          8.76,
          19.67,
          9.39,
          15.27,
          19.21,
          14.51,
          6.98,
          1.5,
          10.21,
          10.37,
          6.11,
          1.54,
          4.77,
          2.81
         ],
         "yaxis": "y"
        }
       ],
       "layout": {
        "legend": {
         "title": {
          "text": "owner_ship"
         },
         "tracegroupgap": 0
        },
        "template": {
         "data": {
          "bar": [
           {
            "error_x": {
             "color": "#2a3f5f"
            },
            "error_y": {
             "color": "#2a3f5f"
            },
            "marker": {
             "line": {
              "color": "#E5ECF6",
              "width": 0.5
             },
             "pattern": {
              "fillmode": "overlay",
              "size": 10,
              "solidity": 0.2
             }
            },
            "type": "bar"
           }
          ],
          "barpolar": [
           {
            "marker": {
             "line": {
              "color": "#E5ECF6",
              "width": 0.5
             },
             "pattern": {
              "fillmode": "overlay",
              "size": 10,
              "solidity": 0.2
             }
            },
            "type": "barpolar"
           }
          ],
          "carpet": [
           {
            "aaxis": {
             "endlinecolor": "#2a3f5f",
             "gridcolor": "white",
             "linecolor": "white",
             "minorgridcolor": "white",
             "startlinecolor": "#2a3f5f"
            },
            "baxis": {
             "endlinecolor": "#2a3f5f",
             "gridcolor": "white",
             "linecolor": "white",
             "minorgridcolor": "white",
             "startlinecolor": "#2a3f5f"
            },
            "type": "carpet"
           }
          ],
          "choropleth": [
           {
            "colorbar": {
             "outlinewidth": 0,
             "ticks": ""
            },
            "type": "choropleth"
           }
          ],
          "contour": [
           {
            "colorbar": {
             "outlinewidth": 0,
             "ticks": ""
            },
            "colorscale": [
             [
              0,
              "#0d0887"
             ],
             [
              0.1111111111111111,
              "#46039f"
             ],
             [
              0.2222222222222222,
              "#7201a8"
             ],
             [
              0.3333333333333333,
              "#9c179e"
             ],
             [
              0.4444444444444444,
              "#bd3786"
             ],
             [
              0.5555555555555556,
              "#d8576b"
             ],
             [
              0.6666666666666666,
              "#ed7953"
             ],
             [
              0.7777777777777778,
              "#fb9f3a"
             ],
             [
              0.8888888888888888,
              "#fdca26"
             ],
             [
              1,
              "#f0f921"
             ]
            ],
            "type": "contour"
           }
          ],
          "contourcarpet": [
           {
            "colorbar": {
             "outlinewidth": 0,
             "ticks": ""
            },
            "type": "contourcarpet"
           }
          ],
          "heatmap": [
           {
            "colorbar": {
             "outlinewidth": 0,
             "ticks": ""
            },
            "colorscale": [
             [
              0,
              "#0d0887"
             ],
             [
              0.1111111111111111,
              "#46039f"
             ],
             [
              0.2222222222222222,
              "#7201a8"
             ],
             [
              0.3333333333333333,
              "#9c179e"
             ],
             [
              0.4444444444444444,
              "#bd3786"
             ],
             [
              0.5555555555555556,
              "#d8576b"
             ],
             [
              0.6666666666666666,
              "#ed7953"
             ],
             [
              0.7777777777777778,
              "#fb9f3a"
             ],
             [
              0.8888888888888888,
              "#fdca26"
             ],
             [
              1,
              "#f0f921"
             ]
            ],
            "type": "heatmap"
           }
          ],
          "heatmapgl": [
           {
            "colorbar": {
             "outlinewidth": 0,
             "ticks": ""
            },
            "colorscale": [
             [
              0,
              "#0d0887"
             ],
             [
              0.1111111111111111,
              "#46039f"
             ],
             [
              0.2222222222222222,
              "#7201a8"
             ],
             [
              0.3333333333333333,
              "#9c179e"
             ],
             [
              0.4444444444444444,
              "#bd3786"
             ],
             [
              0.5555555555555556,
              "#d8576b"
             ],
             [
              0.6666666666666666,
              "#ed7953"
             ],
             [
              0.7777777777777778,
              "#fb9f3a"
             ],
             [
              0.8888888888888888,
              "#fdca26"
             ],
             [
              1,
              "#f0f921"
             ]
            ],
            "type": "heatmapgl"
           }
          ],
          "histogram": [
           {
            "marker": {
             "pattern": {
              "fillmode": "overlay",
              "size": 10,
              "solidity": 0.2
             }
            },
            "type": "histogram"
           }
          ],
          "histogram2d": [
           {
            "colorbar": {
             "outlinewidth": 0,
             "ticks": ""
            },
            "colorscale": [
             [
              0,
              "#0d0887"
             ],
             [
              0.1111111111111111,
              "#46039f"
             ],
             [
              0.2222222222222222,
              "#7201a8"
             ],
             [
              0.3333333333333333,
              "#9c179e"
             ],
             [
              0.4444444444444444,
              "#bd3786"
             ],
             [
              0.5555555555555556,
              "#d8576b"
             ],
             [
              0.6666666666666666,
              "#ed7953"
             ],
             [
              0.7777777777777778,
              "#fb9f3a"
             ],
             [
              0.8888888888888888,
              "#fdca26"
             ],
             [
              1,
              "#f0f921"
             ]
            ],
            "type": "histogram2d"
           }
          ],
          "histogram2dcontour": [
           {
            "colorbar": {
             "outlinewidth": 0,
             "ticks": ""
            },
            "colorscale": [
             [
              0,
              "#0d0887"
             ],
             [
              0.1111111111111111,
              "#46039f"
             ],
             [
              0.2222222222222222,
              "#7201a8"
             ],
             [
              0.3333333333333333,
              "#9c179e"
             ],
             [
              0.4444444444444444,
              "#bd3786"
             ],
             [
              0.5555555555555556,
              "#d8576b"
             ],
             [
              0.6666666666666666,
              "#ed7953"
             ],
             [
              0.7777777777777778,
              "#fb9f3a"
             ],
             [
              0.8888888888888888,
              "#fdca26"
             ],
             [
              1,
              "#f0f921"
             ]
            ],
            "type": "histogram2dcontour"
           }
          ],
          "mesh3d": [
           {
            "colorbar": {
             "outlinewidth": 0,
             "ticks": ""
            },
            "type": "mesh3d"
           }
          ],
          "parcoords": [
           {
            "line": {
             "colorbar": {
              "outlinewidth": 0,
              "ticks": ""
             }
            },
            "type": "parcoords"
           }
          ],
          "pie": [
           {
            "automargin": true,
            "type": "pie"
           }
          ],
          "scatter": [
           {
            "marker": {
             "colorbar": {
              "outlinewidth": 0,
              "ticks": ""
             }
            },
            "type": "scatter"
           }
          ],
          "scatter3d": [
           {
            "line": {
             "colorbar": {
              "outlinewidth": 0,
              "ticks": ""
             }
            },
            "marker": {
             "colorbar": {
              "outlinewidth": 0,
              "ticks": ""
             }
            },
            "type": "scatter3d"
           }
          ],
          "scattercarpet": [
           {
            "marker": {
             "colorbar": {
              "outlinewidth": 0,
              "ticks": ""
             }
            },
            "type": "scattercarpet"
           }
          ],
          "scattergeo": [
           {
            "marker": {
             "colorbar": {
              "outlinewidth": 0,
              "ticks": ""
             }
            },
            "type": "scattergeo"
           }
          ],
          "scattergl": [
           {
            "marker": {
             "colorbar": {
              "outlinewidth": 0,
              "ticks": ""
             }
            },
            "type": "scattergl"
           }
          ],
          "scattermapbox": [
           {
            "marker": {
             "colorbar": {
              "outlinewidth": 0,
              "ticks": ""
             }
            },
            "type": "scattermapbox"
           }
          ],
          "scatterpolar": [
           {
            "marker": {
             "colorbar": {
              "outlinewidth": 0,
              "ticks": ""
             }
            },
            "type": "scatterpolar"
           }
          ],
          "scatterpolargl": [
           {
            "marker": {
             "colorbar": {
              "outlinewidth": 0,
              "ticks": ""
             }
            },
            "type": "scatterpolargl"
           }
          ],
          "scatterternary": [
           {
            "marker": {
             "colorbar": {
              "outlinewidth": 0,
              "ticks": ""
             }
            },
            "type": "scatterternary"
           }
          ],
          "surface": [
           {
            "colorbar": {
             "outlinewidth": 0,
             "ticks": ""
            },
            "colorscale": [
             [
              0,
              "#0d0887"
             ],
             [
              0.1111111111111111,
              "#46039f"
             ],
             [
              0.2222222222222222,
              "#7201a8"
             ],
             [
              0.3333333333333333,
              "#9c179e"
             ],
             [
              0.4444444444444444,
              "#bd3786"
             ],
             [
              0.5555555555555556,
              "#d8576b"
             ],
             [
              0.6666666666666666,
              "#ed7953"
             ],
             [
              0.7777777777777778,
              "#fb9f3a"
             ],
             [
              0.8888888888888888,
              "#fdca26"
             ],
             [
              1,
              "#f0f921"
             ]
            ],
            "type": "surface"
           }
          ],
          "table": [
           {
            "cells": {
             "fill": {
              "color": "#EBF0F8"
             },
             "line": {
              "color": "white"
             }
            },
            "header": {
             "fill": {
              "color": "#C8D4E3"
             },
             "line": {
              "color": "white"
             }
            },
            "type": "table"
           }
          ]
         },
         "layout": {
          "annotationdefaults": {
           "arrowcolor": "#2a3f5f",
           "arrowhead": 0,
           "arrowwidth": 1
          },
          "autotypenumbers": "strict",
          "coloraxis": {
           "colorbar": {
            "outlinewidth": 0,
            "ticks": ""
           }
          },
          "colorscale": {
           "diverging": [
            [
             0,
             "#8e0152"
            ],
            [
             0.1,
             "#c51b7d"
            ],
            [
             0.2,
             "#de77ae"
            ],
            [
             0.3,
             "#f1b6da"
            ],
            [
             0.4,
             "#fde0ef"
            ],
            [
             0.5,
             "#f7f7f7"
            ],
            [
             0.6,
             "#e6f5d0"
            ],
            [
             0.7,
             "#b8e186"
            ],
            [
             0.8,
             "#7fbc41"
            ],
            [
             0.9,
             "#4d9221"
            ],
            [
             1,
             "#276419"
            ]
           ],
           "sequential": [
            [
             0,
             "#0d0887"
            ],
            [
             0.1111111111111111,
             "#46039f"
            ],
            [
             0.2222222222222222,
             "#7201a8"
            ],
            [
             0.3333333333333333,
             "#9c179e"
            ],
            [
             0.4444444444444444,
             "#bd3786"
            ],
            [
             0.5555555555555556,
             "#d8576b"
            ],
            [
             0.6666666666666666,
             "#ed7953"
            ],
            [
             0.7777777777777778,
             "#fb9f3a"
            ],
            [
             0.8888888888888888,
             "#fdca26"
            ],
            [
             1,
             "#f0f921"
            ]
           ],
           "sequentialminus": [
            [
             0,
             "#0d0887"
            ],
            [
             0.1111111111111111,
             "#46039f"
            ],
            [
             0.2222222222222222,
             "#7201a8"
            ],
            [
             0.3333333333333333,
             "#9c179e"
            ],
            [
             0.4444444444444444,
             "#bd3786"
            ],
            [
             0.5555555555555556,
             "#d8576b"
            ],
            [
             0.6666666666666666,
             "#ed7953"
            ],
            [
             0.7777777777777778,
             "#fb9f3a"
            ],
            [
             0.8888888888888888,
             "#fdca26"
            ],
            [
             1,
             "#f0f921"
            ]
           ]
          },
          "colorway": [
           "#636efa",
           "#EF553B",
           "#00cc96",
           "#ab63fa",
           "#FFA15A",
           "#19d3f3",
           "#FF6692",
           "#B6E880",
           "#FF97FF",
           "#FECB52"
          ],
          "font": {
           "color": "#2a3f5f"
          },
          "geo": {
           "bgcolor": "white",
           "lakecolor": "white",
           "landcolor": "#E5ECF6",
           "showlakes": true,
           "showland": true,
           "subunitcolor": "white"
          },
          "hoverlabel": {
           "align": "left"
          },
          "hovermode": "closest",
          "mapbox": {
           "style": "light"
          },
          "paper_bgcolor": "white",
          "plot_bgcolor": "#E5ECF6",
          "polar": {
           "angularaxis": {
            "gridcolor": "white",
            "linecolor": "white",
            "ticks": ""
           },
           "bgcolor": "#E5ECF6",
           "radialaxis": {
            "gridcolor": "white",
            "linecolor": "white",
            "ticks": ""
           }
          },
          "scene": {
           "xaxis": {
            "backgroundcolor": "#E5ECF6",
            "gridcolor": "white",
            "gridwidth": 2,
            "linecolor": "white",
            "showbackground": true,
            "ticks": "",
            "zerolinecolor": "white"
           },
           "yaxis": {
            "backgroundcolor": "#E5ECF6",
            "gridcolor": "white",
            "gridwidth": 2,
            "linecolor": "white",
            "showbackground": true,
            "ticks": "",
            "zerolinecolor": "white"
           },
           "zaxis": {
            "backgroundcolor": "#E5ECF6",
            "gridcolor": "white",
            "gridwidth": 2,
            "linecolor": "white",
            "showbackground": true,
            "ticks": "",
            "zerolinecolor": "white"
           }
          },
          "shapedefaults": {
           "line": {
            "color": "#2a3f5f"
           }
          },
          "ternary": {
           "aaxis": {
            "gridcolor": "white",
            "linecolor": "white",
            "ticks": ""
           },
           "baxis": {
            "gridcolor": "white",
            "linecolor": "white",
            "ticks": ""
           },
           "bgcolor": "#E5ECF6",
           "caxis": {
            "gridcolor": "white",
            "linecolor": "white",
            "ticks": ""
           }
          },
          "title": {
           "x": 0.05
          },
          "xaxis": {
           "automargin": true,
           "gridcolor": "white",
           "linecolor": "white",
           "ticks": "",
           "title": {
            "standoff": 15
           },
           "zerolinecolor": "white",
           "zerolinewidth": 2
          },
          "yaxis": {
           "automargin": true,
           "gridcolor": "white",
           "linecolor": "white",
           "ticks": "",
           "title": {
            "standoff": 15
           },
           "zerolinecolor": "white",
           "zerolinewidth": 2
          }
         }
        },
        "title": {
         "text": "Total vs RVC"
        },
        "xaxis": {
         "anchor": "y",
         "domain": [
          0,
          1
         ],
         "title": {
          "text": "total"
         }
        },
        "yaxis": {
         "anchor": "x",
         "domain": [
          0,
          1
         ],
         "title": {
          "text": "RPC"
         }
        }
       }
      },
      "text/html": [
       "<div>                            <div id=\"7ae92092-9a58-4553-b217-06ba3014c80b\" class=\"plotly-graph-div\" style=\"height:525px; width:100%;\"></div>            <script type=\"text/javascript\">                require([\"plotly\"], function(Plotly) {                    window.PLOTLYENV=window.PLOTLYENV || {};                                    if (document.getElementById(\"7ae92092-9a58-4553-b217-06ba3014c80b\")) {                    Plotly.newPlot(                        \"7ae92092-9a58-4553-b217-06ba3014c80b\",                        [{\"customdata\":[[\"IIT Madras - Indian Institute of Technology\"],[\"IIT Delhi - Indian Institute of Technology\"],[\"IIT Bombay - Indian Institute of Technology\"],[\"IIT Kanpur - Indian Institute of Technology\"],[\"IIT Kharagpur - Indian Institute of Technology\"],[\"IIT Roorkee - Indian Institute of Technology\"],[\"IIT Guwahati - Indian Institute of Technology\"],[\"NIT Trichy - National Institute of Technology Tiruchirappalli\"],[\"IIT Hyderabad - Indian Institute of Technology\"],[\"NIT Surathkal - National Institute of Technology Karnataka\"],[\"Jadavpur University, Kolkata\"],[\"IIT BHU - Indian Institute of Technology Banaras Hindu University\"],[\"IIT Dhanbad - Indian Institute of Technology Indian School of Mines\"],[\"NIT Rourkela - National Institute of Technology\"],[\"IIT Indore - Indian Institute of Technology\"],[\"Anna University, Chennai\"],[\"ICT Mumbai - Institute of Chemical Technology\"],[\"IIT Mandi - Indian Institute of Technology\"],[\"NIT Warangal - National Institute of Technology\"],[\"IIT Ropar - Indian Institute of Technology\"],[\"IIT Gandhinagar - Indian Institute of Technology\"],[\"JMI New Delhi - Jamia Millia Islamia\"],[\"IIT Jodhpur - Indian Institute of Technology\"],[\"NIT Calicut - National Institute of Technology\"],[\"VNIT Nagpur - Visvesvaraya National Institute of Technology\"],[\"IIT Patna - Indian Institute of Technology\"],[\"NIT Durgapur - National Institute of Technology\"],[\"DTU Delhi - Delhi Technological University\"],[\"IIT Bhubaneswar - Indian Institute of Technology\"],[\"AMU Aligarh - Aligarh Muslim University\"],[\"NIT Silchar - National Institute of Technology\"],[\"IIEST Shibpur - Indian Institute of Engineering Science and Technology\"],[\"IIST Thiruvananthapuram - Indian Institute of Space Science and Technology\"],[\"MNIT Jaipur - Malaviya National Institute of Technology\"],[\"MNNIT Allahabad - Motilal Nehru National Institute of Technology Allahabad Prayagraj\"],[\"Visvesvaraya Technological University, Belagavi\"],[\"NIT Kurukshetra - National Institute of Technology\"],[\"NIT Jalandhar - Dr B R Ambedkar National Institute of Technology\"],[\"IIT Tirupati - Indian Institute of Technology\"],[\"SVNIT Surat - Sardar Vallabhbhai National Institute of Technology\"],[\"NIT Meghalaya - National Institute of Technology\"],[\"NIT Patna - National Institute of Technology\"],[\"NIT Raipur - National Institute of Technology\"],[\"NIT Srinagar - National Institute of Technology\"],[\"IIT Palakkad - Indian Institute of Technology\"],[\"IIIT Delhi - Indraprastha Institute of Information Technology\"],[\"MANIT Bhopal - Maulana Azad National Institute of Technology\"],[\"DIAT Pune - Defence Institute of Advanced Technology\"],[\"COEP Pune - College of Engineering\"],[\"GGSIPU Delhi - Guru Gobind Singh Indraprastha University\"],[\"JNTUH University - Jawaharlal Nehru Technological University\"],[\"Andhra University College of Engineering, Visakhapatnam\"],[\"IIITM Gwalior - Atal Bihari Vajpayee Indian Institute of Information Technology and Management\"],[\"NSUT Delhi - Netaji Subhas University of Technology\"],[\"NIT Agartala - National Institute of Technology\"],[\"IIIT Bangalore - International Institute of Information Technology\"],[\"IIITDM Jabalpur - PDPM Indian Institute of Information Technology Design and Manufacturing\"],[\"National Institute of Food Technology, Entrepreneurship and Management, Thanjavur\"],[\"PEC Chandigarh - Punjab Engineering College\"],[\"NIT Goa - National Institute of Technology\"],[\"NIT Jamshedpur - National Institute of Technology\"],[\"Panjab University, Chandigarh\"],[\"IIIT Allahabad - Indian Institute of Information Technology\"],[\"SMVDU Katra - Shri Mata Vaishno Devi University\"],[\"CIT Coimbatore - Coimbatore Institute of Technology\"],[\"NIT Manipur - National Institute of Technology\"],[\"College of Engineering, Trivandrum\"],[\"VSSUT Sambalpur - Veer Surendra Sai University of Technology\"],[\"University College of Engineering, Osmania University, Hyderabad\"],[\"VJTI Mumbai - Veermata Jijabai Technological Institute\"],[\"DEI Agra - Dayalbagh Educational Institute\"],[\"Tezpur University, Tezpur\"],[\"NIFTEM Sonepat - National Institute of Food Technology Entrepreneurship and Management\"],[\"NIT Hamirpur - National Institute of Technology\"],[\"JNTUK Kakinada - Jawaharlal Nehru Technological University\"],[\"NIT Uttarakhand - National Institute of Technology\"],[\"NIT Puducherry - National Institute of Technology Puducherry Karaikal\"],[\"YMCA Faridabad - JC Bose University of Science and Technology, YMCA\"],[\"MSU Baroda - Maharaja Sayajirao University of Baroda\"],[\"NIFFT Ranchi - National Institute of Advanced Manufacturing Technology\"],[\"PEC Puducherry - Puducherry Technological University\"],[\"GCT Coimbatore - Government College of Technology\"],[\"NIT Arunachal Pradesh - National Institute of Technology\"],[\"NIT Sikkim - National Institute of Technology\"],[\"IGDTUW Delhi - Indira Gandhi Delhi Technical University for Women\"],[\"SLIET Longowal - Sant Longowal Institute of Engineering and Technology\"],[\"RGIPT Amethi - Rajiv Gandhi Institute of Petroleum Technology\"],[\"IIITDM Kancheepuram - Indian Institute of Information Technology Design and Manufacturing\"],[\"IITRAM Ahmedabad - Institute of Infrastructure Technology Research and Management\"],[\"NIT Delhi - National Institute of Technology\"]],\"hovertemplate\":\"owner_ship=Public/Government<br>total=%{x}<br>RPC=%{y}<br>name=%{customdata[0]}<extra></extra>\",\"legendgroup\":\"Public/Government\",\"marker\":{\"color\":\"#636efa\",\"symbol\":\"circle\"},\"mode\":\"markers\",\"name\":\"Public/Government\",\"orientation\":\"v\",\"showlegend\":true,\"x\":[90.04,88.12,83.96,82.56,78.89,76.7,72.98,69.17,68.03,66.04,65.68,63.51,63.5,62.36,61.68,61.41,61.4,60.43,60.0,59.16,58.27,57.51,56.7,56.66,56.62,56.19,55.76,55.65,55.11,54.7,54.63,54.57,52.37,51.69,51.17,50.2,50.11,49.45,48.16,47.61,46.67,46.24,45.71,45.52,44.92,44.79,44.63,44.62,44.38,44.02,42.77,42.76,42.56,42.14,41.92,41.91,41.79,41.06,41.05,40.78,40.71,40.58,40.53,40.08,39.83,39.32,39.24,39.14,38.49,38.29,38.26,38.12,37.96,37.91,37.79,37.75,37.49,37.27,36.78,36.77,36.77,36.22,35.49,35.33,35.23,35.2,35.07,34.93,34.41,33.96],\"xaxis\":\"x\",\"y\":[97.66,96.0,90.82,79.98,84.61,78.1,72.89,58.43,59.89,56.42,64.41,57.25,65.38,59.44,56.75,64.59,56.99,44.05,45.7,38.78,39.08,57.45,34.92,36.3,48.85,47.78,43.31,34.76,36.9,53.82,48.0,48.02,25.35,46.35,37.99,40.88,43.66,31.7,14.94,38.64,27.9,32.77,34.76,19.8,12.11,34.83,30.47,36.01,17.1,33.02,27.4,11.74,20.54,19.49,25.45,16.15,28.74,14.18,17.94,22.51,19.09,45.4,18.48,24.29,11.43,16.86,12.79,27.21,9.48,13.68,9.86,30.7,8.73,23.84,19.32,18.92,10.61,10.44,14.21,4.93,15.51,10.04,15.27,10.26,11.03,18.52,54.21,13.15,20.07,22.6],\"yaxis\":\"y\",\"type\":\"scatter\"},{\"customdata\":[[\"VIT Vellore - Vellore Institute of Technology\"],[\"Amrita Vishwa Vidyapeetham, Coimbatore\"],[\"SRM University Chennai - SRM Institute of Science and Technology\"],[\"Amity University, Noida\"],[\"Siksha 'O' Anusandhan, Bhubaneswar\"],[\"Thapar University - Thapar Institute of Engineering and Technology\"],[\"BITS Pilani - Birla Institute of Technology and Science\"],[\"Kalasalingam Academy of Research and Education, Virudhunagar\"],[\"SASTRA University Thanjavur - Shanmugha Arts Science Technology Research and Academy\"],[\"KIIT University - Kalinga Institute of Industrial Technology\"],[\"KL University Guntur - Koneru Lakshmaiah Education Foundation\"],[\"Chandigarh University, Chandigarh\"],[\"SSN College of Engineering - Sri Sivasubramaniya Nadar College of Engineering\"],[\"LPU Jalandhar - Lovely Professional University\"],[\"Birla Institute of Technology, Mesra (BIT Mesra) - Birla Institute of Technology\"],[\"Sathyabama University - Sathyabama Institute of Science and Technology\"],[\"MIT Manipal - Manipal Institute of Technology\"],[\"PSG Tech Coimbatore - PSG College of Technology\"],[\"Banasthali Vidyapith, Banasthali\"],[\"UPES Dehradun - University of Petroleum and Energy Studies\"],[\"IIIT Hyderabad - International Institute of Information Technology\"],[\"Graphic Era University, Dehradun\"],[\"MSRIT Bangalore - Ramaiah Institute of Technology\"],[\"SKCET Coimbatore - Sri Krishna College of Engineering and Technology\"],[\"Manipal University, Jaipur\"],[\"BMSCE Bangalore - BMS College of Engineering\"],[\"Vel Tech Chennai - Vel Tech Rangarajan Dr Sagunthala R and D Institute of Science and Technology\"],[\"TCE Madurai - Thiagarajar College of Engineering\"],[\"RVCE Bangalore - RV College of Engineering\"],[\"SR University, Warangal\"],[\"JIIT Noida - Jaypee Institute of Information Technology\"],[\"Rajalakshmi Engineering College, Chennai\"],[\"The NorthCap University, Gurgaon\"],[\"SIT Tumkur - Siddaganga Institute of Technology\"],[\"CV Raman Global University, Bhubaneswar\"],[\"Vignan's Foundation for Science Technology and Research, Guntur\"],[\"PES University, Bangalore\"],[\"BSAU Chennai - BS Abdur Rahman Crescent Institute of Science and Technology\"],[\"GITAM Bhubaneswar - Gandhi Institute of Technology and Management\"],[\"MRIIRS Faridabad - Manav Rachna International Institute of Research and Studies\"],[\"Pandit Deendayal Energy University, Gandhinagar\"],[\"Karunya University - Karunya Institute of Technology and Sciences\"],[\"Kumaraguru College of Technology, Coimbatore\"],[\"IIIT Guwahati - Indian Institute of Information Technology\"],[\"VNR VJIET Hyderabad - VNR Vignana Jyothi Institute of Engineering and Technology\"],[\"Amity University Gurgaon - Amity University\"],[\"Jain University, Bangalore\"],[\"MIT-WPU Pune - Dr Vishwanath Karad MIT World Peace University\"],[\"KEC Erode - Kongu Engineering College\"],[\"NHCE Bangalore - New Horizon College of Engineering\"],[\"Sri Krishna College of Technology, Coimbatore\"],[\"PSGITECH Coimbatore - PSG Institute of Technology and Applied Research\"],[\"Nirma University, Ahmedabad\"],[\"Shoolini University Solan - Shoolini University of Biotechnology and Management Sciences\"],[\"Mepco Schlenk Engineering College, Sivakasi\"],[\"BVUCOE Pune - Bharati Vidyapeeth Deemed University College of Engineering\"],[\"Amity University, Jaipur\"],[\"DAIICT Gandhinagar - Dhirubhai Ambani Institute of Information and Communication Technology\"],[\"NMIMS Mumbai - Narsee Monjee Institute of Management Studies\"],[\"PESCE Mandya - PES College of Engineering\"],[\"JUIT Solan - Jaypee University of Information Technology\"],[\"CEC Landran - Chandigarh Engineering College, Landran Campus\"],[\"Anurag University, Hyderabad\"],[\"VRSEC Vijayawada - Velagapudi Ramakrishna Siddhartha Engineering College\"],[\"VIT Pune - Vishwakarma Institute of Technology\"],[\"Chitkara University Chandigarh - Chitkara University\"],[\"NIET Greater Noida - Noida Institute of Engineering and Technology\"],[\"RCOEM Nagpur - Shri Ramdeobaba College of Engineering and Management\"],[\"Galgotias University, Greater Noida\"],[\"GRIET Hyderabad - Gokaraju Rangaraju Institute of Engineering and Technology\"],[\"HITS Chennai - Hindustan Institute of Technology and Science\"],[\"Amity University, Gwalior\"],[\"Mahindra University, Hyderabad\"],[\"RMK Engineering College, Thiruvallur\"],[\"SIMATS Chennai - Saveetha Institute of Medical and Technical Sciences\"],[\"Sri Sai Ram Engineering College, Chennai\"],[\"JSS Science and Technology University, Mysuru\"],[\"Vels University Chennai - Vel's Institute of Science Technology and Advanced Studies\"],[\"Silicon Institute of Technology, Bhubaneswar\"],[\"Vardhaman College of Engineering, Hyderabad\"],[\"GHRCE Nagpur - GH Raisoni College of Engineering\"],[\"Sharda University, Greater Noida\"],[\"Sree Vidyanikethan Engineering College, Tirupati (SVEC Tirupati) - School of Engineering and Technology, Mohan Babu University\"],[\"CBIT Hyderabad - Chaitanya Bharathi Institute of Technology\"],[\"Rabindranath Tagore University, Raisen\"],[\"SPIT Mumbai - Sardar Patel Institute of Technology\"],[\"NEC Kovilpatti - National Engineering College\"],[\"CVR College of Engineering, Hyderabad\"],[\"AIT Pune - Army Institute of Technology\"],[\"Sona College of Technology, Salem\"],[\"CIT Chennai - Chennai Institute of Technology\"],[\"NMAM Institute of Technology, Karkala Taluk\"],[\"DIT University, Dehradun\"],[\"CMRIT Bangalore - CMR Institute of Technology\"],[\"Easwari Engineering College, Chennai\"],[\"NMIT Bangalore - Nitte Meenakshi Institute of Technology\"],[\"YCCE Nagpur - Yeshwantrao Chavan College of Engineering\"],[\"GLA University, Mathura\"],[\"KIET Group of Institutions, Ghaziabad (KIET Ghaziabad) - KIET Group of Institutions\"],[\"GMRIT Rajam - GMR Institute of Technology\"],[\"Christ University, Bangalore\"],[\"MMU Ambala - Maharishi Markandeshwar University\"],[\"GCET Greater Noida - Galgotias College of Engineering and Technology\"],[\"DYPIET Pimpri - Dr DY Patil Institute of Technology\"],[\"GL Bajaj Institute of Technology and Management, Greater Noida\"],[\"KLE Technological University, Hubballi\"],[\"DJSCE Mumbai - Dwarkadas J Sanghvi College of Engineering\"],[\"SVCET Chittoor - Sri Venkateswara College of Engineering and Technology\"],[\"BMSIT Bangalore - BMS Institute of Technology and Management\"],[\"VJIT Hyderabad - Vidya Jyothi Institute of Technology\"]],\"hovertemplate\":\"owner_ship=Private<br>total=%{x}<br>RPC=%{y}<br>name=%{customdata[0]}<extra></extra>\",\"legendgroup\":\"Private\",\"marker\":{\"color\":\"#EF553B\",\"symbol\":\"circle\"},\"mode\":\"markers\",\"name\":\"Private\",\"orientation\":\"v\",\"showlegend\":true,\"x\":[65.53,60.92,58.02,57.73,57.48,57.18,56.9,54.62,53.36,53.06,51.93,51.73,50.5,49.58,49.33,48.56,48.33,47.68,47.0,46.43,46.41,45.87,45.17,44.16,43.83,41.71,41.35,41.1,40.73,40.69,40.5,40.47,40.33,40.24,40.19,40.16,40.14,39.92,39.92,39.66,39.64,39.43,39.32,39.09,39.04,38.87,38.55,38.51,38.31,38.18,38.14,38.04,38.01,38.01,37.79,37.75,37.65,37.64,37.58,37.49,37.39,37.37,37.33,37.3,37.28,37.24,37.2,37.02,36.89,36.79,36.71,36.49,36.49,36.46,36.44,36.41,36.36,36.35,36.19,36.15,36.12,36.1,36.08,35.84,35.84,35.62,35.58,35.51,35.38,35.29,35.27,35.27,35.14,35.11,35.07,34.97,34.88,34.74,34.73,34.71,34.64,34.37,34.29,34.1,33.95,33.9,33.88,33.77,33.76,33.7],\"xaxis\":\"x\",\"y\":[73.3,58.64,59.2,62.18,40.02,56.97,46.29,32.26,40.17,35.74,44.8,24.84,37.31,36.85,34.54,37.36,33.36,24.91,18.25,27.84,38.57,18.2,19.82,17.13,24.44,15.53,31.13,19.32,16.36,13.28,25.12,9.2,14.58,14.04,5.33,21.12,14.94,21.2,21.08,9.37,26.12,30.7,15.32,11.48,14.47,15.6,22.75,9.67,14.45,6.53,12.92,6.18,18.6,27.77,18.85,3.15,16.15,10.64,12.46,65.45,25.87,6.87,4.04,14.83,7.27,16.2,3.19,9.32,16.04,12.6,26.27,6.8,63.89,7.99,30.02,13.81,6.55,23.56,3.51,9.32,10.43,17.36,9.36,3.07,51.24,13.1,12.09,4.72,2.36,8.0,9.2,11.41,9.6,8.29,7.21,7.7,8.76,19.67,9.39,15.27,19.21,14.51,6.98,1.5,10.21,10.37,6.11,1.54,4.77,2.81],\"yaxis\":\"y\",\"type\":\"scatter\"}],                        {\"template\":{\"data\":{\"bar\":[{\"error_x\":{\"color\":\"#2a3f5f\"},\"error_y\":{\"color\":\"#2a3f5f\"},\"marker\":{\"line\":{\"color\":\"#E5ECF6\",\"width\":0.5},\"pattern\":{\"fillmode\":\"overlay\",\"size\":10,\"solidity\":0.2}},\"type\":\"bar\"}],\"barpolar\":[{\"marker\":{\"line\":{\"color\":\"#E5ECF6\",\"width\":0.5},\"pattern\":{\"fillmode\":\"overlay\",\"size\":10,\"solidity\":0.2}},\"type\":\"barpolar\"}],\"carpet\":[{\"aaxis\":{\"endlinecolor\":\"#2a3f5f\",\"gridcolor\":\"white\",\"linecolor\":\"white\",\"minorgridcolor\":\"white\",\"startlinecolor\":\"#2a3f5f\"},\"baxis\":{\"endlinecolor\":\"#2a3f5f\",\"gridcolor\":\"white\",\"linecolor\":\"white\",\"minorgridcolor\":\"white\",\"startlinecolor\":\"#2a3f5f\"},\"type\":\"carpet\"}],\"choropleth\":[{\"colorbar\":{\"outlinewidth\":0,\"ticks\":\"\"},\"type\":\"choropleth\"}],\"contour\":[{\"colorbar\":{\"outlinewidth\":0,\"ticks\":\"\"},\"colorscale\":[[0.0,\"#0d0887\"],[0.1111111111111111,\"#46039f\"],[0.2222222222222222,\"#7201a8\"],[0.3333333333333333,\"#9c179e\"],[0.4444444444444444,\"#bd3786\"],[0.5555555555555556,\"#d8576b\"],[0.6666666666666666,\"#ed7953\"],[0.7777777777777778,\"#fb9f3a\"],[0.8888888888888888,\"#fdca26\"],[1.0,\"#f0f921\"]],\"type\":\"contour\"}],\"contourcarpet\":[{\"colorbar\":{\"outlinewidth\":0,\"ticks\":\"\"},\"type\":\"contourcarpet\"}],\"heatmap\":[{\"colorbar\":{\"outlinewidth\":0,\"ticks\":\"\"},\"colorscale\":[[0.0,\"#0d0887\"],[0.1111111111111111,\"#46039f\"],[0.2222222222222222,\"#7201a8\"],[0.3333333333333333,\"#9c179e\"],[0.4444444444444444,\"#bd3786\"],[0.5555555555555556,\"#d8576b\"],[0.6666666666666666,\"#ed7953\"],[0.7777777777777778,\"#fb9f3a\"],[0.8888888888888888,\"#fdca26\"],[1.0,\"#f0f921\"]],\"type\":\"heatmap\"}],\"heatmapgl\":[{\"colorbar\":{\"outlinewidth\":0,\"ticks\":\"\"},\"colorscale\":[[0.0,\"#0d0887\"],[0.1111111111111111,\"#46039f\"],[0.2222222222222222,\"#7201a8\"],[0.3333333333333333,\"#9c179e\"],[0.4444444444444444,\"#bd3786\"],[0.5555555555555556,\"#d8576b\"],[0.6666666666666666,\"#ed7953\"],[0.7777777777777778,\"#fb9f3a\"],[0.8888888888888888,\"#fdca26\"],[1.0,\"#f0f921\"]],\"type\":\"heatmapgl\"}],\"histogram\":[{\"marker\":{\"pattern\":{\"fillmode\":\"overlay\",\"size\":10,\"solidity\":0.2}},\"type\":\"histogram\"}],\"histogram2d\":[{\"colorbar\":{\"outlinewidth\":0,\"ticks\":\"\"},\"colorscale\":[[0.0,\"#0d0887\"],[0.1111111111111111,\"#46039f\"],[0.2222222222222222,\"#7201a8\"],[0.3333333333333333,\"#9c179e\"],[0.4444444444444444,\"#bd3786\"],[0.5555555555555556,\"#d8576b\"],[0.6666666666666666,\"#ed7953\"],[0.7777777777777778,\"#fb9f3a\"],[0.8888888888888888,\"#fdca26\"],[1.0,\"#f0f921\"]],\"type\":\"histogram2d\"}],\"histogram2dcontour\":[{\"colorbar\":{\"outlinewidth\":0,\"ticks\":\"\"},\"colorscale\":[[0.0,\"#0d0887\"],[0.1111111111111111,\"#46039f\"],[0.2222222222222222,\"#7201a8\"],[0.3333333333333333,\"#9c179e\"],[0.4444444444444444,\"#bd3786\"],[0.5555555555555556,\"#d8576b\"],[0.6666666666666666,\"#ed7953\"],[0.7777777777777778,\"#fb9f3a\"],[0.8888888888888888,\"#fdca26\"],[1.0,\"#f0f921\"]],\"type\":\"histogram2dcontour\"}],\"mesh3d\":[{\"colorbar\":{\"outlinewidth\":0,\"ticks\":\"\"},\"type\":\"mesh3d\"}],\"parcoords\":[{\"line\":{\"colorbar\":{\"outlinewidth\":0,\"ticks\":\"\"}},\"type\":\"parcoords\"}],\"pie\":[{\"automargin\":true,\"type\":\"pie\"}],\"scatter\":[{\"marker\":{\"colorbar\":{\"outlinewidth\":0,\"ticks\":\"\"}},\"type\":\"scatter\"}],\"scatter3d\":[{\"line\":{\"colorbar\":{\"outlinewidth\":0,\"ticks\":\"\"}},\"marker\":{\"colorbar\":{\"outlinewidth\":0,\"ticks\":\"\"}},\"type\":\"scatter3d\"}],\"scattercarpet\":[{\"marker\":{\"colorbar\":{\"outlinewidth\":0,\"ticks\":\"\"}},\"type\":\"scattercarpet\"}],\"scattergeo\":[{\"marker\":{\"colorbar\":{\"outlinewidth\":0,\"ticks\":\"\"}},\"type\":\"scattergeo\"}],\"scattergl\":[{\"marker\":{\"colorbar\":{\"outlinewidth\":0,\"ticks\":\"\"}},\"type\":\"scattergl\"}],\"scattermapbox\":[{\"marker\":{\"colorbar\":{\"outlinewidth\":0,\"ticks\":\"\"}},\"type\":\"scattermapbox\"}],\"scatterpolar\":[{\"marker\":{\"colorbar\":{\"outlinewidth\":0,\"ticks\":\"\"}},\"type\":\"scatterpolar\"}],\"scatterpolargl\":[{\"marker\":{\"colorbar\":{\"outlinewidth\":0,\"ticks\":\"\"}},\"type\":\"scatterpolargl\"}],\"scatterternary\":[{\"marker\":{\"colorbar\":{\"outlinewidth\":0,\"ticks\":\"\"}},\"type\":\"scatterternary\"}],\"surface\":[{\"colorbar\":{\"outlinewidth\":0,\"ticks\":\"\"},\"colorscale\":[[0.0,\"#0d0887\"],[0.1111111111111111,\"#46039f\"],[0.2222222222222222,\"#7201a8\"],[0.3333333333333333,\"#9c179e\"],[0.4444444444444444,\"#bd3786\"],[0.5555555555555556,\"#d8576b\"],[0.6666666666666666,\"#ed7953\"],[0.7777777777777778,\"#fb9f3a\"],[0.8888888888888888,\"#fdca26\"],[1.0,\"#f0f921\"]],\"type\":\"surface\"}],\"table\":[{\"cells\":{\"fill\":{\"color\":\"#EBF0F8\"},\"line\":{\"color\":\"white\"}},\"header\":{\"fill\":{\"color\":\"#C8D4E3\"},\"line\":{\"color\":\"white\"}},\"type\":\"table\"}]},\"layout\":{\"annotationdefaults\":{\"arrowcolor\":\"#2a3f5f\",\"arrowhead\":0,\"arrowwidth\":1},\"autotypenumbers\":\"strict\",\"coloraxis\":{\"colorbar\":{\"outlinewidth\":0,\"ticks\":\"\"}},\"colorscale\":{\"diverging\":[[0,\"#8e0152\"],[0.1,\"#c51b7d\"],[0.2,\"#de77ae\"],[0.3,\"#f1b6da\"],[0.4,\"#fde0ef\"],[0.5,\"#f7f7f7\"],[0.6,\"#e6f5d0\"],[0.7,\"#b8e186\"],[0.8,\"#7fbc41\"],[0.9,\"#4d9221\"],[1,\"#276419\"]],\"sequential\":[[0.0,\"#0d0887\"],[0.1111111111111111,\"#46039f\"],[0.2222222222222222,\"#7201a8\"],[0.3333333333333333,\"#9c179e\"],[0.4444444444444444,\"#bd3786\"],[0.5555555555555556,\"#d8576b\"],[0.6666666666666666,\"#ed7953\"],[0.7777777777777778,\"#fb9f3a\"],[0.8888888888888888,\"#fdca26\"],[1.0,\"#f0f921\"]],\"sequentialminus\":[[0.0,\"#0d0887\"],[0.1111111111111111,\"#46039f\"],[0.2222222222222222,\"#7201a8\"],[0.3333333333333333,\"#9c179e\"],[0.4444444444444444,\"#bd3786\"],[0.5555555555555556,\"#d8576b\"],[0.6666666666666666,\"#ed7953\"],[0.7777777777777778,\"#fb9f3a\"],[0.8888888888888888,\"#fdca26\"],[1.0,\"#f0f921\"]]},\"colorway\":[\"#636efa\",\"#EF553B\",\"#00cc96\",\"#ab63fa\",\"#FFA15A\",\"#19d3f3\",\"#FF6692\",\"#B6E880\",\"#FF97FF\",\"#FECB52\"],\"font\":{\"color\":\"#2a3f5f\"},\"geo\":{\"bgcolor\":\"white\",\"lakecolor\":\"white\",\"landcolor\":\"#E5ECF6\",\"showlakes\":true,\"showland\":true,\"subunitcolor\":\"white\"},\"hoverlabel\":{\"align\":\"left\"},\"hovermode\":\"closest\",\"mapbox\":{\"style\":\"light\"},\"paper_bgcolor\":\"white\",\"plot_bgcolor\":\"#E5ECF6\",\"polar\":{\"angularaxis\":{\"gridcolor\":\"white\",\"linecolor\":\"white\",\"ticks\":\"\"},\"bgcolor\":\"#E5ECF6\",\"radialaxis\":{\"gridcolor\":\"white\",\"linecolor\":\"white\",\"ticks\":\"\"}},\"scene\":{\"xaxis\":{\"backgroundcolor\":\"#E5ECF6\",\"gridcolor\":\"white\",\"gridwidth\":2,\"linecolor\":\"white\",\"showbackground\":true,\"ticks\":\"\",\"zerolinecolor\":\"white\"},\"yaxis\":{\"backgroundcolor\":\"#E5ECF6\",\"gridcolor\":\"white\",\"gridwidth\":2,\"linecolor\":\"white\",\"showbackground\":true,\"ticks\":\"\",\"zerolinecolor\":\"white\"},\"zaxis\":{\"backgroundcolor\":\"#E5ECF6\",\"gridcolor\":\"white\",\"gridwidth\":2,\"linecolor\":\"white\",\"showbackground\":true,\"ticks\":\"\",\"zerolinecolor\":\"white\"}},\"shapedefaults\":{\"line\":{\"color\":\"#2a3f5f\"}},\"ternary\":{\"aaxis\":{\"gridcolor\":\"white\",\"linecolor\":\"white\",\"ticks\":\"\"},\"baxis\":{\"gridcolor\":\"white\",\"linecolor\":\"white\",\"ticks\":\"\"},\"bgcolor\":\"#E5ECF6\",\"caxis\":{\"gridcolor\":\"white\",\"linecolor\":\"white\",\"ticks\":\"\"}},\"title\":{\"x\":0.05},\"xaxis\":{\"automargin\":true,\"gridcolor\":\"white\",\"linecolor\":\"white\",\"ticks\":\"\",\"title\":{\"standoff\":15},\"zerolinecolor\":\"white\",\"zerolinewidth\":2},\"yaxis\":{\"automargin\":true,\"gridcolor\":\"white\",\"linecolor\":\"white\",\"ticks\":\"\",\"title\":{\"standoff\":15},\"zerolinecolor\":\"white\",\"zerolinewidth\":2}}},\"xaxis\":{\"anchor\":\"y\",\"domain\":[0.0,1.0],\"title\":{\"text\":\"total\"}},\"yaxis\":{\"anchor\":\"x\",\"domain\":[0.0,1.0],\"title\":{\"text\":\"RPC\"}},\"legend\":{\"title\":{\"text\":\"owner_ship\"},\"tracegroupgap\":0},\"title\":{\"text\":\"Total vs RVC\"}},                        {\"responsive\": true}                    ).then(function(){\n",
       "                            \n",
       "var gd = document.getElementById('7ae92092-9a58-4553-b217-06ba3014c80b');\n",
       "var x = new MutationObserver(function (mutations, observer) {{\n",
       "        var display = window.getComputedStyle(gd).display;\n",
       "        if (!display || display === 'none') {{\n",
       "            console.log([gd, 'removed!']);\n",
       "            Plotly.purge(gd);\n",
       "            observer.disconnect();\n",
       "        }}\n",
       "}});\n",
       "\n",
       "// Listen for the removal of the full notebook cells\n",
       "var notebookContainer = gd.closest('#notebook-container');\n",
       "if (notebookContainer) {{\n",
       "    x.observe(notebookContainer, {childList: true});\n",
       "}}\n",
       "\n",
       "// Listen for the clearing of the current output cell\n",
       "var outputEl = gd.closest('.output');\n",
       "if (outputEl) {{\n",
       "    x.observe(outputEl, {childList: true});\n",
       "}}\n",
       "\n",
       "                        })                };                });            </script>        </div>"
      ]
     },
     "metadata": {},
     "output_type": "display_data"
    }
   ],
   "source": [
    "fig =px.scatter(data,x='total',y='RPC',color='owner_ship', hover_data=['name'],title='Total vs RVC')\n",
    "fig.show()"
   ]
  },
  {
   "cell_type": "code",
   "execution_count": 527,
   "id": "7d349706",
   "metadata": {},
   "outputs": [
    {
     "data": {
      "image/png": "[encoded data removed]",
      "text/plain": [
       "<Figure size 1152x576 with 6 Axes>"
      ]
     },
     "metadata": {
      "needs_background": "light"
     },
     "output_type": "display_data"
    }
   ],
   "source": [
    "fig, axes = plt.subplots(2, 3, sharex=False, figsize=(16,8))\n",
    "fig.suptitle('Owner Ship with peformance parameter')\n",
    "sns.boxplot(ax=axes[0,0],x=data['owner_ship'],y=data['TLR'])\n",
    "\n",
    "sns.boxplot(ax=axes[0,1],x=data['owner_ship'],y=data['RPC'])\n",
    "\n",
    "sns.boxplot(ax=axes[0,2],x=data['owner_ship'],y=data['go'])\n",
    "\n",
    "sns.boxplot(ax=axes[1,0],x=data['owner_ship'],y=data['oi'])\n",
    "\n",
    "sns.boxplot(ax=axes[1,1],x=data['owner_ship'],y=data['perc'])\n",
    "sns.boxplot(ax=axes[1,2],x=data['owner_ship'],y=data['total'])\n",
    "plt.show()"
   ]
  },
  {
   "cell_type": "markdown",
   "id": "f51f9345",
   "metadata": {},
   "source": [
    "From above graph it is clear that public colleges are dominating in all performance parameter whether it outreach inclusivity\n",
    ", Research area, graduation outcome etc."
   ]
  },
  {
   "cell_type": "code",
   "execution_count": 529,
   "id": "8c5b71bd",
   "metadata": {},
   "outputs": [
    {
     "data": {
      "image/png": "[encoded data removed]",
      "text/plain": [
       "<Figure size 1152x576 with 6 Axes>"
      ]
     },
     "metadata": {
      "needs_background": "light"
     },
     "output_type": "display_data"
    }
   ],
   "source": [
    "fig, axes = plt.subplots(2, 3, sharex=False, figsize=(16,8))\n",
    "fig.suptitle('Densit Plot')\n",
    "sns.kdeplot(ax=axes[0,0],x=data['TLR'])\n",
    "sns.kdeplot(ax=axes[0,1],x=data['RPC'])\n",
    "\n",
    "sns.kdeplot(ax=axes[0,2],x=data['go'])\n",
    "\n",
    "sns.kdeplot(ax=axes[1,0],x=data['oi'])\n",
    "\n",
    "sns.kdeplot(ax=axes[1,1],x=data['perc'])\n",
    "sns.kdeplot(ax=axes[1,2],x=data['total'])\n",
    "plt.show()"
   ]
  },
  {
   "cell_type": "markdown",
   "id": "f4e480b8",
   "metadata": {},
   "source": [
    "From above graph it can be observed that go and oi appears to follow normal distribution however rest of the plots seems to be either right or left skewed"
   ]
  },
  {
   "cell_type": "markdown",
   "id": "27e31c76",
   "metadata": {},
   "source": [
    "# Inferences with hypothesis"
   ]
  },
  {
   "cell_type": "markdown",
   "id": "df44fe2c",
   "metadata": {},
   "source": [
    "Applying normality test Shapiro and Jarque bera on numerical columns to test the normality of variables"
   ]
  },
  {
   "cell_type": "markdown",
   "id": "c7768ac7",
   "metadata": {},
   "source": [
    "Hypothesis of normality test\n",
    "\n",
    "Null hypothesis Ho: means are same or feature is normally distributed\n",
    "\n",
    "Alternative hypothesis H1: featue is not normally distributed"
   ]
  },
  {
   "cell_type": "code",
   "execution_count": 532,
   "id": "2cda6e0f",
   "metadata": {},
   "outputs": [
    {
     "name": "stdout",
     "output_type": "stream",
     "text": [
      "TLR - ShapiroResult(statistic=0.8522736430168152, pvalue=5.55234623469264e-13)\n",
      "RPC - ShapiroResult(statistic=0.8833180665969849, pvalue=2.460988531016728e-11)\n",
      "go - ShapiroResult(statistic=0.989660918712616, pvalue=0.1593538373708725)\n",
      "oi - ShapiroResult(statistic=0.9883754253387451, pvalue=0.1026219055056572)\n",
      "perc - ShapiroResult(statistic=0.744276762008667, pvalue=2.6774380590463413e-17)\n",
      "total - ShapiroResult(statistic=0.8081384301185608, pvalue=5.929714710109458e-15)\n"
     ]
    }
   ],
   "source": [
    "for col in data.iloc[:,4:].columns: # shapirot normality test\n",
    "    print(col,'-',  stats.shapiro(data[col]))\n",
    "    # oi and go normally distributed others are not"
   ]
  },
  {
   "cell_type": "markdown",
   "id": "49131e16",
   "metadata": {},
   "source": [
    "Using p value test and level of signifigance of 0.05, we conclude go and oi posses values greater than 0.05,so we reject\n",
    "null hypothesis in case of go and oi and conclude these two variables follows normal distribution"
   ]
  },
  {
   "cell_type": "markdown",
   "id": "c0446667",
   "metadata": {},
   "source": [
    "Outreach inclusivity and Graduation outcome are the two performance parameter here which follows normal distribution, rest are not normally distributed"
   ]
  },
  {
   "cell_type": "code",
   "execution_count": 535,
   "id": "a0e58f15",
   "metadata": {},
   "outputs": [
    {
     "name": "stdout",
     "output_type": "stream",
     "text": [
      "TLR - Jarque_beraResult(statistic=399.640533557162, pvalue=0.0)\n",
      "RPC - Jarque_beraResult(statistic=60.39168641445908, pvalue=7.693845560652335e-14)\n",
      "go - Jarque_beraResult(statistic=4.120343728786111, pvalue=0.1274320669778619)\n",
      "oi - Jarque_beraResult(statistic=4.920190036042058, pvalue=0.08542683349301283)\n",
      "perc - Jarque_beraResult(statistic=468.2908105333136, pvalue=0.0)\n",
      "total - Jarque_beraResult(statistic=156.9630075465645, pvalue=0.0)\n"
     ]
    }
   ],
   "source": [
    "for col in data.iloc[:,4:].columns:  # jarque bera normality test \n",
    "    print(col,'-', stats.jarque_bera(data[col]))\n",
    "    # oi and go normally distributed others are not even by jarque bera test"
   ]
  },
  {
   "cell_type": "markdown",
   "id": "9bb7102d",
   "metadata": {},
   "source": [
    "Jarque bera test also provide same resutl as it was obtained in the shapiro test"
   ]
  },
  {
   "cell_type": "markdown",
   "id": "4e23ff56",
   "metadata": {},
   "source": [
    "### Going for the non parametric test for the  variable TLR, RPC, perc, total as these are not normally distributed"
   ]
  },
  {
   "cell_type": "code",
   "execution_count": 538,
   "id": "3728f28f",
   "metadata": {},
   "outputs": [],
   "source": [
    "def prepareKruskal(numericSeriesName): # function for the preparation of kruskal  (non parametric test of annova)\n",
    "    public= data[data['owner_ship']=='Public/Government'][numericSeriesName]\n",
    "    private = data[data['owner_ship']=='Private'][numericSeriesName]\n",
    "    return (public,private)"
   ]
  },
  {
   "cell_type": "code",
   "execution_count": 539,
   "id": "df4c88e8",
   "metadata": {},
   "outputs": [
    {
     "name": "stdout",
     "output_type": "stream",
     "text": [
      "KruskalResult(statistic=34.51894150480505, pvalue=4.221235024432624e-09)\n",
      "KruskalResult(statistic=31.99845673246184, pvalue=1.5429510758075902e-08)\n",
      "KruskalResult(statistic=16.169294327688096, pvalue=5.792550377084221e-05)\n",
      "KruskalResult(statistic=13.397217442928824, pvalue=0.00025199785222237227)\n"
     ]
    }
   ],
   "source": [
    "listKruskalVariable = ['total','RPC','perc','TLR']\n",
    "for col in listKruskalVariable:\n",
    "    print(stats.kruskal(prepareKruskal(col)[0],prepareKruskal(col)[1]))"
   ]
  },
  {
   "cell_type": "markdown",
   "id": "56cef330",
   "metadata": {},
   "source": [
    "We Fails to reject null hypothesis here, it means that the private and public ownership effects total, RPC, perc and TLR"
   ]
  },
  {
   "cell_type": "markdown",
   "id": "01076b1e",
   "metadata": {},
   "source": [
    "### Annova test for the graduation outcome and Outreach & inclusivity"
   ]
  },
  {
   "cell_type": "code",
   "execution_count": 540,
   "id": "f8301edc",
   "metadata": {},
   "outputs": [
    {
     "name": "stdout",
     "output_type": "stream",
     "text": [
      "go - LeveneResult(statistic=21.327749034245823, pvalue=6.9578834951644725e-06)\n",
      "oi - LeveneResult(statistic=0.014034030355529864, pvalue=0.9058190749375966)\n"
     ]
    }
   ],
   "source": [
    "# go and oi are normal\n",
    "# now going for levene test to make sure that the data is coming from same population\n",
    "for col in ['go','oi']:\n",
    "    print(col,'-',stats.levene(prepareKruskal(col)[0],prepareKruskal(col)[1]))\n",
    "# population variation same for io but different for go\n",
    "# we will go for non parametric test for the go() and parametric test for the oi (f-one way)"
   ]
  },
  {
   "cell_type": "markdown",
   "id": "54f8173b",
   "metadata": {},
   "source": [
    "p value for go is less than signifigance level and greater in case of oi , we conclude go has no equal variance while population\n",
    "of oi has equal variance. Further we would like to apply parametric test annova for oi and kruskal for go "
   ]
  },
  {
   "cell_type": "code",
   "execution_count": 546,
   "id": "23e20073",
   "metadata": {},
   "outputs": [
    {
     "name": "stdout",
     "output_type": "stream",
     "text": [
      "go KruskalResult(statistic=23.59414245280757, pvalue=1.1894905765095415e-06)\n",
      "                          go\n",
      "owner_ship                  \n",
      "Private            54.858000\n",
      "Public/Government  62.754889\n"
     ]
    }
   ],
   "source": [
    "### Kruskal test for the go\n",
    "print('go', stats.kruskal(prepareKruskal('go')[0],prepareKruskal('go')[1]))\n",
    "print(pd.pivot_table(data,index='owner_ship',values='go'))\n",
    "# go impacts"
   ]
  },
  {
   "cell_type": "markdown",
   "id": "24d53248",
   "metadata": {},
   "source": [
    "p value is less that 0.05, rejecting null hypothesis , it make sure that with more than 99% confidence we can say that gradution outcome is impacted from ownership of the college\n",
    "\n",
    "Public colleges offer better graduation outcome than private colleges"
   ]
  },
  {
   "cell_type": "code",
   "execution_count": 550,
   "id": "0e84821d",
   "metadata": {},
   "outputs": [
    {
     "data": {
      "text/plain": [
       "F_onewayResult(statistic=0.29555810904211105, pvalue=0.5872921691747065)"
      ]
     },
     "execution_count": 550,
     "metadata": {},
     "output_type": "execute_result"
    }
   ],
   "source": [
    "### oi one way-annova test\n",
    "stats.f_oneway(prepareKruskal('oi')[0],prepareKruskal('oi')[1])\n",
    "# impacts"
   ]
  },
  {
   "cell_type": "markdown",
   "id": "7923884d",
   "metadata": {},
   "source": [
    "p value is very high for the above hypothesis, here we fail to reject null hypothesis, it means outreach and inclusivity\n",
    "is not effected on the basis of ownership of college"
   ]
  },
  {
   "cell_type": "code",
   "execution_count": 553,
   "id": "76785f06",
   "metadata": {},
   "outputs": [
    {
     "name": "stdout",
     "output_type": "stream",
     "text": [
      "f critical 3.8886126124173037\n"
     ]
    }
   ],
   "source": [
    "print('f critical',stats.f.isf(0.05,1,199))"
   ]
  },
  {
   "cell_type": "markdown",
   "id": "b54bf5f8",
   "metadata": {},
   "source": [
    "### Factors impacting total rating"
   ]
  },
  {
   "cell_type": "code",
   "execution_count": 555,
   "id": "671e6310",
   "metadata": {},
   "outputs": [
    {
     "data": {
      "text/html": [
       "<div>\n",
       "<style scoped>\n",
       "    .dataframe tbody tr th:only-of-type {\n",
       "        vertical-align: middle;\n",
       "    }\n",
       "\n",
       "    .dataframe tbody tr th {\n",
       "        vertical-align: top;\n",
       "    }\n",
       "\n",
       "    .dataframe thead th {\n",
       "        text-align: right;\n",
       "    }\n",
       "</style>\n",
       "<table border=\"1\" class=\"dataframe\">\n",
       "  <thead>\n",
       "    <tr style=\"text-align: right;\">\n",
       "      <th></th>\n",
       "      <th>total</th>\n",
       "    </tr>\n",
       "    <tr>\n",
       "      <th>grade</th>\n",
       "      <th></th>\n",
       "    </tr>\n",
       "  </thead>\n",
       "  <tbody>\n",
       "    <tr>\n",
       "      <th>AA</th>\n",
       "      <td>37.790000</td>\n",
       "    </tr>\n",
       "    <tr>\n",
       "      <th>AAA</th>\n",
       "      <td>36.640333</td>\n",
       "    </tr>\n",
       "    <tr>\n",
       "      <th>AAAA</th>\n",
       "      <td>41.828222</td>\n",
       "    </tr>\n",
       "    <tr>\n",
       "      <th>AAAAA</th>\n",
       "      <td>62.618529</td>\n",
       "    </tr>\n",
       "  </tbody>\n",
       "</table>\n",
       "</div>"
      ],
      "text/plain": [
       "           total\n",
       "grade           \n",
       "AA     37.790000\n",
       "AAA    36.640333\n",
       "AAAA   41.828222\n",
       "AAAAA  62.618529"
      ]
     },
     "execution_count": 555,
     "metadata": {},
     "output_type": "execute_result"
    }
   ],
   "source": [
    "pd.pivot_table(data, values='total',index='grade')"
   ]
  },
  {
   "cell_type": "code",
   "execution_count": 562,
   "id": "c4c7a45b",
   "metadata": {},
   "outputs": [],
   "source": [
    "# null hypothesis Ho: total rating does not impacted by grades\n",
    "# alternate hypothesis h1: grades impacts total rating"
   ]
  },
  {
   "cell_type": "code",
   "execution_count": 563,
   "id": "626b1c76",
   "metadata": {},
   "outputs": [],
   "source": [
    "def prepareKruskalGrade(numericSeriesName): # function for the preparation of kruskal \n",
    "    AA= data[data['grade']=='AA'][numericSeriesName]\n",
    "    AAA = data[data['grade']=='AAA'][numericSeriesName]\n",
    "    AAAA = data[data['grade']=='AAAA'][numericSeriesName]\n",
    "    AAAAA = data[data['grade']=='AAAAA'][numericSeriesName]\n",
    "    return (AA,AAA,AAAA,AAAAA)"
   ]
  },
  {
   "cell_type": "code",
   "execution_count": 564,
   "id": "6f6f736a",
   "metadata": {},
   "outputs": [
    {
     "data": {
      "text/plain": [
       "KruskalResult(statistic=88.77195392629162, pvalue=4.020732928287061e-19)"
      ]
     },
     "execution_count": 564,
     "metadata": {},
     "output_type": "execute_result"
    }
   ],
   "source": [
    "stats.kruskal(prepareKruskalGrade('total')[0],\n",
    "              prepareKruskalGrade('total')[1],\n",
    "              prepareKruskalGrade('total')[2],\n",
    "              prepareKruskalGrade('total')[3]\n",
    "             )"
   ]
  },
  {
   "cell_type": "markdown",
   "id": "6d97161a",
   "metadata": {},
   "source": [
    "The p value is almost zerot, it means we convicts more than 99% confidence that grades impacts total rating\n",
    "\n",
    "Higher grades effects the rating positively"
   ]
  },
  {
   "cell_type": "code",
   "execution_count": 565,
   "id": "f8557d59",
   "metadata": {},
   "outputs": [
    {
     "data": {
      "text/html": [
       "<div>\n",
       "<style scoped>\n",
       "    .dataframe tbody tr th:only-of-type {\n",
       "        vertical-align: middle;\n",
       "    }\n",
       "\n",
       "    .dataframe tbody tr th {\n",
       "        vertical-align: top;\n",
       "    }\n",
       "\n",
       "    .dataframe thead th {\n",
       "        text-align: right;\n",
       "    }\n",
       "</style>\n",
       "<table border=\"1\" class=\"dataframe\">\n",
       "  <thead>\n",
       "    <tr style=\"text-align: right;\">\n",
       "      <th></th>\n",
       "      <th>total</th>\n",
       "      <th>name</th>\n",
       "      <th>category</th>\n",
       "    </tr>\n",
       "  </thead>\n",
       "  <tbody>\n",
       "    <tr>\n",
       "      <th>195</th>\n",
       "      <td>33.90</td>\n",
       "      <td>KLE Technological University, Hubballi</td>\n",
       "      <td>other</td>\n",
       "    </tr>\n",
       "    <tr>\n",
       "      <th>196</th>\n",
       "      <td>33.88</td>\n",
       "      <td>DJSCE Mumbai - Dwarkadas J Sanghvi College of ...</td>\n",
       "      <td>other</td>\n",
       "    </tr>\n",
       "    <tr>\n",
       "      <th>197</th>\n",
       "      <td>33.77</td>\n",
       "      <td>SVCET Chittoor - Sri Venkateswara College of E...</td>\n",
       "      <td>other</td>\n",
       "    </tr>\n",
       "    <tr>\n",
       "      <th>198</th>\n",
       "      <td>33.76</td>\n",
       "      <td>BMSIT Bangalore - BMS Institute of Technology ...</td>\n",
       "      <td>other</td>\n",
       "    </tr>\n",
       "    <tr>\n",
       "      <th>199</th>\n",
       "      <td>33.70</td>\n",
       "      <td>VJIT Hyderabad - Vidya Jyothi Institute of Tec...</td>\n",
       "      <td>other</td>\n",
       "    </tr>\n",
       "  </tbody>\n",
       "</table>\n",
       "</div>"
      ],
      "text/plain": [
       "     total                                               name category\n",
       "195  33.90             KLE Technological University, Hubballi    other\n",
       "196  33.88  DJSCE Mumbai - Dwarkadas J Sanghvi College of ...    other\n",
       "197  33.77  SVCET Chittoor - Sri Venkateswara College of E...    other\n",
       "198  33.76  BMSIT Bangalore - BMS Institute of Technology ...    other\n",
       "199  33.70  VJIT Hyderabad - Vidya Jyothi Institute of Tec...    other"
      ]
     },
     "execution_count": 565,
     "metadata": {},
     "output_type": "execute_result"
    }
   ],
   "source": [
    "# category vs total\n",
    "\n",
    "# null hypothesis Ho: total rating does not impacted by category\n",
    "# alternate hypothesis h1: category impacts total rating\n",
    "data1 = data[['total','name']].copy()\n",
    "data1['category'] = data['name'].apply(Categorization)\n",
    "data1.tail()"
   ]
  },
  {
   "cell_type": "code",
   "execution_count": 566,
   "id": "adc14f0e",
   "metadata": {},
   "outputs": [],
   "source": [
    "def prepareKruskalCategory(numericSeriesName): # function for the preparation of kruskal \n",
    "    iit= data1[data1['category']=='IIT'][numericSeriesName]\n",
    "    nit = data1[data1['category']=='NIT'][numericSeriesName]\n",
    "    other = data1[data1['category']=='other'][numericSeriesName]\n",
    "    return (iit,nit,other)"
   ]
  },
  {
   "cell_type": "code",
   "execution_count": 567,
   "id": "2dab712f",
   "metadata": {},
   "outputs": [
    {
     "data": {
      "text/plain": [
       "KruskalResult(statistic=41.365253318780006, pvalue=1.0414762497355796e-09)"
      ]
     },
     "execution_count": 567,
     "metadata": {},
     "output_type": "execute_result"
    }
   ],
   "source": [
    "stats.kruskal(prepareKruskalCategory('total')[0],\n",
    "              prepareKruskalCategory('total')[1],\n",
    "              prepareKruskalCategory('total')[2]\n",
    "             ) # impacts"
   ]
  },
  {
   "cell_type": "code",
   "execution_count": 568,
   "id": "a391a30f",
   "metadata": {},
   "outputs": [
    {
     "data": {
      "text/html": [
       "<div>\n",
       "<style scoped>\n",
       "    .dataframe tbody tr th:only-of-type {\n",
       "        vertical-align: middle;\n",
       "    }\n",
       "\n",
       "    .dataframe tbody tr th {\n",
       "        vertical-align: top;\n",
       "    }\n",
       "\n",
       "    .dataframe thead th {\n",
       "        text-align: right;\n",
       "    }\n",
       "</style>\n",
       "<table border=\"1\" class=\"dataframe\">\n",
       "  <thead>\n",
       "    <tr style=\"text-align: right;\">\n",
       "      <th></th>\n",
       "      <th>total</th>\n",
       "    </tr>\n",
       "    <tr>\n",
       "      <th>category</th>\n",
       "      <th></th>\n",
       "    </tr>\n",
       "  </thead>\n",
       "  <tbody>\n",
       "    <tr>\n",
       "      <th>IIT</th>\n",
       "      <td>57.629667</td>\n",
       "    </tr>\n",
       "    <tr>\n",
       "      <th>NIT</th>\n",
       "      <td>47.882143</td>\n",
       "    </tr>\n",
       "    <tr>\n",
       "      <th>other</th>\n",
       "      <td>41.149648</td>\n",
       "    </tr>\n",
       "  </tbody>\n",
       "</table>\n",
       "</div>"
      ],
      "text/plain": [
       "              total\n",
       "category           \n",
       "IIT       57.629667\n",
       "NIT       47.882143\n",
       "other     41.149648"
      ]
     },
     "execution_count": 568,
     "metadata": {},
     "output_type": "execute_result"
    }
   ],
   "source": [
    "pd.pivot_table(data1,values ='total',index='category')"
   ]
  },
  {
   "cell_type": "markdown",
   "id": "770f6b23",
   "metadata": {},
   "source": [
    "p vaue of the test is almost zero, so rejecting null hypothesis , with more than 99% confidence level we observed that\n",
    "category impacts total rating. \n",
    "\n",
    "IIT college's rating is higher while NIT and other lie below respectively"
   ]
  },
  {
   "cell_type": "markdown",
   "id": "cbe05641",
   "metadata": {},
   "source": [
    "# Conclusion"
   ]
  },
  {
   "cell_type": "markdown",
   "id": "4f354a88",
   "metadata": {},
   "source": [
    "The data contains 45% private engineering colleges and 55% government colleges\n",
    "\n",
    "Out of these 15% are the IIT engineering colleges and 14% NIT that contribute to \n",
    "the 200 top engineering college of India\n",
    "\n",
    "Most of the colleges tat are coming at the top contains grade AAAA, there is no A grade\n",
    "college that lies in the top 200 engineering colleges\n",
    "\n",
    "With the correlation matrix , it is observed that most the rating are correlated\n",
    "with each other. For example peer perception about college is positively correlated the \n",
    "research practices of the college. Similarly, outreach inclusivity (oi) is linked with\n",
    "Teaching learning Resource  (TLR)\n",
    "\n",
    "With the box plot , it is observed that government colleges are most likely to perform better\n",
    "in all performance criteria like TLR, oi, RPC, perc, go etc.\n",
    "\n",
    "Shapiro test confirms that the for oi and go was normally distributed while rest of the\n",
    "numerical features did not follow normal distribution.\n",
    "\n",
    "Using hypothesis tests we make some relevant remarks like \n",
    "1. graduation outcome are better in government college compare to private college\n",
    "2. Outreach inclusivity is not affected by the ownership of colleges\n",
    "3. Grading impacts the total rating , higher grading leads to good total rating of the college\n",
    "4. Ownership of the college impacts the total rating.  \n",
    "Government colleges likely to provide good research practices, learning and teaching\n",
    "and good perception about the college in peer groups. "
   ]
  },
  {
   "cell_type": "markdown",
   "id": "340fbc9c",
   "metadata": {},
   "source": [
    "# Thank you!"
   ]
  }
 ],
 "metadata": {
  "kernelspec": {
   "display_name": "Python 3 (ipykernel)",
   "language": "python",
   "name": "python3"
  },
  "language_info": {
   "codemirror_mode": {
    "name": "ipython",
    "version": 3
   },
   "file_extension": ".py",
   "mimetype": "text/x-python",
   "name": "python",
   "nbconvert_exporter": "python",
   "pygments_lexer": "ipython3",
   "version": "3.8.8"
  }
 },
 "nbformat": 4,
 "nbformat_minor": 5
}
